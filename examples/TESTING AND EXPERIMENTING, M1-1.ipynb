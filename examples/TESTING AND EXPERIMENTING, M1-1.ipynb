{
 "cells": [
  {
   "cell_type": "markdown",
   "id": "852f3819",
   "metadata": {},
   "source": [
    "### Testing of the code during development\n",
    "\n",
    "Looking at the M1-1 dataset"
   ]
  },
  {
   "cell_type": "code",
   "execution_count": 3,
   "id": "9d439548",
   "metadata": {},
   "outputs": [
    {
     "name": "stderr",
     "output_type": "stream",
     "text": [
      "playsound is relying on another python subprocess. Please use `pip install pygobject` if you want playsound to run more efficiently.\n"
     ]
    }
   ],
   "source": [
    "import os\n",
    "import glob\n",
    "from oyv.imports import *\n",
    "import importlib\n",
    "import warnings"
   ]
  },
  {
   "cell_type": "markdown",
   "id": "47c95c6f",
   "metadata": {},
   "source": [
    "### Find modules and  files"
   ]
  },
  {
   "cell_type": "code",
   "execution_count": 19,
   "id": "0c77241c",
   "metadata": {},
   "outputs": [],
   "source": [
    "# Load the modules\n",
    "os.chdir('/home/oyvindl/work/code/git_public/sigpyproc/examples/')\n",
    "os.chdir('../')\n",
    "from sigpyproc import sig_load, sig_append, sig_calc, sig_draft, sig_open_water_correction\n",
    "os.chdir('examples/')"
   ]
  },
  {
   "cell_type": "code",
   "execution_count": 27,
   "id": "a2281ada",
   "metadata": {},
   "outputs": [],
   "source": [
    "# Load converted data from M1-1\n",
    "floc = '/media/oyvindl/ratatosk/data/mooring_data/signature500/m1_1/converted/*'\n",
    "flist = glob.glob(floc)\n",
    "for fn in flist:\n",
    "    if '_avgd' in fn:\n",
    "        flist.remove(fn)"
   ]
  },
  {
   "cell_type": "code",
   "execution_count": 28,
   "id": "9789dab8",
   "metadata": {},
   "outputs": [
    {
     "data": {
      "text/plain": [
       "['/media/oyvindl/ratatosk/data/mooring_data/signature500/m1_1/converted/S100812A002_AeN_M1_7.mat',\n",
       " '/media/oyvindl/ratatosk/data/mooring_data/signature500/m1_1/converted/S100812A002_AeN_M1_01_1.mat',\n",
       " '/media/oyvindl/ratatosk/data/mooring_data/signature500/m1_1/converted/S100812A002_AeN_M1_01_2.mat',\n",
       " '/media/oyvindl/ratatosk/data/mooring_data/signature500/m1_1/converted/S100812A002_AeN_M1_01_3.mat',\n",
       " '/media/oyvindl/ratatosk/data/mooring_data/signature500/m1_1/converted/S100812A002_AeN_M1_01_4.mat',\n",
       " '/media/oyvindl/ratatosk/data/mooring_data/signature500/m1_1/converted/S100812A002_AeN_M1_01_5.mat',\n",
       " '/media/oyvindl/ratatosk/data/mooring_data/signature500/m1_1/converted/S100812A002_AeN_M1_01_6.mat',\n",
       " '/media/oyvindl/ratatosk/data/mooring_data/signature500/m1_1/converted/S100812A002_AeN_M1_01_7.mat',\n",
       " '/media/oyvindl/ratatosk/data/mooring_data/signature500/m1_1/converted/S100812A002_AeN_M1_01_8.mat',\n",
       " '/media/oyvindl/ratatosk/data/mooring_data/signature500/m1_1/converted/S100812A002_AeN_M1_1.mat',\n",
       " '/media/oyvindl/ratatosk/data/mooring_data/signature500/m1_1/converted/S100812A002_AeN_M1_2.mat',\n",
       " '/media/oyvindl/ratatosk/data/mooring_data/signature500/m1_1/converted/S100812A002_AeN_M1_3.mat',\n",
       " '/media/oyvindl/ratatosk/data/mooring_data/signature500/m1_1/converted/S100812A002_AeN_M1_4.mat',\n",
       " '/media/oyvindl/ratatosk/data/mooring_data/signature500/m1_1/converted/S100812A002_AeN_M1_5.mat',\n",
       " '/media/oyvindl/ratatosk/data/mooring_data/signature500/m1_1/converted/S100812A002_AeN_M1_6.mat']"
      ]
     },
     "execution_count": 28,
     "metadata": {},
     "output_type": "execute_result"
    }
   ],
   "source": [
    "flist"
   ]
  },
  {
   "cell_type": "markdown",
   "id": "cccb2f9e",
   "metadata": {},
   "source": [
    "### Make Dataset"
   ]
  },
  {
   "cell_type": "code",
   "execution_count": 6,
   "id": "bbf3234e",
   "metadata": {},
   "outputs": [
    {
     "name": "stdout",
     "output_type": "stream",
     "text": [
      "N_M1_6.mat: CONCATENATING (print: first = False)....ure....\r"
     ]
    },
    {
     "name": "stderr",
     "output_type": "stream",
     "text": [
      "/home/oyvindl/work/code/git_public/sigpyproc/sigpyproc/sig_append.py:274: RuntimeWarning: invalid value encountered in sqrt\n",
      "  180 / np.pi* np.arccos(np.sqrt(\n",
      "/home/oyvindl/work/code/git_public/sigpyproc/sigpyproc/sig_append.py:283: RuntimeWarning: invalid value encountered in sqrt\n",
      "  180 / np.pi* np.arccos(np.sqrt(\n"
     ]
    },
    {
     "name": "stdout",
     "output_type": "stream",
     "text": [
      "1870992 time points, 38979 ensembles. Sample per ensemble: 48\n",
      "Done. Run sig_funcs.overview() to print some additional details.\n"
     ]
    }
   ],
   "source": [
    "DX = sig_load.matfiles_to_dataset(flist)"
   ]
  },
  {
   "cell_type": "code",
   "execution_count": 30,
   "id": "d931784f",
   "metadata": {},
   "outputs": [
    {
     "data": {
      "text/html": [
       "<div><svg style=\"position: absolute; width: 0; height: 0; overflow: hidden\">\n",
       "<defs>\n",
       "<symbol id=\"icon-database\" viewBox=\"0 0 32 32\">\n",
       "<path d=\"M16 0c-8.837 0-16 2.239-16 5v4c0 2.761 7.163 5 16 5s16-2.239 16-5v-4c0-2.761-7.163-5-16-5z\"></path>\n",
       "<path d=\"M16 17c-8.837 0-16-2.239-16-5v6c0 2.761 7.163 5 16 5s16-2.239 16-5v-6c0 2.761-7.163 5-16 5z\"></path>\n",
       "<path d=\"M16 26c-8.837 0-16-2.239-16-5v6c0 2.761 7.163 5 16 5s16-2.239 16-5v-6c0 2.761-7.163 5-16 5z\"></path>\n",
       "</symbol>\n",
       "<symbol id=\"icon-file-text2\" viewBox=\"0 0 32 32\">\n",
       "<path d=\"M28.681 7.159c-0.694-0.947-1.662-2.053-2.724-3.116s-2.169-2.030-3.116-2.724c-1.612-1.182-2.393-1.319-2.841-1.319h-15.5c-1.378 0-2.5 1.121-2.5 2.5v27c0 1.378 1.122 2.5 2.5 2.5h23c1.378 0 2.5-1.122 2.5-2.5v-19.5c0-0.448-0.137-1.23-1.319-2.841zM24.543 5.457c0.959 0.959 1.712 1.825 2.268 2.543h-4.811v-4.811c0.718 0.556 1.584 1.309 2.543 2.268zM28 29.5c0 0.271-0.229 0.5-0.5 0.5h-23c-0.271 0-0.5-0.229-0.5-0.5v-27c0-0.271 0.229-0.5 0.5-0.5 0 0 15.499-0 15.5 0v7c0 0.552 0.448 1 1 1h7v19.5z\"></path>\n",
       "<path d=\"M23 26h-14c-0.552 0-1-0.448-1-1s0.448-1 1-1h14c0.552 0 1 0.448 1 1s-0.448 1-1 1z\"></path>\n",
       "<path d=\"M23 22h-14c-0.552 0-1-0.448-1-1s0.448-1 1-1h14c0.552 0 1 0.448 1 1s-0.448 1-1 1z\"></path>\n",
       "<path d=\"M23 18h-14c-0.552 0-1-0.448-1-1s0.448-1 1-1h14c0.552 0 1 0.448 1 1s-0.448 1-1 1z\"></path>\n",
       "</symbol>\n",
       "</defs>\n",
       "</svg>\n",
       "<style>/* CSS stylesheet for displaying xarray objects in jupyterlab.\n",
       " *\n",
       " */\n",
       "\n",
       ":root {\n",
       "  --xr-font-color0: var(--jp-content-font-color0, rgba(0, 0, 0, 1));\n",
       "  --xr-font-color2: var(--jp-content-font-color2, rgba(0, 0, 0, 0.54));\n",
       "  --xr-font-color3: var(--jp-content-font-color3, rgba(0, 0, 0, 0.38));\n",
       "  --xr-border-color: var(--jp-border-color2, #e0e0e0);\n",
       "  --xr-disabled-color: var(--jp-layout-color3, #bdbdbd);\n",
       "  --xr-background-color: var(--jp-layout-color0, white);\n",
       "  --xr-background-color-row-even: var(--jp-layout-color1, white);\n",
       "  --xr-background-color-row-odd: var(--jp-layout-color2, #eeeeee);\n",
       "}\n",
       "\n",
       "html[theme=dark],\n",
       "body.vscode-dark {\n",
       "  --xr-font-color0: rgba(255, 255, 255, 1);\n",
       "  --xr-font-color2: rgba(255, 255, 255, 0.54);\n",
       "  --xr-font-color3: rgba(255, 255, 255, 0.38);\n",
       "  --xr-border-color: #1F1F1F;\n",
       "  --xr-disabled-color: #515151;\n",
       "  --xr-background-color: #111111;\n",
       "  --xr-background-color-row-even: #111111;\n",
       "  --xr-background-color-row-odd: #313131;\n",
       "}\n",
       "\n",
       ".xr-wrap {\n",
       "  display: block;\n",
       "  min-width: 300px;\n",
       "  max-width: 700px;\n",
       "}\n",
       "\n",
       ".xr-text-repr-fallback {\n",
       "  /* fallback to plain text repr when CSS is not injected (untrusted notebook) */\n",
       "  display: none;\n",
       "}\n",
       "\n",
       ".xr-header {\n",
       "  padding-top: 6px;\n",
       "  padding-bottom: 6px;\n",
       "  margin-bottom: 4px;\n",
       "  border-bottom: solid 1px var(--xr-border-color);\n",
       "}\n",
       "\n",
       ".xr-header > div,\n",
       ".xr-header > ul {\n",
       "  display: inline;\n",
       "  margin-top: 0;\n",
       "  margin-bottom: 0;\n",
       "}\n",
       "\n",
       ".xr-obj-type,\n",
       ".xr-array-name {\n",
       "  margin-left: 2px;\n",
       "  margin-right: 10px;\n",
       "}\n",
       "\n",
       ".xr-obj-type {\n",
       "  color: var(--xr-font-color2);\n",
       "}\n",
       "\n",
       ".xr-sections {\n",
       "  padding-left: 0 !important;\n",
       "  display: grid;\n",
       "  grid-template-columns: 150px auto auto 1fr 20px 20px;\n",
       "}\n",
       "\n",
       ".xr-section-item {\n",
       "  display: contents;\n",
       "}\n",
       "\n",
       ".xr-section-item input {\n",
       "  display: none;\n",
       "}\n",
       "\n",
       ".xr-section-item input + label {\n",
       "  color: var(--xr-disabled-color);\n",
       "}\n",
       "\n",
       ".xr-section-item input:enabled + label {\n",
       "  cursor: pointer;\n",
       "  color: var(--xr-font-color2);\n",
       "}\n",
       "\n",
       ".xr-section-item input:enabled + label:hover {\n",
       "  color: var(--xr-font-color0);\n",
       "}\n",
       "\n",
       ".xr-section-summary {\n",
       "  grid-column: 1;\n",
       "  color: var(--xr-font-color2);\n",
       "  font-weight: 500;\n",
       "}\n",
       "\n",
       ".xr-section-summary > span {\n",
       "  display: inline-block;\n",
       "  padding-left: 0.5em;\n",
       "}\n",
       "\n",
       ".xr-section-summary-in:disabled + label {\n",
       "  color: var(--xr-font-color2);\n",
       "}\n",
       "\n",
       ".xr-section-summary-in + label:before {\n",
       "  display: inline-block;\n",
       "  content: '►';\n",
       "  font-size: 11px;\n",
       "  width: 15px;\n",
       "  text-align: center;\n",
       "}\n",
       "\n",
       ".xr-section-summary-in:disabled + label:before {\n",
       "  color: var(--xr-disabled-color);\n",
       "}\n",
       "\n",
       ".xr-section-summary-in:checked + label:before {\n",
       "  content: '▼';\n",
       "}\n",
       "\n",
       ".xr-section-summary-in:checked + label > span {\n",
       "  display: none;\n",
       "}\n",
       "\n",
       ".xr-section-summary,\n",
       ".xr-section-inline-details {\n",
       "  padding-top: 4px;\n",
       "  padding-bottom: 4px;\n",
       "}\n",
       "\n",
       ".xr-section-inline-details {\n",
       "  grid-column: 2 / -1;\n",
       "}\n",
       "\n",
       ".xr-section-details {\n",
       "  display: none;\n",
       "  grid-column: 1 / -1;\n",
       "  margin-bottom: 5px;\n",
       "}\n",
       "\n",
       ".xr-section-summary-in:checked ~ .xr-section-details {\n",
       "  display: contents;\n",
       "}\n",
       "\n",
       ".xr-array-wrap {\n",
       "  grid-column: 1 / -1;\n",
       "  display: grid;\n",
       "  grid-template-columns: 20px auto;\n",
       "}\n",
       "\n",
       ".xr-array-wrap > label {\n",
       "  grid-column: 1;\n",
       "  vertical-align: top;\n",
       "}\n",
       "\n",
       ".xr-preview {\n",
       "  color: var(--xr-font-color3);\n",
       "}\n",
       "\n",
       ".xr-array-preview,\n",
       ".xr-array-data {\n",
       "  padding: 0 5px !important;\n",
       "  grid-column: 2;\n",
       "}\n",
       "\n",
       ".xr-array-data,\n",
       ".xr-array-in:checked ~ .xr-array-preview {\n",
       "  display: none;\n",
       "}\n",
       "\n",
       ".xr-array-in:checked ~ .xr-array-data,\n",
       ".xr-array-preview {\n",
       "  display: inline-block;\n",
       "}\n",
       "\n",
       ".xr-dim-list {\n",
       "  display: inline-block !important;\n",
       "  list-style: none;\n",
       "  padding: 0 !important;\n",
       "  margin: 0;\n",
       "}\n",
       "\n",
       ".xr-dim-list li {\n",
       "  display: inline-block;\n",
       "  padding: 0;\n",
       "  margin: 0;\n",
       "}\n",
       "\n",
       ".xr-dim-list:before {\n",
       "  content: '(';\n",
       "}\n",
       "\n",
       ".xr-dim-list:after {\n",
       "  content: ')';\n",
       "}\n",
       "\n",
       ".xr-dim-list li:not(:last-child):after {\n",
       "  content: ',';\n",
       "  padding-right: 5px;\n",
       "}\n",
       "\n",
       ".xr-has-index {\n",
       "  font-weight: bold;\n",
       "}\n",
       "\n",
       ".xr-var-list,\n",
       ".xr-var-item {\n",
       "  display: contents;\n",
       "}\n",
       "\n",
       ".xr-var-item > div,\n",
       ".xr-var-item label,\n",
       ".xr-var-item > .xr-var-name span {\n",
       "  background-color: var(--xr-background-color-row-even);\n",
       "  margin-bottom: 0;\n",
       "}\n",
       "\n",
       ".xr-var-item > .xr-var-name:hover span {\n",
       "  padding-right: 5px;\n",
       "}\n",
       "\n",
       ".xr-var-list > li:nth-child(odd) > div,\n",
       ".xr-var-list > li:nth-child(odd) > label,\n",
       ".xr-var-list > li:nth-child(odd) > .xr-var-name span {\n",
       "  background-color: var(--xr-background-color-row-odd);\n",
       "}\n",
       "\n",
       ".xr-var-name {\n",
       "  grid-column: 1;\n",
       "}\n",
       "\n",
       ".xr-var-dims {\n",
       "  grid-column: 2;\n",
       "}\n",
       "\n",
       ".xr-var-dtype {\n",
       "  grid-column: 3;\n",
       "  text-align: right;\n",
       "  color: var(--xr-font-color2);\n",
       "}\n",
       "\n",
       ".xr-var-preview {\n",
       "  grid-column: 4;\n",
       "}\n",
       "\n",
       ".xr-var-name,\n",
       ".xr-var-dims,\n",
       ".xr-var-dtype,\n",
       ".xr-preview,\n",
       ".xr-attrs dt {\n",
       "  white-space: nowrap;\n",
       "  overflow: hidden;\n",
       "  text-overflow: ellipsis;\n",
       "  padding-right: 10px;\n",
       "}\n",
       "\n",
       ".xr-var-name:hover,\n",
       ".xr-var-dims:hover,\n",
       ".xr-var-dtype:hover,\n",
       ".xr-attrs dt:hover {\n",
       "  overflow: visible;\n",
       "  width: auto;\n",
       "  z-index: 1;\n",
       "}\n",
       "\n",
       ".xr-var-attrs,\n",
       ".xr-var-data {\n",
       "  display: none;\n",
       "  background-color: var(--xr-background-color) !important;\n",
       "  padding-bottom: 5px !important;\n",
       "}\n",
       "\n",
       ".xr-var-attrs-in:checked ~ .xr-var-attrs,\n",
       ".xr-var-data-in:checked ~ .xr-var-data {\n",
       "  display: block;\n",
       "}\n",
       "\n",
       ".xr-var-data > table {\n",
       "  float: right;\n",
       "}\n",
       "\n",
       ".xr-var-name span,\n",
       ".xr-var-data,\n",
       ".xr-attrs {\n",
       "  padding-left: 25px !important;\n",
       "}\n",
       "\n",
       ".xr-attrs,\n",
       ".xr-var-attrs,\n",
       ".xr-var-data {\n",
       "  grid-column: 1 / -1;\n",
       "}\n",
       "\n",
       "dl.xr-attrs {\n",
       "  padding: 0;\n",
       "  margin: 0;\n",
       "  display: grid;\n",
       "  grid-template-columns: 125px auto;\n",
       "}\n",
       "\n",
       ".xr-attrs dt,\n",
       ".xr-attrs dd {\n",
       "  padding: 0;\n",
       "  margin: 0;\n",
       "  float: left;\n",
       "  padding-right: 10px;\n",
       "  width: auto;\n",
       "}\n",
       "\n",
       ".xr-attrs dt {\n",
       "  font-weight: normal;\n",
       "  grid-column: 1;\n",
       "}\n",
       "\n",
       ".xr-attrs dt:hover span {\n",
       "  display: inline-block;\n",
       "  background: var(--xr-background-color);\n",
       "  padding-right: 10px;\n",
       "}\n",
       "\n",
       ".xr-attrs dd {\n",
       "  grid-column: 2;\n",
       "  white-space: pre-wrap;\n",
       "  word-break: break-all;\n",
       "}\n",
       "\n",
       ".xr-icon-database,\n",
       ".xr-icon-file-text2 {\n",
       "  display: inline-block;\n",
       "  vertical-align: middle;\n",
       "  width: 1em;\n",
       "  height: 1.5em !important;\n",
       "  stroke-width: 0;\n",
       "  stroke: currentColor;\n",
       "  fill: currentColor;\n",
       "}\n",
       "</style><pre class='xr-text-repr-fallback'>&lt;xarray.DataArray &#x27;SEA_ICE_DRAFT_AST&#x27; (TIME: 38979, SAMPLE: 48)&gt;\n",
       "array([[nan, nan, nan, ..., nan, nan, nan],\n",
       "       [nan, nan, nan, ..., nan, nan, nan],\n",
       "       [nan, nan, nan, ..., nan, nan, nan],\n",
       "       ...,\n",
       "       [nan, nan, nan, ..., nan, nan, nan],\n",
       "       [nan, nan, nan, ..., nan, nan, nan],\n",
       "       [nan, nan, nan, ..., nan, nan, nan]])\n",
       "Coordinates:\n",
       "  * TIME     (TIME) float64 1.781e+04 1.781e+04 ... 1.822e+04 1.822e+04\n",
       "  * SAMPLE   (SAMPLE) int64 1 2 3 4 5 6 7 8 9 10 ... 40 41 42 43 44 45 46 47 48\n",
       "Attributes:\n",
       "    long_name:  Sea ice draft at each sample (AST)\n",
       "    units:      m\n",
       "    note:       From AST altimeter distances.\\n\\nComputed with the function s...</pre><div class='xr-wrap' hidden><div class='xr-header'><div class='xr-obj-type'>xarray.DataArray</div><div class='xr-array-name'>'SEA_ICE_DRAFT_AST'</div><ul class='xr-dim-list'><li><span class='xr-has-index'>TIME</span>: 38979</li><li><span class='xr-has-index'>SAMPLE</span>: 48</li></ul></div><ul class='xr-sections'><li class='xr-section-item'><div class='xr-array-wrap'><input id='section-b3384d12-dd7d-48c1-b76d-5c5846508c75' class='xr-array-in' type='checkbox' checked><label for='section-b3384d12-dd7d-48c1-b76d-5c5846508c75' title='Show/hide data repr'><svg class='icon xr-icon-database'><use xlink:href='#icon-database'></use></svg></label><div class='xr-array-preview xr-preview'><span>nan nan nan nan nan nan nan nan ... nan nan nan nan nan nan nan nan</span></div><div class='xr-array-data'><pre>array([[nan, nan, nan, ..., nan, nan, nan],\n",
       "       [nan, nan, nan, ..., nan, nan, nan],\n",
       "       [nan, nan, nan, ..., nan, nan, nan],\n",
       "       ...,\n",
       "       [nan, nan, nan, ..., nan, nan, nan],\n",
       "       [nan, nan, nan, ..., nan, nan, nan],\n",
       "       [nan, nan, nan, ..., nan, nan, nan]])</pre></div></div></li><li class='xr-section-item'><input id='section-201f5d80-ce77-4a8a-973f-429e5beb2534' class='xr-section-summary-in' type='checkbox'  checked><label for='section-201f5d80-ce77-4a8a-973f-429e5beb2534' class='xr-section-summary' >Coordinates: <span>(2)</span></label><div class='xr-section-inline-details'></div><div class='xr-section-details'><ul class='xr-var-list'><li class='xr-var-item'><div class='xr-var-name'><span class='xr-has-index'>TIME</span></div><div class='xr-var-dims'>(TIME)</div><div class='xr-var-dtype'>float64</div><div class='xr-var-preview xr-preview'>1.781e+04 1.781e+04 ... 1.822e+04</div><input id='attrs-08dfd2a3-4b17-4f02-ae24-5b495d4ce9c9' class='xr-var-attrs-in' type='checkbox' ><label for='attrs-08dfd2a3-4b17-4f02-ae24-5b495d4ce9c9' title='Show/Hide attributes'><svg class='icon xr-icon-file-text2'><use xlink:href='#icon-file-text2'></use></svg></label><input id='data-6df401e3-951e-4a26-ac4c-858815c7baae' class='xr-var-data-in' type='checkbox'><label for='data-6df401e3-951e-4a26-ac4c-858815c7baae' title='Show/Hide data repr'><svg class='icon xr-icon-database'><use xlink:href='#icon-database'></use></svg></label><div class='xr-var-attrs'><dl class='xr-attrs'><dt><span>units :</span></dt><dd>Days since 1970-01-01</dd><dt><span>long_name :</span></dt><dd>Time stamp of the ensemble averaged measurement</dd></dl></div><div class='xr-var-data'><pre>array([17810.500276, 17810.510693, 17810.52111 , ..., 18216.500276,\n",
       "       18216.510693, 18216.52111 ])</pre></div></li><li class='xr-var-item'><div class='xr-var-name'><span class='xr-has-index'>SAMPLE</span></div><div class='xr-var-dims'>(SAMPLE)</div><div class='xr-var-dtype'>int64</div><div class='xr-var-preview xr-preview'>1 2 3 4 5 6 7 ... 43 44 45 46 47 48</div><input id='attrs-85217e90-bcb7-4454-b1c4-c9626a158c6b' class='xr-var-attrs-in' type='checkbox' ><label for='attrs-85217e90-bcb7-4454-b1c4-c9626a158c6b' title='Show/Hide attributes'><svg class='icon xr-icon-file-text2'><use xlink:href='#icon-file-text2'></use></svg></label><input id='data-fba9379f-1909-44f0-8a0d-bc4625d994d7' class='xr-var-data-in' type='checkbox'><label for='data-fba9379f-1909-44f0-8a0d-bc4625d994d7' title='Show/Hide data repr'><svg class='icon xr-icon-database'><use xlink:href='#icon-database'></use></svg></label><div class='xr-var-attrs'><dl class='xr-attrs'><dt><span>units :</span></dt><dd>Sample number</dd><dt><span>long_name :</span></dt><dd>Sample number in ensemble (48 samples per ensemble)</dd></dl></div><div class='xr-var-data'><pre>array([ 1,  2,  3,  4,  5,  6,  7,  8,  9, 10, 11, 12, 13, 14, 15, 16, 17, 18,\n",
       "       19, 20, 21, 22, 23, 24, 25, 26, 27, 28, 29, 30, 31, 32, 33, 34, 35, 36,\n",
       "       37, 38, 39, 40, 41, 42, 43, 44, 45, 46, 47, 48])</pre></div></li></ul></div></li><li class='xr-section-item'><input id='section-57196af3-c7cc-40a1-8dec-051fa0b5443c' class='xr-section-summary-in' type='checkbox'  checked><label for='section-57196af3-c7cc-40a1-8dec-051fa0b5443c' class='xr-section-summary' >Attributes: <span>(3)</span></label><div class='xr-section-inline-details'></div><div class='xr-section-details'><dl class='xr-attrs'><dt><span>long_name :</span></dt><dd>Sea ice draft at each sample (AST)</dd><dt><span>units :</span></dt><dd>m</dd><dt><span>note :</span></dt><dd>From AST altimeter distances.\n",
       "\n",
       "Computed with the function sig_draft.calculate_surface_position().\n",
       "- Altimeter length recomputed using updated sound speed (*sound_speed_CTD* field)\n",
       "- OPEN WATER CORRECTION **NOT** APPLIED!\n",
       "- Samples where Average_AltimeterQualityAST&gt;8000 were discarded.\n",
       "\n",
       "Set to NaN where ICE_IN_SAMPLE==False</dd></dl></div></li></ul></div></div>"
      ],
      "text/plain": [
       "<xarray.DataArray 'SEA_ICE_DRAFT_AST' (TIME: 38979, SAMPLE: 48)>\n",
       "array([[nan, nan, nan, ..., nan, nan, nan],\n",
       "       [nan, nan, nan, ..., nan, nan, nan],\n",
       "       [nan, nan, nan, ..., nan, nan, nan],\n",
       "       ...,\n",
       "       [nan, nan, nan, ..., nan, nan, nan],\n",
       "       [nan, nan, nan, ..., nan, nan, nan],\n",
       "       [nan, nan, nan, ..., nan, nan, nan]])\n",
       "Coordinates:\n",
       "  * TIME     (TIME) float64 1.781e+04 1.781e+04 ... 1.822e+04 1.822e+04\n",
       "  * SAMPLE   (SAMPLE) int64 1 2 3 4 5 6 7 8 9 10 ... 40 41 42 43 44 45 46 47 48\n",
       "Attributes:\n",
       "    long_name:  Sea ice draft at each sample (AST)\n",
       "    units:      m\n",
       "    note:       From AST altimeter distances.\\n\\nComputed with the function s..."
      ]
     },
     "execution_count": 30,
     "metadata": {},
     "output_type": "execute_result"
    }
   ],
   "source": [
    "DX.SEA_ICE_DRAFT_AST"
   ]
  },
  {
   "cell_type": "code",
   "execution_count": 31,
   "id": "f777213c",
   "metadata": {},
   "outputs": [
    {
     "name": "stdout",
     "output_type": "stream",
     "text": [
      "\n",
      "TIME RANGE:\n",
      "06 Oct 2018 12:00  -->  16 Nov 2019 12:30  (406.0 days)\n",
      "Time between ensembles: 15.0 min.\n",
      "Time between samples in ensembles: 1.0 sec.\n",
      "\n",
      "PRESSURE:\n",
      "Median (STD) of altimeter pressure: 20.6 dbar (0.5 dbar)  - with fixed atm offset 9.500 dbar.\n",
      "\n",
      "SIZE:\n",
      "Total 1870992 time points.\n",
      "Split into 38979 ensembles with 48 sample per ensemble.\n",
      "Ocean velocity bins: 16.\n"
     ]
    }
   ],
   "source": [
    "sig_load.overview(DX)"
   ]
  },
  {
   "cell_type": "markdown",
   "id": "170fb894",
   "metadata": {},
   "source": [
    "#### Append AMSR2 SIC"
   ]
  },
  {
   "cell_type": "code",
   "execution_count": 32,
   "id": "ce637b06",
   "metadata": {},
   "outputs": [],
   "source": [
    "sic = xr.open_dataset('/home/oyvindl/work/projects/sig500/data/misc/sic/M1M2_AMSR2_SIC.nc')"
   ]
  },
  {
   "cell_type": "code",
   "execution_count": 33,
   "id": "6487a684",
   "metadata": {},
   "outputs": [],
   "source": [
    "DX = sig_append.add_to_sigdata(DX, sic.SIC_m1, sic.time+0.5, 'SIC_AMSR2', \n",
    "                               attrs = {'sourcefile':'/home/oyvindl/work/projects/sig500/data/misc/sic/M1M2_AMSR2_SIC.nc'})"
   ]
  },
  {
   "cell_type": "code",
   "execution_count": 11,
   "id": "238e7ce2",
   "metadata": {},
   "outputs": [],
   "source": [
    "fig, ax = plt.subplots(figsize = (12, 4))\n",
    "ax.plot(DX.TIME, DX.SIC_AMSR2, 'k', zorder = 20, lw = 1, label ='AMSR2 SIC (nearest cell)')\n",
    "ax.plot(DX.TIME, DX.SIC_FOM, color = col.col('o'), alpha = 0.1)\n",
    "SIC_FOM_dat, td = stats.dmean(DX.SIC_FOM, DX.TIME)\n",
    "ax.plot(td+0.5, SIC_FOM_dat, color = col.col('o'), alpha = 1, label = 'SIC_FOM (daily)')\n",
    "SIC_FOM_ALT_dat, td = stats.dmean(DX.SIC_FOM_ALT, DX.TIME)\n",
    "ax.plot(td+0.5, SIC_FOM_ALT_dat, color = col.col('g'), alpha = 1, lw = 1, label = 'SIC_FOM_ALT (daily)')\n",
    "ax.legend()\n",
    "SIC_AMSR2_dat, td = stats.dmean(DX.SIC_AMSR2, DX.TIME)\n",
    "\n",
    "pl.md_xlab(ax)"
   ]
  },
  {
   "cell_type": "code",
   "execution_count": 34,
   "id": "4aaf7dfe",
   "metadata": {},
   "outputs": [
    {
     "ename": "NameError",
     "evalue": "name 'pearsonr' is not defined",
     "output_type": "error",
     "traceback": [
      "\u001b[0;31m---------------------------------------------------------------------------\u001b[0m",
      "\u001b[0;31mNameError\u001b[0m                                 Traceback (most recent call last)",
      "Cell \u001b[0;32mIn [34], line 1\u001b[0m\n\u001b[0;32m----> 1\u001b[0m \u001b[43mpearsonr\u001b[49m(SIC_AMSR2_dat, SIC_FOM_ALT_dat)\n",
      "\u001b[0;31mNameError\u001b[0m: name 'pearsonr' is not defined"
     ]
    }
   ],
   "source": [
    "pearsonr(SIC_AMSR2_dat, SIC_FOM_ALT_dat)"
   ]
  },
  {
   "cell_type": "code",
   "execution_count": null,
   "id": "9408d534",
   "metadata": {},
   "outputs": [],
   "source": [
    "pearsonr(SIC_AMSR2_dat, SIC_FOM_dat)"
   ]
  },
  {
   "cell_type": "markdown",
   "id": "f17ee25b",
   "metadata": {},
   "source": [
    "#### Append msl and CTD\n"
   ]
  },
  {
   "cell_type": "code",
   "execution_count": 35,
   "id": "a2d9e8f5",
   "metadata": {},
   "outputs": [],
   "source": [
    "dmsl = pickle_load('../testing/development/CARRA_MSL_M1_temp.p')"
   ]
  },
  {
   "cell_type": "code",
   "execution_count": 36,
   "id": "d5270b6e",
   "metadata": {},
   "outputs": [],
   "source": [
    "DX = sig_append.append_atm_pres(DX, dmsl.MSL, dmsl.time)"
   ]
  },
  {
   "cell_type": "code",
   "execution_count": 14,
   "id": "1d4d7d48",
   "metadata": {},
   "outputs": [],
   "source": [
    "dctd = pickle_load('../testing/development/CARRA_CTD_M1_1_temp.p')"
   ]
  },
  {
   "cell_type": "code",
   "execution_count": 15,
   "id": "0d1df5f8",
   "metadata": {},
   "outputs": [],
   "source": [
    "DX = sig_append.set_lon(DX, 28.10)\n",
    "DX = sig_append.set_lat(DX, 79.59)"
   ]
  },
  {
   "cell_type": "code",
   "execution_count": 16,
   "id": "e8fca9d8",
   "metadata": {},
   "outputs": [],
   "source": [
    "DX = sig_append.append_ctd(DX, dctd.TEMP, dctd.SP, dctd.pres, dctd.time)"
   ]
  },
  {
   "cell_type": "code",
   "execution_count": 17,
   "id": "b1583dab",
   "metadata": {},
   "outputs": [],
   "source": [
    "# Calculate depth\n",
    "DX = sig_calc.dep_from_p(DX, corr_CTD_density=True)"
   ]
  },
  {
   "cell_type": "markdown",
   "id": "de0451cd",
   "metadata": {},
   "source": [
    "# Draft"
   ]
  },
  {
   "cell_type": "code",
   "execution_count": 18,
   "id": "b5ade0b5",
   "metadata": {},
   "outputs": [
    {
     "name": "stderr",
     "output_type": "stream",
     "text": [
      "/home/oyvindl/anaconda3/envs/oyv/lib/python3.8/site-packages/numpy/lib/nanfunctions.py:1217: RuntimeWarning: All-NaN slice encountered\n",
      "  r, k = function_base._ureduce(a, func=_nanmedian, axis=axis, out=out,\n"
     ]
    }
   ],
   "source": [
    "DX = sig_draft.calculate_draft(DX)"
   ]
  },
  {
   "cell_type": "markdown",
   "id": "27611b3b",
   "metadata": {},
   "source": [
    "### Run BETA finder"
   ]
  },
  {
   "cell_type": "code",
   "execution_count": 131,
   "id": "93682040",
   "metadata": {
    "scrolled": true
   },
   "outputs": [],
   "source": [
    "DX = sig_open_water_correction.get_Beta_from_OWSD(DX)"
   ]
  },
  {
   "cell_type": "code",
   "execution_count": 132,
   "id": "2806d671",
   "metadata": {
    "scrolled": true
   },
   "outputs": [
    {
     "name": "stderr",
     "output_type": "stream",
     "text": [
      "/home/oyvindl/anaconda3/envs/oyv/lib/python3.8/site-packages/numpy/lib/nanfunctions.py:1217: RuntimeWarning: All-NaN slice encountered\n",
      "  r, k = function_base._ureduce(a, func=_nanmedian, axis=axis, out=out,\n"
     ]
    },
    {
     "name": "stdout",
     "output_type": "stream",
     "text": [
      "LE: Mean (median) offset: 17.7 cm (18.2 cm)\n",
      "AST: Mean (median) offset: 4.0 cm (3.8 cm)\n",
      "LE: Mean (median) dBETA: 9.0 (9.3)\n",
      "AST: Mean (median) dBETA: 2.0 (1.9)\n",
      "LE - MEAN SEA ICE DRAFT:\n",
      "Before OW correction: 1.41 m\n",
      "After OW correction: 1.27 m\n",
      "AST - MEAN SEA ICE DRAFT:\n",
      "Before OW correction: 1.15 m\n",
      "After OW correction: 1.11 m\n"
     ]
    }
   ],
   "source": [
    "sig_open_water_correction.compare_OW_correction(DX)"
   ]
  },
  {
   "cell_type": "markdown",
   "id": "92917630",
   "metadata": {},
   "source": [
    "### Recompute draft"
   ]
  },
  {
   "cell_type": "code",
   "execution_count": null,
   "id": "05fa0486",
   "metadata": {},
   "outputs": [],
   "source": [
    "DX = sig_draft.calculate_draft(DX)"
   ]
  }
 ],
 "metadata": {
  "kernelspec": {
   "display_name": "Python [conda env:oyv] *",
   "language": "python",
   "name": "conda-env-oyv-py"
  },
  "language_info": {
   "codemirror_mode": {
    "name": "ipython",
    "version": 3
   },
   "file_extension": ".py",
   "mimetype": "text/x-python",
   "name": "python",
   "nbconvert_exporter": "python",
   "pygments_lexer": "ipython3",
   "version": "3.8.2"
  }
 },
 "nbformat": 4,
 "nbformat_minor": 5
}
