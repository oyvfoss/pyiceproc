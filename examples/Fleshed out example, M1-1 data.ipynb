{
 "cells": [
  {
   "cell_type": "markdown",
   "id": "852f3819",
   "metadata": {},
   "source": [
    "# Fleshed out example\n",
    "NOTE: This notebook is pretty rough. It will development  change during development of the code.."
   ]
  },
  {
   "cell_type": "markdown",
   "id": "4cddd0e0",
   "metadata": {},
   "source": [
    "#### Imports"
   ]
  },
  {
   "cell_type": "code",
   "execution_count": 2,
   "id": "9d439548",
   "metadata": {},
   "outputs": [],
   "source": [
    "# Useful for plottimg\n",
    "from matplotlib import pyplot as plt\n",
    "\n",
    "# Useful for calculations\n",
    "import numpy as np\n",
    "\n",
    "# Useful for getting lists of files, etc\n",
    "import os\n",
    "import glob\n",
    "\n",
    "# I use *pickle* to load some external \"pickled\" datasets. Not necessary for anything else. \n",
    "import pickle\n",
    "# Also use xarray to load some external data\n",
    "import xarray as xr\n",
    "\n",
    "# I use *mpl.dates* to enter some dates. Not necessary for anything else. \n",
    "from matplotlib import dates\n",
    "from matplotlib.dates import date2num, num2date\n",
    "\n",
    "# Useful in development..\n",
    "import importlib"
   ]
  },
  {
   "cell_type": "markdown",
   "id": "47c95c6f",
   "metadata": {},
   "source": [
    "### Find modules and  files we will work with"
   ]
  },
  {
   "cell_type": "code",
   "execution_count": 3,
   "id": "0c77241c",
   "metadata": {},
   "outputs": [],
   "source": [
    "# Load the modules\n",
    "\n",
    "# Changing directories because we need to be in the directory below the functions\n",
    "# (may make this a bit neater later..)\n",
    "os.chdir('/home/oyvindl/work/code/git_public/sigpyproc/examples/')\n",
    "os.chdir('../')\n",
    "from sigpyproc import sig_load, sig_append, sig_calc, sig_draft\n",
    "from sigpyproc import sig_open_water_correction, sig_vel, sig_toolbox, sig_append\n",
    "os.chdir('examples/')"
   ]
  },
  {
   "cell_type": "code",
   "execution_count": 4,
   "id": "a2281ada",
   "metadata": {},
   "outputs": [],
   "source": [
    "# Make a list of the .mat files we want to load \n",
    "floc = '/media/oyvindl/ratatosk/data/mooring_data/signature500/m1_1/converted/*'\n",
    "flist = glob.glob(floc)\n",
    "for fn in flist:\n",
    "    if '_avgd' in fn:\n",
    "        flist.remove(fn)"
   ]
  },
  {
   "cell_type": "markdown",
   "id": "cccb2f9e",
   "metadata": {},
   "source": [
    "## Load the data "
   ]
  },
  {
   "cell_type": "markdown",
   "id": "ac0e7777",
   "metadata": {},
   "source": [
    "##### Load from matfiles to a neatly xarray Dataset \n",
    "\n",
    "- Wraps from a simgle time dimension to *(TIME, SAMPLE)*\n",
    "- Concatenates the many .mat files to a single file\n",
    "- Various formatting stuff\n",
    "- Calculate tilt\n",
    "- Estimates sea ice presence from FOM (and adds \"sea ice concentration\" fields)\n",
    "\n",
    "Specifying lat/lon here - that can also be done later\n",
    "\n",
    "This step takes a while (a minute or so?).\n",
    "\n",
    "Throws some errors that I haven't investigated (don't seem to matter but I don't want to suppress them, until I'm sure what they are)"
   ]
  },
  {
   "cell_type": "code",
   "execution_count": 5,
   "id": "aefdd5c1",
   "metadata": {},
   "outputs": [
    {
     "data": {
      "text/plain": [
       "<module 'sigpyproc.sig_load' from '/home/oyvindl/work/code/git_public/sigpyproc/sigpyproc/sig_load.py'>"
      ]
     },
     "execution_count": 5,
     "metadata": {},
     "output_type": "execute_result"
    }
   ],
   "source": [
    "importlib.reload(sig_load)"
   ]
  },
  {
   "cell_type": "code",
   "execution_count": 21,
   "id": "bbf3234e",
   "metadata": {},
   "outputs": [
    {
     "name": "stdout",
     "output_type": "stream",
     "text": [
      "CONCATENATING: FILE \"..AeN_M1_01_1.mat\"..\r",
      "170640 time points, 3555 ensembles. Sample per ensemble: 48\n"
     ]
    },
    {
     "name": "stderr",
     "output_type": "stream",
     "text": [
      "/home/oyvindl/work/code/git_public/sigpyproc/sigpyproc/sig_append.py:270: RuntimeWarning: invalid value encountered in sqrt\n",
      "  180 / np.pi* np.arccos(np.sqrt(\n",
      "/home/oyvindl/work/code/git_public/sigpyproc/sigpyproc/sig_append.py:279: RuntimeWarning: invalid value encountered in sqrt\n",
      "  180 / np.pi* np.arccos(np.sqrt(\n"
     ]
    },
    {
     "name": "stdout",
     "output_type": "stream",
     "text": [
      "Done. Run sig_funcs.overview() to print some additional details.\n"
     ]
    }
   ],
   "source": [
    "DX = sig_load.matfiles_to_dataset(flist[:2], lat = 79.589, lon = 28.097)"
   ]
  },
  {
   "cell_type": "markdown",
   "id": "3877228e",
   "metadata": {},
   "source": [
    "##### Have a quick look at the data \n",
    "\n",
    "We can look at the file interactively by just typing \"DX\".\n",
    "\n",
    "We can also run *sig_load.overview(DX)* for some very basic statistics.\n",
    "\n",
    "We can also run *sig_toolbox.histogram(DX, [variable name])* to look at the distribution of a variable "
   ]
  },
  {
   "cell_type": "code",
   "execution_count": null,
   "id": "f777213c",
   "metadata": {},
   "outputs": [],
   "source": [
    "sig_load.overview(DX)"
   ]
  },
  {
   "cell_type": "markdown",
   "id": "43b06d6b",
   "metadata": {},
   "source": [
    "## Append some external datasets\n",
    "\n",
    "We can append external data to *DX* using the *sig_append* module. The functions in the module interpolates external data onto the *TIME* grid.\n",
    "\n",
    "The function *sig_append.add_to_sigdata* is general and can be used to append whatever can be of use.\n",
    "\n",
    "There are specified functions for appending specific things that are used in subsequent processing: \n",
    "\n",
    "- *sig_append.append_atm_pres*: Append **sea level pressure** (used for depth correction)\n",
    "- *sig_append.append_ctd*: Append **S, T, P from CTD sensor** (used for density and sound speed corrections)\n",
    "- *sig_append.set_lat, set_lon*: Add (single-value) **lat/lon** (if it wasn't done in the initial loading step)\n",
    "- *sig_append.append_magdec*: Add **magnetic declination** (used for correction of velocity directions). "
   ]
  },
  {
   "cell_type": "markdown",
   "id": "170fb894",
   "metadata": {},
   "source": [
    "#### Append atmospheric pressure from CARRA atmospheric reanalysis "
   ]
  },
  {
   "cell_type": "markdown",
   "id": "1571d155",
   "metadata": {},
   "source": [
    "Load a dataset containing sea level pressure.\n",
    "\n",
    "(I have previously collected these data from CARRA reanalysis).\n",
    "\n",
    "Note that these should be provided in units of **decibars**."
   ]
  },
  {
   "cell_type": "code",
   "execution_count": null,
   "id": "5767a644",
   "metadata": {},
   "outputs": [],
   "source": [
    "with open('../testing/development/CARRA_MSL_M1_temp.p', 'rb') as f:\n",
    "    dmsl = pickle.load(f)"
   ]
  },
  {
   "cell_type": "code",
   "execution_count": null,
   "id": "e65bf41b",
   "metadata": {},
   "outputs": [],
   "source": [
    "carra_m1 = xr.open_dataset('/media/oyvindl/ratatosk/data/carra/selected_points/carra_18_22_M1.nc')"
   ]
  },
  {
   "cell_type": "code",
   "execution_count": null,
   "id": "963b1be7",
   "metadata": {},
   "outputs": [],
   "source": [
    "DX_no_msl = DX.copy()"
   ]
  },
  {
   "cell_type": "code",
   "execution_count": null,
   "id": "0b63efe9",
   "metadata": {},
   "outputs": [],
   "source": [
    "# Append to the dataset\n",
    "DX = sig_append.append_atm_pres(DX, carra_m1.msl.data*1e-4, date2num(carra_m1.time))"
   ]
  },
  {
   "cell_type": "markdown",
   "id": "b68c9f84",
   "metadata": {},
   "source": [
    "We now have a *p_atmo* field in *DX*:\n",
    "Make a quick plot to check that our interpolation worked:"
   ]
  },
  {
   "cell_type": "code",
   "execution_count": null,
   "id": "eb2f9785",
   "metadata": {},
   "outputs": [],
   "source": [
    "fig, ax = plt.subplots(figsize = (8, 3))\n",
    "ax.plot_date(dmsl.time, dmsl.MSL, '-', label = '(Daily) data loaded from .p file')\n",
    "ax.plot(carra_m1.time, carra_m1.msl*1e-4, '-', label = 'Hourly, from nc file')\n",
    "ax.plot(DX.TIME, DX.p_atmo, ':', label = 'Data from .nc interpolated to TIME grid')\n",
    "\n",
    "ax.legend()\n",
    "ax.set_ylabel('Decibar')\n",
    "ax.set_xlim(dmsl.time[300], dmsl.time[310])"
   ]
  },
  {
   "cell_type": "markdown",
   "id": "c015b54b",
   "metadata": {},
   "source": [
    "#### Append CTD data\n",
    "Next, we add data from a CTD sensor that was mounted rigth below the Signature. We will use it to improve our sound speed and density estimates - it is also interesting to includefor analysis purposes!"
   ]
  },
  {
   "cell_type": "code",
   "execution_count": null,
   "id": "c711dc20",
   "metadata": {},
   "outputs": [],
   "source": [
    "# Load data (which I have prepared in advance)\n",
    "\n",
    "with open('../testing/development/CARRA_CTD_M1_1_temp.p', 'rb') as f:\n",
    "    dctd = pickle.load(f)\n",
    "    \n",
    "# Chop away nan ends..\n",
    "ctd_sl = slice(3, -3)\n",
    "for key in dctd.keys():\n",
    "    dctd[key] = dctd[key][ctd_sl]"
   ]
  },
  {
   "cell_type": "code",
   "execution_count": null,
   "id": "07e93c36",
   "metadata": {},
   "outputs": [],
   "source": [
    "# Append to the dataset\n",
    "# (Specifying serial number and description is optional!)\n",
    "DX = sig_append.append_ctd(DX, dctd.TEMP, dctd.SP, dctd.pres, dctd.time,\n",
    "             instr_SN = '11111', \n",
    "           instr_desc = 'RBR Concerto CTD sensor mounted right below the Signature' )"
   ]
  },
  {
   "cell_type": "markdown",
   "id": "2b574f2e",
   "metadata": {},
   "source": [
    "The *append_ctd* function read T/S/p variables. These were converted to TEOS-10 using the *gsw* module. It also calculated sound speed and density.\n",
    "\n",
    "We therefore have some new fields in DX, all with the suffix *_CTD*: *SA_CTD, CT_CTD, sound_speed_CTD..*. The descriptions we prescribed, as well as other metadata such as units and full name, should be available in the variable attributes, e.g.:"
   ]
  },
  {
   "cell_type": "code",
   "execution_count": null,
   "id": "d07b9256",
   "metadata": {},
   "outputs": [],
   "source": [
    "DX.SA_CTD"
   ]
  },
  {
   "cell_type": "markdown",
   "id": "cbaaf853",
   "metadata": {},
   "source": [
    "#### Append magnetic declination\n",
    "\n",
    "In this case, we know that the declination only changes by <0.5 degrees over the deployment. For now, we are happy using a linear interpolation based two values we found for two points in time (from the EMM, extracted using this online calculator: https://www.ngdc.noaa.gov/geomag/calculators/magcalc.shtml#igrfwmm)"
   ]
  },
  {
   "cell_type": "code",
   "execution_count": null,
   "id": "3a93064a",
   "metadata": {},
   "outputs": [],
   "source": [
    "mag_time = [dates.date2num(dates.datetime.date(2018, 9, 1)), \n",
    "            dates.date2num(dates.datetime.date(2019, 9, 1))]\n",
    "magdec = [19.7683447942, 20.1825371364]"
   ]
  },
  {
   "cell_type": "code",
   "execution_count": null,
   "id": "c6eca593",
   "metadata": {},
   "outputs": [],
   "source": [
    "# Append to DX (the attributes are not necessary - \n",
    "# but it's a good idea to keep track of this sort \n",
    "# of stuff in the file metadata!)\n",
    "\n",
    "DX = sig_append.append_magdec(DX, magdec, mag_time, \n",
    "         attrs = {'note':('Magdec interpolated between extracted from EMM, '\n",
    "              'extracted using this online calculator: '\n",
    "              'https://www.ngdc.noaa.gov/geomag/calculators/magcalc.shtml#igrfwmm')})"
   ]
  },
  {
   "cell_type": "code",
   "execution_count": null,
   "id": "cba9badf",
   "metadata": {},
   "outputs": [],
   "source": [
    "# Inspect magdec in DX\n",
    "DX.magdec"
   ]
  },
  {
   "cell_type": "markdown",
   "id": "851bd12b",
   "metadata": {},
   "source": [
    "Note that the append_magdec *extrapolates*. Let's look at the actual values: "
   ]
  },
  {
   "cell_type": "code",
   "execution_count": null,
   "id": "4b4d25e9",
   "metadata": {},
   "outputs": [],
   "source": [
    "fig, ax = plt.subplots(figsize = (8, 2))\n",
    "ax.plot(DX.TIME, DX.magdec, label = 'DX.magdec')\n",
    "ax.plot_date(mag_time, magdec, 'o', label = 'Original points')\n",
    "ax.legend()\n",
    "ax.set_ylabel('Degrees')"
   ]
  },
  {
   "cell_type": "markdown",
   "id": "0fa2de9e",
   "metadata": {},
   "source": [
    "#### Add AMSR2 SIC\n",
    "\n",
    "Adding SIC is not necessary for anything. But it is an example of a information that can be useful to include for analysis - remote sensing SIC is also useful for comparing the SIC we have computed from in-situ data! "
   ]
  },
  {
   "cell_type": "code",
   "execution_count": null,
   "id": "ce637b06",
   "metadata": {},
   "outputs": [],
   "source": [
    "# Load previously extracted data\n",
    "sic = xr.open_dataset('/home/oyvindl/work/projects/sig500/data/misc/sic/M1M2_AMSR2_SIC.nc')\n",
    "sic_data = sic.SIC_m1\n",
    "sic_time = sic.time+0.5 # We add half a day because the daily time stamp is at 00:00"
   ]
  },
  {
   "cell_type": "code",
   "execution_count": null,
   "id": "6487a684",
   "metadata": {},
   "outputs": [],
   "source": [
    "# 'SIC_AMSR2' specified what we want this variable to be called. A name is mandatory,\n",
    "# \"attrs\" specifies attributes/metedata info. Not necessary but useful!\n",
    "DX = sig_append.add_to_sigdata(DX, sic_data, sic_time, 'SIC_AMSR2', \n",
    "               attrs = {'long_name':'AMSR2 UoB sea ice concentration',\n",
    "        'description':'SIC extracted from the nearest grid point.',\n",
    "        'sourcefile':'/home/oyvindl/work/projects/sig500/data/misc/sic/M1M2_AMSR2_SIC.nc'})"
   ]
  },
  {
   "cell_type": "code",
   "execution_count": null,
   "id": "f3d730f7",
   "metadata": {},
   "outputs": [],
   "source": [
    "# inspect:\n",
    "DX.SIC_AMSR2"
   ]
  },
  {
   "cell_type": "markdown",
   "id": "f291d934",
   "metadata": {},
   "source": [
    "##### Quick look and comparison with \"in situ SIC\" \n",
    "In the *sig_load.matfiles_to_dataset* call in the beginning, we calculated ice presence uring the *FOM* metric, and estimated \"SIC\" based on this. \n",
    "\n",
    "Below we do a quick comparison with the remote sensing SIC that we just added.\n",
    "\n",
    "Note: We use the function *sig_calc.daily_median* to calculate daily medians"
   ]
  },
  {
   "cell_type": "code",
   "execution_count": null,
   "id": "207923d1",
   "metadata": {},
   "outputs": [],
   "source": [
    "for nn in list(DX.keys()):\n",
    "    print(nn)"
   ]
  },
  {
   "cell_type": "code",
   "execution_count": null,
   "id": "238e7ce2",
   "metadata": {},
   "outputs": [],
   "source": [
    "fig, ax = plt.subplots(figsize = (12, 4))\n",
    "ax.plot(DX.TIME, DX.SIC_AMSR2, 'k', zorder = 20, lw = 1, label ='AMSR2 SIC (nearest cell)')\n",
    "ax.plot(DX.TIME, DX.SIC_FOM, color = 'r', alpha = 0.1)\n",
    "SIC_FOM_dat, td = sig_calc.daily_average(DX.SIC_FOM, DX.TIME, function = 'mean')\n",
    "ax.plot(td+0.5, SIC_FOM_dat, color = 'r', alpha = 1, label = 'SIC_FOM (daily)')\n",
    "SIC_FOM_ALT_dat, td = sig_calc.daily_average(DX.SIC_FOM_ALT, DX.TIME, function = 'mean')\n",
    "ax.plot_date(td+0.5, SIC_FOM_ALT_dat, '-', color = 'g', alpha = 1, \n",
    "             lw = 1, label = 'SIC_FOM_ALT (daily)')\n",
    "ax.legend()\n",
    "\n",
    "ax.set_ylabel('Concentration [%]');"
   ]
  },
  {
   "cell_type": "markdown",
   "id": "4718e886",
   "metadata": {},
   "source": [
    "-> Looks pretty good!"
   ]
  },
  {
   "cell_type": "markdown",
   "id": "0f86f56b",
   "metadata": {},
   "source": [
    "### Calculate depth\n",
    "Before we calculate ice drafts and velocities, we want to compute the instrument depth $h$. This is done from a hydrostatic approximation  $$h = \\frac{p}{\\rho g}$$\n",
    "\n",
    "Where $p$ is the ocean pressure (*Average_AltimeterPressure*) where we have added back the in-build atmospheric correction, but *subtracted* our the time-varying atmopheric pressure that we added earlier (*p_atmo*).  \n",
    "\n",
    "$\\rho$ is density from CTD (*rho_CTD*) and $g$ is (latitude-dependent) gravitational acceleration calculated using the function *gsw.grav*.\n",
    "\n",
    "It is possible to calculate depth without atmospheric pressure, in-situ density etc. The function uses everything that is available unless we specify *corr_atmo=False* or *corr_CTD_density=False* in the function call. "
   ]
  },
  {
   "cell_type": "code",
   "execution_count": null,
   "id": "b1583dab",
   "metadata": {},
   "outputs": [],
   "source": [
    "# Doing one calculation withotu the TD densioty correction to see if there is a difference..\n",
    "\n",
    "DX = sig_calc.dep_from_p(DX, corr_CTD_density=True)\n",
    "\n",
    "DX0 = DX.copy()\n",
    "DX0 =sig_calc.dep_from_p(DX0, corr_CTD_density=False)"
   ]
  },
  {
   "cell_type": "code",
   "execution_count": null,
   "id": "881aac82",
   "metadata": {},
   "outputs": [],
   "source": [
    "fig, ax = plt.subplots(figsize = (10, 3))\n",
    "ax.plot(DX.TIME, (DX0.depth- DX.depth).mean(dim='SAMPLE')*1e2, )\n",
    "ax.set_ylabel('[cm]')\n",
    "ax.set_title('Difference in depth after applying in-situ CTD (vs fixed rho = 1027 kg m-3)')\n",
    "meandiff = float((DX0.depth-DX.depth).mean())*1e2\n",
    "ax.plot([float(DX.TIME[0]), float(DX.TIME[-1])], np.ones(2)*meandiff, ':k', label = 'Mean')\n",
    "ax.legend(); ax.grid()"
   ]
  },
  {
   "cell_type": "markdown",
   "id": "057f20e2",
   "metadata": {},
   "source": [
    "As we see, the *note* field details which corrections have been applied. "
   ]
  },
  {
   "cell_type": "markdown",
   "id": "ef964853",
   "metadata": {},
   "source": [
    "**A quick sanity check:** we should have $depth\\sim~0$ after the instrument was brought on board"
   ]
  },
  {
   "cell_type": "code",
   "execution_count": null,
   "id": "bc81846b",
   "metadata": {},
   "outputs": [],
   "source": [
    "fig, ax = plt.subplots(figsize = (8, 2))\n",
    "ax.plot(DX.TIME, DX.depth.mean(dim = 'SAMPLE'))#, label = 'DX.magdec')\n",
    "\n",
    "#ax.plot_date(mag_time, magdec, 'o', label = 'Original points')\n",
    "ax.set_ylabel('m')\n",
    "ax.set_xlim(DX.TIME[-20], DX.TIME[-1])\n",
    "ax.set_ylim(-0.1, 0.1)\n",
    "ax.grid()\n",
    "ax.set_title('Instrument \"depth\" at the end of deployment')"
   ]
  },
  {
   "cell_type": "markdown",
   "id": "758e039d",
   "metadata": {},
   "source": [
    "-> Yep, we are about 3 cm off which **seems pretty good.**"
   ]
  },
  {
   "cell_type": "markdown",
   "id": "e8fd31f8",
   "metadata": {},
   "source": [
    "### Chopping away on-ship measurements\n",
    "We actually don't want to include the measurements taken on deck or after/during deployments. We can easily chop everything using the function *sig_load.chop*:"
   ]
  },
  {
   "cell_type": "code",
   "execution_count": null,
   "id": "db207f9a",
   "metadata": {},
   "outputs": [],
   "source": [
    "# Good starting point: Just call the function and follow the prompts. \n",
    "DX = sig_load.chop(DX)"
   ]
  },
  {
   "cell_type": "markdown",
   "id": "786f9758",
   "metadata": {},
   "source": [
    "We have now chopped away the time on deck durign the recovery, reducing the size of the dataset a bit.\n",
    "\n",
    "Note that this information is preserved in *DX.history* attribute "
   ]
  },
  {
   "cell_type": "code",
   "execution_count": null,
   "id": "022f0711",
   "metadata": {},
   "outputs": [],
   "source": [
    "print(DX.history)"
   ]
  },
  {
   "cell_type": "markdown",
   "id": "de0451cd",
   "metadata": {},
   "source": [
    "# Draft\n",
    "\n",
    "We are now ready to calculate the sea ice draft. The basic approach is:\n",
    "\n",
    "1. Calculate depth of the scattering surface from depth/tilt/sound/speed/altimeter distance.\n",
    "    - All valid values (open water and ice) are stored as *SURFACE_DEPTH_*\n",
    "    - Only values during estimated sea ice presence are stored as *SEA_ICE_DRAFT_*\n",
    "2. Extract a time-varying \"open water correction\" forcing the long-time moving average open water values to be near zero.\n",
    "    - Calculate a sound speed correction factor $\\beta$ which would make the necessary correction to the open water values.\n",
    "3. Repeat step 1, but now applying the sound speed $\\beta$ to the distance calculation."
   ]
  },
  {
   "cell_type": "markdown",
   "id": "537dd3b3",
   "metadata": {},
   "source": [
    "##### Step 1: Initial calculation of surface depths\n"
   ]
  },
  {
   "cell_type": "code",
   "execution_count": null,
   "id": "b5ade0b5",
   "metadata": {},
   "outputs": [],
   "source": [
    "DX = sig_draft.calculate_draft(DX)"
   ]
  },
  {
   "cell_type": "markdown",
   "id": "8aa4846e",
   "metadata": {},
   "source": [
    "We have now added a bunch of new fields to *DX* (e.g. *SURFACE_DEPTH_LE*, *SEA_ICE_DRAFT_AST*..).\n",
    "\n",
    "Note that We do the calculation - separately - for both the *AST* and *LE* altimeter estimates. \n",
    "\n",
    "For the *LE* estimate (which typically is better/less noisy, but detects \"false keels\" near the transducer), we **drop all LE samples where AST and LE disagree by > 0.5 m**. In this case that means dropping a *lot* of samples (something like 1/3 of the dataset), but the hope is that it gives a better estimate."
   ]
  },
  {
   "cell_type": "code",
   "execution_count": null,
   "id": "4aae5f0a",
   "metadata": {},
   "outputs": [],
   "source": [
    "DX.SURFACE_DEPTH_AST"
   ]
  },
  {
   "cell_type": "markdown",
   "id": "e176ca07",
   "metadata": {},
   "source": [
    "##### Step 2: Open water correction\n",
    "*(Note: this can take a minute or so to run)*\n",
    "\n",
    "(Describe this here in more detailed later..) "
   ]
  },
  {
   "cell_type": "code",
   "execution_count": null,
   "id": "4002d0a6",
   "metadata": {},
   "outputs": [],
   "source": [
    "# Step 2: Open water correc\n",
    "DX = sig_open_water_correction.get_Beta_from_OWSD(DX)"
   ]
  },
  {
   "cell_type": "markdown",
   "id": "27611b3b",
   "metadata": {},
   "source": [
    "### Find sound speed correction Beta"
   ]
  },
  {
   "cell_type": "code",
   "execution_count": null,
   "id": "93682040",
   "metadata": {
    "scrolled": true
   },
   "outputs": [],
   "source": [
    "# Running with the default parameters for now..\n",
    "DX = sig_open_water_correction.get_Beta_from_OWSD(DX)"
   ]
  },
  {
   "cell_type": "markdown",
   "id": "9b40a22f",
   "metadata": {},
   "source": [
    "*Note*: We have **not** made any adjustments to the draft yet - just estimated $\\beta$ (added as the *BETA_open_water_corr_* fields). \n",
    "\n",
    "We can examine the correction now to see if we are happy with it using teh *compare_OW_correction* funcion:\n",
    "(This function is bulky and should be made more practical)"
   ]
  },
  {
   "cell_type": "code",
   "execution_count": null,
   "id": "2806d671",
   "metadata": {
    "scrolled": true
   },
   "outputs": [],
   "source": [
    "sig_open_water_correction.compare_OW_correction(DX)"
   ]
  },
  {
   "cell_type": "markdown",
   "id": "45012059",
   "metadata": {},
   "source": [
    "So we can see that we make a larger adjustment  for LE than (eq to ~18 cm) for AST (eq to ~4 cm).\n",
    "\n",
    "Will look into this a bit later - but for now we will assume that we are happy with out $beta$, and recompute the draft:"
   ]
  },
  {
   "cell_type": "markdown",
   "id": "92917630",
   "metadata": {},
   "source": [
    "### Recompute draft"
   ]
  },
  {
   "cell_type": "code",
   "execution_count": null,
   "id": "05fa0486",
   "metadata": {},
   "outputs": [],
   "source": [
    "DX = sig_draft.calculate_draft(DX)"
   ]
  },
  {
   "cell_type": "markdown",
   "id": "e0abb2c7",
   "metadata": {},
   "source": [
    "We have now updated the calculation to include oue $\\beta$,m which should improve the estimate and bring open water values nearer to zero.\n",
    "\n",
    "if we look at the *SEA_ICE_DRAFT_* and *SURFACE_DEPTH_* fields we should see that this is now specified in the metadata (the *note* field)."
   ]
  },
  {
   "cell_type": "markdown",
   "id": "f85c98c6",
   "metadata": {},
   "source": [
    "##### Quick histogram\n",
    "We can use the *sig_toolbox.histogram* function for a quick look at the results (also shows the attributes including the *note* field)"
   ]
  },
  {
   "cell_type": "code",
   "execution_count": null,
   "id": "f4f90888",
   "metadata": {},
   "outputs": [],
   "source": [
    "sig_toolbox.histogram(DX, 'SEA_ICE_DRAFT_MEDIAN_LE', nbins = 150)"
   ]
  },
  {
   "cell_type": "code",
   "execution_count": null,
   "id": "d40f06f4",
   "metadata": {},
   "outputs": [],
   "source": [
    "fig, ax = plt.subplots( figsize = (10, 3))\n",
    "hkws = {'density':True, 'bins':335, 'range':(-0.5, 6.2), 'alpha':0.5}\n",
    "ax.hist((DX.SEA_ICE_DRAFT_LE).values.flatten(), **hkws, label = 'LE');\n",
    "ax.hist((DX.SEA_ICE_DRAFT_AST).values.flatten(), **hkws, label = 'AST');\n",
    "ax.legend()"
   ]
  },
  {
   "cell_type": "code",
   "execution_count": null,
   "id": "4df3113f",
   "metadata": {},
   "outputs": [],
   "source": [
    "# Compare SD\n",
    "mean_sd_LE = float(DX.SEA_ICE_DRAFT_LE.std(dim = 'SAMPLE').mean())\n",
    "mean_sd_AST = float(DX.SEA_ICE_DRAFT_AST.std(dim = 'SAMPLE').mean())\n",
    "print('Mean SD across samples:')\n",
    "print('AST: %.2f cm'%(1e2*mean_sd_AST))\n",
    "print('LE: %.2f cm'%(1e2*mean_sd_LE))"
   ]
  },
  {
   "cell_type": "code",
   "execution_count": null,
   "id": "6db6a678",
   "metadata": {},
   "outputs": [],
   "source": [
    "fig, ax = plt.subplots(1, 2, figsize = (14, 4))\n",
    "ax[0].hist((DX.SEA_ICE_DRAFT_LE-DX.SEA_ICE_DRAFT_AST).values.flatten(), 100);\n",
    "ax[1].hist((DX.SEA_ICE_DRAFT_MEDIAN_LE-DX.SEA_ICE_DRAFT_MEDIAN_AST).values, 100);"
   ]
  },
  {
   "cell_type": "markdown",
   "id": "aae38922",
   "metadata": {},
   "source": [
    "**TO DO**\n",
    "\n",
    "- Continue through with ice velocity. (**X**?)\n",
    "    - Processing + diagnosis\n",
    "- Ocean velocity can be prioritised down for now..\n",
    "- Include chopping functions (**X**?)\n",
    "- Include save to nc functions\n",
    "- Make static page for git"
   ]
  },
  {
   "cell_type": "markdown",
   "id": "2db5e8f1",
   "metadata": {},
   "source": [
    "## Ice velocity\n",
    "\n",
    "The ice drift velocity calculation is simpler, consisting of:\n",
    "\n",
    "- Loading the velocities: *uice, vice* from *AverageIce_VelEast/_VelNorth*\n",
    "- Applying a quality criterion requiring FOM<10 000 for all 4 beams (equivalent to requiring *ICE_IN_SAMPLE==True*)\n",
    "    - Rejecting all samples where this does not hold \n",
    "- Calculate ensemble median values *Uice, Vice* (default is to use medians, can also use means).\n",
    "   - Also creating *Uice_SC, Vice_SD* - containing the ensemble standard deviation. \n",
    "- Rotate the current vectors to account for magnetic declination.\n",
    "  - Applied to both *uice* and *Uice*. (Also applying to ocean velocities now..)"
   ]
  },
  {
   "cell_type": "markdown",
   "id": "ebca80f3",
   "metadata": {},
   "source": [
    "##### Create the ice uv fields "
   ]
  },
  {
   "cell_type": "code",
   "execution_count": null,
   "id": "d1e7994a",
   "metadata": {},
   "outputs": [],
   "source": [
    "DX = sig_ice_vel.calculate_drift(DX)"
   ]
  },
  {
   "cell_type": "markdown",
   "id": "c70f8fb8",
   "metadata": {},
   "source": [
    ".. we have now added *uice, vice, Uice, Vice, Uice_SD, Vice_SD* to *DX*.\n",
    "\n",
    "We can compare *uice* with the original *AverageIce_VelEast* field to see what out FOM cleaning has done:"
   ]
  },
  {
   "cell_type": "code",
   "execution_count": null,
   "id": "bec907c0",
   "metadata": {},
   "outputs": [],
   "source": [
    "DX.TIME[9000].data"
   ]
  },
  {
   "cell_type": "code",
   "execution_count": null,
   "id": "1e621cfb",
   "metadata": {},
   "outputs": [],
   "source": [
    "ax[1].get_xlim()"
   ]
  },
  {
   "cell_type": "code",
   "execution_count": null,
   "id": "b0917d36",
   "metadata": {},
   "outputs": [],
   "source": [
    "fig, ax = plt.subplots(2, 1, figsize = (11, 4))\n",
    "for axn in ax:\n",
    "    axn.plot(DX.TIME, DX.AverageIce_VelEast.isel(SAMPLE=0), '.', alpha = 0.3,label= 'AverageIce_VelEast (first in each sample) ')\n",
    "    axn.plot_date(DX.TIME, DX.uice.isel(SAMPLE=0), '-', label= 'uice (first in each sample) ')\n",
    "    axn.set_ylabel('m/s')\n",
    "    axn.legend(ncol = 2, fontsize = 8, loc = 4)\n",
    "ax[1].set_xlim(num2date(DX.TIME[12000]), num2date(DX.TIME[13000]))\n",
    "ax[1].text(0.1, 0.8, 'ZOOMED', fontsize = 20, fontweight = 'bold', transform=ax[1].transAxes)"
   ]
  },
  {
   "cell_type": "markdown",
   "id": "eb968722",
   "metadata": {},
   "source": [
    "##### Inspect\n",
    "The function *sig_toolbox.plot_ellipse_icevel* is useful to get a quick look at the ice velocity data. It shows the u/v spread, mean and low-passed velocity, and the variance ellipse (of the low-passed currents)"
   ]
  },
  {
   "cell_type": "code",
   "execution_count": null,
   "id": "f825ab13",
   "metadata": {},
   "outputs": [],
   "source": [
    "sig_toolbox.plot_ellipse_icevel(DX);"
   ]
  },
  {
   "cell_type": "markdown",
   "id": "b30d95b8",
   "metadata": {},
   "source": [
    "### Rotating for magnetic declination\n",
    "\n",
    "Earlier, we added the *magdec* field to *DX*. We can now use it to rotate the ice velocity vectors:"
   ]
  },
  {
   "cell_type": "code",
   "execution_count": null,
   "id": "ab062dd1",
   "metadata": {},
   "outputs": [],
   "source": [
    "DX = sig_ice_vel.rotate_vels_magdec(DX)"
   ]
  },
  {
   "cell_type": "markdown",
   "id": "2691487f",
   "metadata": {},
   "source": [
    "The declination is about 20 degrees, so we should expect a CW rotation of the **u** vectors by about 20 degrees. Check this by using *plot_ellipse_icevel* again: "
   ]
  },
  {
   "cell_type": "code",
   "execution_count": null,
   "id": "325e1134",
   "metadata": {},
   "outputs": [],
   "source": [
    "sig_toolbox.plot_ellipse_icevel(DX);"
   ]
  },
  {
   "cell_type": "markdown",
   "id": "a39f8d5c",
   "metadata": {},
   "source": [
    "--> OK. \n",
    "\n",
    "Note that some metadata has been added to the velocity fields, e.g.:"
   ]
  },
  {
   "cell_type": "code",
   "execution_count": null,
   "id": "19d107d0",
   "metadata": {},
   "outputs": [],
   "source": [
    "DX.Uice.attrs"
   ]
  },
  {
   "cell_type": "markdown",
   "id": "1f6b4817",
   "metadata": {},
   "source": [
    "## Ocean velocities (TBW)"
   ]
  },
  {
   "cell_type": "code",
   "execution_count": 243,
   "id": "eb133000",
   "metadata": {},
   "outputs": [
    {
     "name": "stdout",
     "output_type": "stream",
     "text": [
      "CONCATENATING: FILE \"..AeN_M1_01_1.mat\"..\r",
      "170640 time points, 3555 ensembles. Sample per ensemble: 48\n",
      "Done. Run sig_funcs.overview() to print some additional details.\n"
     ]
    },
    {
     "name": "stderr",
     "output_type": "stream",
     "text": [
      "/home/oyvindl/work/code/git_public/sigpyproc/sigpyproc/sig_append.py:270: RuntimeWarning: invalid value encountered in sqrt\n",
      "  180 / np.pi* np.arccos(np.sqrt(\n",
      "/home/oyvindl/work/code/git_public/sigpyproc/sigpyproc/sig_append.py:279: RuntimeWarning: invalid value encountered in sqrt\n",
      "  180 / np.pi* np.arccos(np.sqrt(\n"
     ]
    }
   ],
   "source": [
    "DX = sig_load.matfiles_to_dataset(flist[:2], lat = 79.589, lon = 28.097)"
   ]
  },
  {
   "cell_type": "code",
   "execution_count": 244,
   "id": "d2ba3675",
   "metadata": {},
   "outputs": [
    {
     "name": "stdout",
     "output_type": "stream",
     "text": [
      "WARNING!\n",
      "Could not find atmospheric pressure (*p_atmo*) - not recommended continue if you plan to compute ice draft. \n",
      "--> (To add *p_atmo*, run sig_append.append_atm_pres()=\n",
      "\n",
      "Depth calculation: Abort (A) or Continue (C): c\n",
      "Continuing without atmospheric correction (careful!)..\n",
      "\n",
      "No density (*rho_ocean*) field found. \n",
      "Enter \"A\" (Abort) or \"C\" (Continue using fixed rho = 1027 kg m-3): c\n",
      "Continuing using fixed rho. Choose: \n",
      "(R): Use rho = 1027 kg m-3, or\n",
      "(S): Specify fixed rho\n",
      "r\n",
      "Continuing with fixed rho = 1027.0 kg m-3\n"
     ]
    }
   ],
   "source": [
    "DX = sig_calc.dep_from_p(DX)"
   ]
  },
  {
   "cell_type": "code",
   "execution_count": 297,
   "id": "391ee168",
   "metadata": {},
   "outputs": [
    {
     "data": {
      "text/plain": [
       "<module 'sigpyproc.sig_vel' from '/home/oyvindl/work/code/git_public/sigpyproc/sigpyproc/sig_vel.py'>"
      ]
     },
     "execution_count": 297,
     "metadata": {},
     "output_type": "execute_result"
    }
   ],
   "source": [
    "importlib.reload(sig_vel)"
   ]
  },
  {
   "cell_type": "code",
   "execution_count": 298,
   "id": "2f4d3db0",
   "metadata": {},
   "outputs": [],
   "source": [
    "DX = sig_vel._calculate_bin_depths(DX)"
   ]
  },
  {
   "cell_type": "code",
   "execution_count": 299,
   "id": "3b2168f0",
   "metadata": {},
   "outputs": [
    {
     "data": {
      "text/plain": [
       "('TIME', 'SAMPLE')"
      ]
     },
     "execution_count": 299,
     "metadata": {},
     "output_type": "execute_result"
    }
   ],
   "source": [
    "DX.depth.dims"
   ]
  },
  {
   "cell_type": "code",
   "execution_count": 300,
   "id": "c6da5c8a",
   "metadata": {},
   "outputs": [],
   "source": [
    "DX = sig_vel.calculate_ocean_vel(DX)"
   ]
  },
  {
   "cell_type": "code",
   "execution_count": 301,
   "id": "9194c805",
   "metadata": {},
   "outputs": [
    {
     "data": {
      "text/html": [
       "<div><svg style=\"position: absolute; width: 0; height: 0; overflow: hidden\">\n",
       "<defs>\n",
       "<symbol id=\"icon-database\" viewBox=\"0 0 32 32\">\n",
       "<path d=\"M16 0c-8.837 0-16 2.239-16 5v4c0 2.761 7.163 5 16 5s16-2.239 16-5v-4c0-2.761-7.163-5-16-5z\"></path>\n",
       "<path d=\"M16 17c-8.837 0-16-2.239-16-5v6c0 2.761 7.163 5 16 5s16-2.239 16-5v-6c0 2.761-7.163 5-16 5z\"></path>\n",
       "<path d=\"M16 26c-8.837 0-16-2.239-16-5v6c0 2.761 7.163 5 16 5s16-2.239 16-5v-6c0 2.761-7.163 5-16 5z\"></path>\n",
       "</symbol>\n",
       "<symbol id=\"icon-file-text2\" viewBox=\"0 0 32 32\">\n",
       "<path d=\"M28.681 7.159c-0.694-0.947-1.662-2.053-2.724-3.116s-2.169-2.030-3.116-2.724c-1.612-1.182-2.393-1.319-2.841-1.319h-15.5c-1.378 0-2.5 1.121-2.5 2.5v27c0 1.378 1.122 2.5 2.5 2.5h23c1.378 0 2.5-1.122 2.5-2.5v-19.5c0-0.448-0.137-1.23-1.319-2.841zM24.543 5.457c0.959 0.959 1.712 1.825 2.268 2.543h-4.811v-4.811c0.718 0.556 1.584 1.309 2.543 2.268zM28 29.5c0 0.271-0.229 0.5-0.5 0.5h-23c-0.271 0-0.5-0.229-0.5-0.5v-27c0-0.271 0.229-0.5 0.5-0.5 0 0 15.499-0 15.5 0v7c0 0.552 0.448 1 1 1h7v19.5z\"></path>\n",
       "<path d=\"M23 26h-14c-0.552 0-1-0.448-1-1s0.448-1 1-1h14c0.552 0 1 0.448 1 1s-0.448 1-1 1z\"></path>\n",
       "<path d=\"M23 22h-14c-0.552 0-1-0.448-1-1s0.448-1 1-1h14c0.552 0 1 0.448 1 1s-0.448 1-1 1z\"></path>\n",
       "<path d=\"M23 18h-14c-0.552 0-1-0.448-1-1s0.448-1 1-1h14c0.552 0 1 0.448 1 1s-0.448 1-1 1z\"></path>\n",
       "</symbol>\n",
       "</defs>\n",
       "</svg>\n",
       "<style>/* CSS stylesheet for displaying xarray objects in jupyterlab.\n",
       " *\n",
       " */\n",
       "\n",
       ":root {\n",
       "  --xr-font-color0: var(--jp-content-font-color0, rgba(0, 0, 0, 1));\n",
       "  --xr-font-color2: var(--jp-content-font-color2, rgba(0, 0, 0, 0.54));\n",
       "  --xr-font-color3: var(--jp-content-font-color3, rgba(0, 0, 0, 0.38));\n",
       "  --xr-border-color: var(--jp-border-color2, #e0e0e0);\n",
       "  --xr-disabled-color: var(--jp-layout-color3, #bdbdbd);\n",
       "  --xr-background-color: var(--jp-layout-color0, white);\n",
       "  --xr-background-color-row-even: var(--jp-layout-color1, white);\n",
       "  --xr-background-color-row-odd: var(--jp-layout-color2, #eeeeee);\n",
       "}\n",
       "\n",
       "html[theme=dark],\n",
       "body[data-theme=dark],\n",
       "body.vscode-dark {\n",
       "  --xr-font-color0: rgba(255, 255, 255, 1);\n",
       "  --xr-font-color2: rgba(255, 255, 255, 0.54);\n",
       "  --xr-font-color3: rgba(255, 255, 255, 0.38);\n",
       "  --xr-border-color: #1F1F1F;\n",
       "  --xr-disabled-color: #515151;\n",
       "  --xr-background-color: #111111;\n",
       "  --xr-background-color-row-even: #111111;\n",
       "  --xr-background-color-row-odd: #313131;\n",
       "}\n",
       "\n",
       ".xr-wrap {\n",
       "  display: block !important;\n",
       "  min-width: 300px;\n",
       "  max-width: 700px;\n",
       "}\n",
       "\n",
       ".xr-text-repr-fallback {\n",
       "  /* fallback to plain text repr when CSS is not injected (untrusted notebook) */\n",
       "  display: none;\n",
       "}\n",
       "\n",
       ".xr-header {\n",
       "  padding-top: 6px;\n",
       "  padding-bottom: 6px;\n",
       "  margin-bottom: 4px;\n",
       "  border-bottom: solid 1px var(--xr-border-color);\n",
       "}\n",
       "\n",
       ".xr-header > div,\n",
       ".xr-header > ul {\n",
       "  display: inline;\n",
       "  margin-top: 0;\n",
       "  margin-bottom: 0;\n",
       "}\n",
       "\n",
       ".xr-obj-type,\n",
       ".xr-array-name {\n",
       "  margin-left: 2px;\n",
       "  margin-right: 10px;\n",
       "}\n",
       "\n",
       ".xr-obj-type {\n",
       "  color: var(--xr-font-color2);\n",
       "}\n",
       "\n",
       ".xr-sections {\n",
       "  padding-left: 0 !important;\n",
       "  display: grid;\n",
       "  grid-template-columns: 150px auto auto 1fr 20px 20px;\n",
       "}\n",
       "\n",
       ".xr-section-item {\n",
       "  display: contents;\n",
       "}\n",
       "\n",
       ".xr-section-item input {\n",
       "  display: none;\n",
       "}\n",
       "\n",
       ".xr-section-item input + label {\n",
       "  color: var(--xr-disabled-color);\n",
       "}\n",
       "\n",
       ".xr-section-item input:enabled + label {\n",
       "  cursor: pointer;\n",
       "  color: var(--xr-font-color2);\n",
       "}\n",
       "\n",
       ".xr-section-item input:enabled + label:hover {\n",
       "  color: var(--xr-font-color0);\n",
       "}\n",
       "\n",
       ".xr-section-summary {\n",
       "  grid-column: 1;\n",
       "  color: var(--xr-font-color2);\n",
       "  font-weight: 500;\n",
       "}\n",
       "\n",
       ".xr-section-summary > span {\n",
       "  display: inline-block;\n",
       "  padding-left: 0.5em;\n",
       "}\n",
       "\n",
       ".xr-section-summary-in:disabled + label {\n",
       "  color: var(--xr-font-color2);\n",
       "}\n",
       "\n",
       ".xr-section-summary-in + label:before {\n",
       "  display: inline-block;\n",
       "  content: '►';\n",
       "  font-size: 11px;\n",
       "  width: 15px;\n",
       "  text-align: center;\n",
       "}\n",
       "\n",
       ".xr-section-summary-in:disabled + label:before {\n",
       "  color: var(--xr-disabled-color);\n",
       "}\n",
       "\n",
       ".xr-section-summary-in:checked + label:before {\n",
       "  content: '▼';\n",
       "}\n",
       "\n",
       ".xr-section-summary-in:checked + label > span {\n",
       "  display: none;\n",
       "}\n",
       "\n",
       ".xr-section-summary,\n",
       ".xr-section-inline-details {\n",
       "  padding-top: 4px;\n",
       "  padding-bottom: 4px;\n",
       "}\n",
       "\n",
       ".xr-section-inline-details {\n",
       "  grid-column: 2 / -1;\n",
       "}\n",
       "\n",
       ".xr-section-details {\n",
       "  display: none;\n",
       "  grid-column: 1 / -1;\n",
       "  margin-bottom: 5px;\n",
       "}\n",
       "\n",
       ".xr-section-summary-in:checked ~ .xr-section-details {\n",
       "  display: contents;\n",
       "}\n",
       "\n",
       ".xr-array-wrap {\n",
       "  grid-column: 1 / -1;\n",
       "  display: grid;\n",
       "  grid-template-columns: 20px auto;\n",
       "}\n",
       "\n",
       ".xr-array-wrap > label {\n",
       "  grid-column: 1;\n",
       "  vertical-align: top;\n",
       "}\n",
       "\n",
       ".xr-preview {\n",
       "  color: var(--xr-font-color3);\n",
       "}\n",
       "\n",
       ".xr-array-preview,\n",
       ".xr-array-data {\n",
       "  padding: 0 5px !important;\n",
       "  grid-column: 2;\n",
       "}\n",
       "\n",
       ".xr-array-data,\n",
       ".xr-array-in:checked ~ .xr-array-preview {\n",
       "  display: none;\n",
       "}\n",
       "\n",
       ".xr-array-in:checked ~ .xr-array-data,\n",
       ".xr-array-preview {\n",
       "  display: inline-block;\n",
       "}\n",
       "\n",
       ".xr-dim-list {\n",
       "  display: inline-block !important;\n",
       "  list-style: none;\n",
       "  padding: 0 !important;\n",
       "  margin: 0;\n",
       "}\n",
       "\n",
       ".xr-dim-list li {\n",
       "  display: inline-block;\n",
       "  padding: 0;\n",
       "  margin: 0;\n",
       "}\n",
       "\n",
       ".xr-dim-list:before {\n",
       "  content: '(';\n",
       "}\n",
       "\n",
       ".xr-dim-list:after {\n",
       "  content: ')';\n",
       "}\n",
       "\n",
       ".xr-dim-list li:not(:last-child):after {\n",
       "  content: ',';\n",
       "  padding-right: 5px;\n",
       "}\n",
       "\n",
       ".xr-has-index {\n",
       "  font-weight: bold;\n",
       "}\n",
       "\n",
       ".xr-var-list,\n",
       ".xr-var-item {\n",
       "  display: contents;\n",
       "}\n",
       "\n",
       ".xr-var-item > div,\n",
       ".xr-var-item label,\n",
       ".xr-var-item > .xr-var-name span {\n",
       "  background-color: var(--xr-background-color-row-even);\n",
       "  margin-bottom: 0;\n",
       "}\n",
       "\n",
       ".xr-var-item > .xr-var-name:hover span {\n",
       "  padding-right: 5px;\n",
       "}\n",
       "\n",
       ".xr-var-list > li:nth-child(odd) > div,\n",
       ".xr-var-list > li:nth-child(odd) > label,\n",
       ".xr-var-list > li:nth-child(odd) > .xr-var-name span {\n",
       "  background-color: var(--xr-background-color-row-odd);\n",
       "}\n",
       "\n",
       ".xr-var-name {\n",
       "  grid-column: 1;\n",
       "}\n",
       "\n",
       ".xr-var-dims {\n",
       "  grid-column: 2;\n",
       "}\n",
       "\n",
       ".xr-var-dtype {\n",
       "  grid-column: 3;\n",
       "  text-align: right;\n",
       "  color: var(--xr-font-color2);\n",
       "}\n",
       "\n",
       ".xr-var-preview {\n",
       "  grid-column: 4;\n",
       "}\n",
       "\n",
       ".xr-index-preview {\n",
       "  grid-column: 2 / 5;\n",
       "  color: var(--xr-font-color2);\n",
       "}\n",
       "\n",
       ".xr-var-name,\n",
       ".xr-var-dims,\n",
       ".xr-var-dtype,\n",
       ".xr-preview,\n",
       ".xr-attrs dt {\n",
       "  white-space: nowrap;\n",
       "  overflow: hidden;\n",
       "  text-overflow: ellipsis;\n",
       "  padding-right: 10px;\n",
       "}\n",
       "\n",
       ".xr-var-name:hover,\n",
       ".xr-var-dims:hover,\n",
       ".xr-var-dtype:hover,\n",
       ".xr-attrs dt:hover {\n",
       "  overflow: visible;\n",
       "  width: auto;\n",
       "  z-index: 1;\n",
       "}\n",
       "\n",
       ".xr-var-attrs,\n",
       ".xr-var-data,\n",
       ".xr-index-data {\n",
       "  display: none;\n",
       "  background-color: var(--xr-background-color) !important;\n",
       "  padding-bottom: 5px !important;\n",
       "}\n",
       "\n",
       ".xr-var-attrs-in:checked ~ .xr-var-attrs,\n",
       ".xr-var-data-in:checked ~ .xr-var-data,\n",
       ".xr-index-data-in:checked ~ .xr-index-data {\n",
       "  display: block;\n",
       "}\n",
       "\n",
       ".xr-var-data > table {\n",
       "  float: right;\n",
       "}\n",
       "\n",
       ".xr-var-name span,\n",
       ".xr-var-data,\n",
       ".xr-index-name div,\n",
       ".xr-index-data,\n",
       ".xr-attrs {\n",
       "  padding-left: 25px !important;\n",
       "}\n",
       "\n",
       ".xr-attrs,\n",
       ".xr-var-attrs,\n",
       ".xr-var-data,\n",
       ".xr-index-data {\n",
       "  grid-column: 1 / -1;\n",
       "}\n",
       "\n",
       "dl.xr-attrs {\n",
       "  padding: 0;\n",
       "  margin: 0;\n",
       "  display: grid;\n",
       "  grid-template-columns: 125px auto;\n",
       "}\n",
       "\n",
       ".xr-attrs dt,\n",
       ".xr-attrs dd {\n",
       "  padding: 0;\n",
       "  margin: 0;\n",
       "  float: left;\n",
       "  padding-right: 10px;\n",
       "  width: auto;\n",
       "}\n",
       "\n",
       ".xr-attrs dt {\n",
       "  font-weight: normal;\n",
       "  grid-column: 1;\n",
       "}\n",
       "\n",
       ".xr-attrs dt:hover span {\n",
       "  display: inline-block;\n",
       "  background: var(--xr-background-color);\n",
       "  padding-right: 10px;\n",
       "}\n",
       "\n",
       ".xr-attrs dd {\n",
       "  grid-column: 2;\n",
       "  white-space: pre-wrap;\n",
       "  word-break: break-all;\n",
       "}\n",
       "\n",
       ".xr-icon-database,\n",
       ".xr-icon-file-text2,\n",
       ".xr-no-icon {\n",
       "  display: inline-block;\n",
       "  vertical-align: middle;\n",
       "  width: 1em;\n",
       "  height: 1.5em !important;\n",
       "  stroke-width: 0;\n",
       "  stroke: currentColor;\n",
       "  fill: currentColor;\n",
       "}\n",
       "</style><pre class='xr-text-repr-fallback'>&lt;xarray.DataArray &#x27;uocean&#x27; (BINS: 16, TIME: 3555, SAMPLE: 48)&gt;\n",
       "array([[[-2.17000008e-01, -3.00000003e-03, -2.40000002e-02, ...,\n",
       "         -2.11000010e-01, -2.26000011e-01, -5.40000014e-02],\n",
       "        [ 7.20000044e-02, -2.30000019e-02,  1.56000003e-01, ...,\n",
       "         -6.20000027e-02, -8.00000057e-02, -1.90000013e-02],\n",
       "        [-3.50000001e-02, -6.90000057e-02, -1.60000008e-02, ...,\n",
       "         -1.75000012e-01, -1.53000012e-01, -3.20000015e-02],\n",
       "        ...,\n",
       "        [ 9.43000019e-01, -3.00000012e-01, -3.20000023e-01, ...,\n",
       "          8.47000062e-01,  8.87000024e-01,  1.74000010e-01],\n",
       "        [ 1.03000008e-01, -1.70000009e-02,  4.60000038e-02, ...,\n",
       "          1.03000008e-01, -2.36000016e-01,  2.81000018e-01],\n",
       "        [ 1.18900001e+00, -8.22000027e-01,  2.73000002e-01, ...,\n",
       "         -1.41200006e+00,  9.57000017e-01, -1.17200005e+00]],\n",
       "\n",
       "       [[-9.60000008e-02, -2.00000014e-02, -1.35000005e-01, ...,\n",
       "         -1.18000008e-01, -2.82000005e-01, -1.93000004e-01],\n",
       "        [-1.00000007e-02, -9.90000069e-02, -5.80000021e-02, ...,\n",
       "         -7.70000070e-02, -1.10000007e-01,  1.00000001e-01],\n",
       "        [-1.27000004e-01, -1.03000008e-01, -1.60000011e-01, ...,\n",
       "         -1.20000005e-01, -1.54000014e-01, -6.59999996e-02],\n",
       "...\n",
       "         -2.49300003e+00,  5.32000005e-01, -5.73000014e-01],\n",
       "        [-7.11000025e-01,  2.43000016e-01,  1.67000011e-01, ...,\n",
       "          9.42000031e-01,  1.13100004e+00, -2.05800009e+00],\n",
       "        [ 1.23200011e+00,  2.75100017e+00, -4.66000021e-01, ...,\n",
       "         -1.20000005e-01, -1.00999999e+00, -4.35000032e-01]],\n",
       "\n",
       "       [[ 1.24700010e+00,  6.39000058e-01, -2.55000025e-01, ...,\n",
       "          3.36000025e-01,  5.02000034e-01, -2.34000012e-01],\n",
       "        [ 5.96000016e-01, -2.40000002e-02, -5.00000007e-02, ...,\n",
       "         -1.04900002e+00,  2.07000017e-01,  5.57000041e-01],\n",
       "        [-1.56500006e+00,  1.89400005e+00,  1.67000011e-01, ...,\n",
       "          1.51000008e-01,  8.38000059e-01,  2.19000012e-01],\n",
       "        ...,\n",
       "        [-1.08200002e+00, -1.90900004e+00,  2.10000016e-02, ...,\n",
       "          1.23400009e+00, -2.68000007e-01, -1.23300004e+00],\n",
       "        [-4.53000009e-01, -6.18000031e-01, -3.06000024e-01, ...,\n",
       "          5.06000042e-01, -2.80000009e-02, -1.11800003e+00],\n",
       "        [ 6.97000027e-01, -2.02400017e+00,  6.64000034e-01, ...,\n",
       "          1.10800004e+00, -1.47300005e+00, -1.80600011e+00]]],\n",
       "      dtype=float32)\n",
       "Coordinates:\n",
       "  * BINS     (BINS) int64 0 1 2 3 4 5 6 7 8 9 10 11 12 13 14 15\n",
       "  * TIME     (TIME) float64 1.781e+04 1.781e+04 ... 1.822e+04 1.822e+04\n",
       "  * SAMPLE   (SAMPLE) int64 1 2 3 4 5 6 7 8 9 10 ... 40 41 42 43 44 45 46 47 48\n",
       "Attributes:\n",
       "    units:               m s-1\n",
       "    long_name:           Eastward ocean velocity\n",
       "    details:             All average mode samples\n",
       "    processing_history:  Loaded from Average_VelEast/Average_VelEast fields.\\n</pre><div class='xr-wrap' style='display:none'><div class='xr-header'><div class='xr-obj-type'>xarray.DataArray</div><div class='xr-array-name'>'uocean'</div><ul class='xr-dim-list'><li><span class='xr-has-index'>BINS</span>: 16</li><li><span class='xr-has-index'>TIME</span>: 3555</li><li><span class='xr-has-index'>SAMPLE</span>: 48</li></ul></div><ul class='xr-sections'><li class='xr-section-item'><div class='xr-array-wrap'><input id='section-00818811-ce5c-4d1e-9cb5-56ef242f5521' class='xr-array-in' type='checkbox' checked><label for='section-00818811-ce5c-4d1e-9cb5-56ef242f5521' title='Show/hide data repr'><svg class='icon xr-icon-database'><use xlink:href='#icon-database'></use></svg></label><div class='xr-array-preview xr-preview'><span>-0.217 -0.003 -0.024 0.079 0.002 ... 0.872 3.247 1.108 -1.473 -1.806</span></div><div class='xr-array-data'><pre>array([[[-2.17000008e-01, -3.00000003e-03, -2.40000002e-02, ...,\n",
       "         -2.11000010e-01, -2.26000011e-01, -5.40000014e-02],\n",
       "        [ 7.20000044e-02, -2.30000019e-02,  1.56000003e-01, ...,\n",
       "         -6.20000027e-02, -8.00000057e-02, -1.90000013e-02],\n",
       "        [-3.50000001e-02, -6.90000057e-02, -1.60000008e-02, ...,\n",
       "         -1.75000012e-01, -1.53000012e-01, -3.20000015e-02],\n",
       "        ...,\n",
       "        [ 9.43000019e-01, -3.00000012e-01, -3.20000023e-01, ...,\n",
       "          8.47000062e-01,  8.87000024e-01,  1.74000010e-01],\n",
       "        [ 1.03000008e-01, -1.70000009e-02,  4.60000038e-02, ...,\n",
       "          1.03000008e-01, -2.36000016e-01,  2.81000018e-01],\n",
       "        [ 1.18900001e+00, -8.22000027e-01,  2.73000002e-01, ...,\n",
       "         -1.41200006e+00,  9.57000017e-01, -1.17200005e+00]],\n",
       "\n",
       "       [[-9.60000008e-02, -2.00000014e-02, -1.35000005e-01, ...,\n",
       "         -1.18000008e-01, -2.82000005e-01, -1.93000004e-01],\n",
       "        [-1.00000007e-02, -9.90000069e-02, -5.80000021e-02, ...,\n",
       "         -7.70000070e-02, -1.10000007e-01,  1.00000001e-01],\n",
       "        [-1.27000004e-01, -1.03000008e-01, -1.60000011e-01, ...,\n",
       "         -1.20000005e-01, -1.54000014e-01, -6.59999996e-02],\n",
       "...\n",
       "         -2.49300003e+00,  5.32000005e-01, -5.73000014e-01],\n",
       "        [-7.11000025e-01,  2.43000016e-01,  1.67000011e-01, ...,\n",
       "          9.42000031e-01,  1.13100004e+00, -2.05800009e+00],\n",
       "        [ 1.23200011e+00,  2.75100017e+00, -4.66000021e-01, ...,\n",
       "         -1.20000005e-01, -1.00999999e+00, -4.35000032e-01]],\n",
       "\n",
       "       [[ 1.24700010e+00,  6.39000058e-01, -2.55000025e-01, ...,\n",
       "          3.36000025e-01,  5.02000034e-01, -2.34000012e-01],\n",
       "        [ 5.96000016e-01, -2.40000002e-02, -5.00000007e-02, ...,\n",
       "         -1.04900002e+00,  2.07000017e-01,  5.57000041e-01],\n",
       "        [-1.56500006e+00,  1.89400005e+00,  1.67000011e-01, ...,\n",
       "          1.51000008e-01,  8.38000059e-01,  2.19000012e-01],\n",
       "        ...,\n",
       "        [-1.08200002e+00, -1.90900004e+00,  2.10000016e-02, ...,\n",
       "          1.23400009e+00, -2.68000007e-01, -1.23300004e+00],\n",
       "        [-4.53000009e-01, -6.18000031e-01, -3.06000024e-01, ...,\n",
       "          5.06000042e-01, -2.80000009e-02, -1.11800003e+00],\n",
       "        [ 6.97000027e-01, -2.02400017e+00,  6.64000034e-01, ...,\n",
       "          1.10800004e+00, -1.47300005e+00, -1.80600011e+00]]],\n",
       "      dtype=float32)</pre></div></div></li><li class='xr-section-item'><input id='section-e9593d6a-9989-44b8-a3ba-f3b9c16fb1e7' class='xr-section-summary-in' type='checkbox'  checked><label for='section-e9593d6a-9989-44b8-a3ba-f3b9c16fb1e7' class='xr-section-summary' >Coordinates: <span>(3)</span></label><div class='xr-section-inline-details'></div><div class='xr-section-details'><ul class='xr-var-list'><li class='xr-var-item'><div class='xr-var-name'><span class='xr-has-index'>BINS</span></div><div class='xr-var-dims'>(BINS)</div><div class='xr-var-dtype'>int64</div><div class='xr-var-preview xr-preview'>0 1 2 3 4 5 6 ... 10 11 12 13 14 15</div><input id='attrs-87b1deed-bb93-4a80-b40f-bea436f927c5' class='xr-var-attrs-in' type='checkbox' ><label for='attrs-87b1deed-bb93-4a80-b40f-bea436f927c5' title='Show/Hide attributes'><svg class='icon xr-icon-file-text2'><use xlink:href='#icon-file-text2'></use></svg></label><input id='data-737b4c0b-2f89-4c4b-9807-0b5ed0cf92dc' class='xr-var-data-in' type='checkbox'><label for='data-737b4c0b-2f89-4c4b-9807-0b5ed0cf92dc' title='Show/Hide data repr'><svg class='icon xr-icon-database'><use xlink:href='#icon-database'></use></svg></label><div class='xr-var-attrs'><dl class='xr-attrs'><dt><span>description :</span></dt><dd>Number of velocity bins.</dd></dl></div><div class='xr-var-data'><pre>array([ 0,  1,  2,  3,  4,  5,  6,  7,  8,  9, 10, 11, 12, 13, 14, 15])</pre></div></li><li class='xr-var-item'><div class='xr-var-name'><span class='xr-has-index'>TIME</span></div><div class='xr-var-dims'>(TIME)</div><div class='xr-var-dtype'>float64</div><div class='xr-var-preview xr-preview'>1.781e+04 1.781e+04 ... 1.822e+04</div><input id='attrs-e1dc1fa8-330a-4229-8841-0ce205892636' class='xr-var-attrs-in' type='checkbox' ><label for='attrs-e1dc1fa8-330a-4229-8841-0ce205892636' title='Show/Hide attributes'><svg class='icon xr-icon-file-text2'><use xlink:href='#icon-file-text2'></use></svg></label><input id='data-fc9f112e-bfb5-4fc5-ac3a-90f771db21dd' class='xr-var-data-in' type='checkbox'><label for='data-fc9f112e-bfb5-4fc5-ac3a-90f771db21dd' title='Show/Hide data repr'><svg class='icon xr-icon-database'><use xlink:href='#icon-database'></use></svg></label><div class='xr-var-attrs'><dl class='xr-attrs'><dt><span>units :</span></dt><dd>Days since 1970-01-01</dd><dt><span>long_name :</span></dt><dd>Time stamp of the ensemble averaged measurement</dd></dl></div><div class='xr-var-data'><pre>array([17810.500276, 17810.510693, 17810.52111 , ..., 18216.500276,\n",
       "       18216.510693, 18216.52111 ])</pre></div></li><li class='xr-var-item'><div class='xr-var-name'><span class='xr-has-index'>SAMPLE</span></div><div class='xr-var-dims'>(SAMPLE)</div><div class='xr-var-dtype'>int64</div><div class='xr-var-preview xr-preview'>1 2 3 4 5 6 7 ... 43 44 45 46 47 48</div><input id='attrs-cb48cbba-297e-4e93-bb0f-74cb6d8db9e3' class='xr-var-attrs-in' type='checkbox' ><label for='attrs-cb48cbba-297e-4e93-bb0f-74cb6d8db9e3' title='Show/Hide attributes'><svg class='icon xr-icon-file-text2'><use xlink:href='#icon-file-text2'></use></svg></label><input id='data-e7620338-3536-4395-a2e0-14c4cd353961' class='xr-var-data-in' type='checkbox'><label for='data-e7620338-3536-4395-a2e0-14c4cd353961' title='Show/Hide data repr'><svg class='icon xr-icon-database'><use xlink:href='#icon-database'></use></svg></label><div class='xr-var-attrs'><dl class='xr-attrs'><dt><span>units :</span></dt><dd>Sample number</dd><dt><span>long_name :</span></dt><dd>Sample number in ensemble (48 samples per ensemble)</dd></dl></div><div class='xr-var-data'><pre>array([ 1,  2,  3,  4,  5,  6,  7,  8,  9, 10, 11, 12, 13, 14, 15, 16, 17, 18,\n",
       "       19, 20, 21, 22, 23, 24, 25, 26, 27, 28, 29, 30, 31, 32, 33, 34, 35, 36,\n",
       "       37, 38, 39, 40, 41, 42, 43, 44, 45, 46, 47, 48])</pre></div></li></ul></div></li><li class='xr-section-item'><input id='section-2dceadc4-8bf8-41b6-9147-14caa083d566' class='xr-section-summary-in' type='checkbox'  ><label for='section-2dceadc4-8bf8-41b6-9147-14caa083d566' class='xr-section-summary' >Indexes: <span>(3)</span></label><div class='xr-section-inline-details'></div><div class='xr-section-details'><ul class='xr-var-list'><li class='xr-var-item'><div class='xr-index-name'><div>BINS</div></div><div class='xr-index-preview'>PandasIndex</div><div></div><input id='index-7a897590-ec65-41e1-be7d-164ba16c7c32' class='xr-index-data-in' type='checkbox'/><label for='index-7a897590-ec65-41e1-be7d-164ba16c7c32' title='Show/Hide index repr'><svg class='icon xr-icon-database'><use xlink:href='#icon-database'></use></svg></label><div class='xr-index-data'><pre>PandasIndex(Int64Index([0, 1, 2, 3, 4, 5, 6, 7, 8, 9, 10, 11, 12, 13, 14, 15], dtype=&#x27;int64&#x27;, name=&#x27;BINS&#x27;))</pre></div></li><li class='xr-var-item'><div class='xr-index-name'><div>TIME</div></div><div class='xr-index-preview'>PandasIndex</div><div></div><input id='index-ba2eec05-c1c0-4cb3-99da-263ad5399d3c' class='xr-index-data-in' type='checkbox'/><label for='index-ba2eec05-c1c0-4cb3-99da-263ad5399d3c' title='Show/Hide index repr'><svg class='icon xr-icon-database'><use xlink:href='#icon-database'></use></svg></label><div class='xr-index-data'><pre>PandasIndex(Float64Index([17810.500276341394, 17810.510693009244,  17810.52110967593,\n",
       "               17810.53152634256, 17810.541943009244,  17810.55235967593,\n",
       "               17810.56277634256, 17810.573193009244,  17810.58360967593,\n",
       "               17810.59402634256,\n",
       "              ...\n",
       "               18216.42735967593,  18216.43777634256, 18216.448193009244,\n",
       "               18216.45860967593,  18216.46902634314, 18216.479443009244,\n",
       "               18216.48985967593,  18216.50027634256, 18216.510693009244,\n",
       "               18216.52110967593],\n",
       "             dtype=&#x27;float64&#x27;, name=&#x27;TIME&#x27;, length=3555))</pre></div></li><li class='xr-var-item'><div class='xr-index-name'><div>SAMPLE</div></div><div class='xr-index-preview'>PandasIndex</div><div></div><input id='index-028b5f77-dd71-4610-a79d-01423239cc0d' class='xr-index-data-in' type='checkbox'/><label for='index-028b5f77-dd71-4610-a79d-01423239cc0d' title='Show/Hide index repr'><svg class='icon xr-icon-database'><use xlink:href='#icon-database'></use></svg></label><div class='xr-index-data'><pre>PandasIndex(Int64Index([ 1,  2,  3,  4,  5,  6,  7,  8,  9, 10, 11, 12, 13, 14, 15, 16, 17,\n",
       "            18, 19, 20, 21, 22, 23, 24, 25, 26, 27, 28, 29, 30, 31, 32, 33, 34,\n",
       "            35, 36, 37, 38, 39, 40, 41, 42, 43, 44, 45, 46, 47, 48],\n",
       "           dtype=&#x27;int64&#x27;, name=&#x27;SAMPLE&#x27;))</pre></div></li></ul></div></li><li class='xr-section-item'><input id='section-110b46e0-ec26-4594-b476-ec578fb89f2a' class='xr-section-summary-in' type='checkbox'  checked><label for='section-110b46e0-ec26-4594-b476-ec578fb89f2a' class='xr-section-summary' >Attributes: <span>(4)</span></label><div class='xr-section-inline-details'></div><div class='xr-section-details'><dl class='xr-attrs'><dt><span>units :</span></dt><dd>m s-1</dd><dt><span>long_name :</span></dt><dd>Eastward ocean velocity</dd><dt><span>details :</span></dt><dd>All average mode samples</dd><dt><span>processing_history :</span></dt><dd>Loaded from Average_VelEast/Average_VelEast fields.\n",
       "</dd></dl></div></li></ul></div></div>"
      ],
      "text/plain": [
       "<xarray.DataArray 'uocean' (BINS: 16, TIME: 3555, SAMPLE: 48)>\n",
       "array([[[-2.17000008e-01, -3.00000003e-03, -2.40000002e-02, ...,\n",
       "         -2.11000010e-01, -2.26000011e-01, -5.40000014e-02],\n",
       "        [ 7.20000044e-02, -2.30000019e-02,  1.56000003e-01, ...,\n",
       "         -6.20000027e-02, -8.00000057e-02, -1.90000013e-02],\n",
       "        [-3.50000001e-02, -6.90000057e-02, -1.60000008e-02, ...,\n",
       "         -1.75000012e-01, -1.53000012e-01, -3.20000015e-02],\n",
       "        ...,\n",
       "        [ 9.43000019e-01, -3.00000012e-01, -3.20000023e-01, ...,\n",
       "          8.47000062e-01,  8.87000024e-01,  1.74000010e-01],\n",
       "        [ 1.03000008e-01, -1.70000009e-02,  4.60000038e-02, ...,\n",
       "          1.03000008e-01, -2.36000016e-01,  2.81000018e-01],\n",
       "        [ 1.18900001e+00, -8.22000027e-01,  2.73000002e-01, ...,\n",
       "         -1.41200006e+00,  9.57000017e-01, -1.17200005e+00]],\n",
       "\n",
       "       [[-9.60000008e-02, -2.00000014e-02, -1.35000005e-01, ...,\n",
       "         -1.18000008e-01, -2.82000005e-01, -1.93000004e-01],\n",
       "        [-1.00000007e-02, -9.90000069e-02, -5.80000021e-02, ...,\n",
       "         -7.70000070e-02, -1.10000007e-01,  1.00000001e-01],\n",
       "        [-1.27000004e-01, -1.03000008e-01, -1.60000011e-01, ...,\n",
       "         -1.20000005e-01, -1.54000014e-01, -6.59999996e-02],\n",
       "...\n",
       "         -2.49300003e+00,  5.32000005e-01, -5.73000014e-01],\n",
       "        [-7.11000025e-01,  2.43000016e-01,  1.67000011e-01, ...,\n",
       "          9.42000031e-01,  1.13100004e+00, -2.05800009e+00],\n",
       "        [ 1.23200011e+00,  2.75100017e+00, -4.66000021e-01, ...,\n",
       "         -1.20000005e-01, -1.00999999e+00, -4.35000032e-01]],\n",
       "\n",
       "       [[ 1.24700010e+00,  6.39000058e-01, -2.55000025e-01, ...,\n",
       "          3.36000025e-01,  5.02000034e-01, -2.34000012e-01],\n",
       "        [ 5.96000016e-01, -2.40000002e-02, -5.00000007e-02, ...,\n",
       "         -1.04900002e+00,  2.07000017e-01,  5.57000041e-01],\n",
       "        [-1.56500006e+00,  1.89400005e+00,  1.67000011e-01, ...,\n",
       "          1.51000008e-01,  8.38000059e-01,  2.19000012e-01],\n",
       "        ...,\n",
       "        [-1.08200002e+00, -1.90900004e+00,  2.10000016e-02, ...,\n",
       "          1.23400009e+00, -2.68000007e-01, -1.23300004e+00],\n",
       "        [-4.53000009e-01, -6.18000031e-01, -3.06000024e-01, ...,\n",
       "          5.06000042e-01, -2.80000009e-02, -1.11800003e+00],\n",
       "        [ 6.97000027e-01, -2.02400017e+00,  6.64000034e-01, ...,\n",
       "          1.10800004e+00, -1.47300005e+00, -1.80600011e+00]]],\n",
       "      dtype=float32)\n",
       "Coordinates:\n",
       "  * BINS     (BINS) int64 0 1 2 3 4 5 6 7 8 9 10 11 12 13 14 15\n",
       "  * TIME     (TIME) float64 1.781e+04 1.781e+04 ... 1.822e+04 1.822e+04\n",
       "  * SAMPLE   (SAMPLE) int64 1 2 3 4 5 6 7 8 9 10 ... 40 41 42 43 44 45 46 47 48\n",
       "Attributes:\n",
       "    units:               m s-1\n",
       "    long_name:           Eastward ocean velocity\n",
       "    details:             All average mode samples\n",
       "    processing_history:  Loaded from Average_VelEast/Average_VelEast fields.\\n"
      ]
     },
     "execution_count": 301,
     "metadata": {},
     "output_type": "execute_result"
    }
   ],
   "source": [
    "DX.uocean"
   ]
  },
  {
   "cell_type": "code",
   "execution_count": 302,
   "id": "e1f09ef5",
   "metadata": {},
   "outputs": [
    {
     "data": {
      "text/plain": [
       "('TIME', 'SAMPLE')"
      ]
     },
     "execution_count": 302,
     "metadata": {},
     "output_type": "execute_result"
    }
   ],
   "source": [
    "DX.depth.dims"
   ]
  },
  {
   "cell_type": "code",
   "execution_count": 303,
   "id": "542bfa2f",
   "metadata": {},
   "outputs": [
    {
     "data": {
      "text/plain": [
       "<matplotlib.collections.QuadMesh at 0x7f139fa2f820>"
      ]
     },
     "execution_count": 303,
     "metadata": {},
     "output_type": "execute_result"
    },
    {
     "data": {
      "image/png": "[encoded data removed]",
      "text/plain": [
       "<Figure size 640x480 with 1 Axes>"
      ]
     },
     "metadata": {},
     "output_type": "display_data"
    }
   ],
   "source": [
    "fig, ax = plt.subplots()\n",
    "ax.pcolormesh(DX.uocean.isel(SAMPLE=1))"
   ]
  },
  {
   "cell_type": "code",
   "execution_count": 304,
   "id": "1f10b24d",
   "metadata": {},
   "outputs": [],
   "source": [
    "d = DX['uocean']"
   ]
  },
  {
   "cell_type": "code",
   "execution_count": 314,
   "id": "c7c1572e",
   "metadata": {},
   "outputs": [],
   "source": [
    "importlib.reload(sig_vel)\n",
    "DX = sig_vel._uvoc_mask_range(DX)"
   ]
  },
  {
   "cell_type": "code",
   "execution_count": 311,
   "id": "c0512f86",
   "metadata": {},
   "outputs": [],
   "source": [
    "DX = sig_append.append_magdec(DX, 20.69)"
   ]
  },
  {
   "cell_type": "code",
   "execution_count": 317,
   "id": "1f80437c",
   "metadata": {},
   "outputs": [
    {
     "name": "stdout",
     "output_type": "stream",
     "text": [
      "('uocean', 'vocean')\n",
      "Declination correction rotation has been applied to something before. \n",
      " -> Continue (1) or skip new correction (0): 1\n",
      "-> Applying new correction.\n"
     ]
    },
    {
     "ename": "AttributeError",
     "evalue": "'Dataset' object has no attribute '_calculate_uvocean_avg'",
     "output_type": "error",
     "traceback": [
      "\u001b[0;31m---------------------------------------------------------------------------\u001b[0m",
      "\u001b[0;31mAttributeError\u001b[0m                            Traceback (most recent call last)",
      "Cell \u001b[0;32mIn[317], line 1\u001b[0m\n\u001b[0;32m----> 1\u001b[0m DX \u001b[38;5;241m=\u001b[39m \u001b[43msig_vel\u001b[49m\u001b[38;5;241;43m.\u001b[39;49m\u001b[43mrotate_vels_magdec\u001b[49m\u001b[43m(\u001b[49m\u001b[43mDX\u001b[49m\u001b[43m)\u001b[49m\n",
      "File \u001b[0;32m~/work/code/git_public/sigpyproc/sigpyproc/sig_vel.py:319\u001b[0m, in \u001b[0;36mrotate_vels_magdec\u001b[0;34m(DX)\u001b[0m\n\u001b[1;32m    315\u001b[0m \u001b[38;5;28;01melse\u001b[39;00m:\n\u001b[1;32m    316\u001b[0m     DX\u001b[38;5;241m.\u001b[39mattrs[\u001b[38;5;124m'\u001b[39m\u001b[38;5;124mdeclination_correction\u001b[39m\u001b[38;5;124m'\u001b[39m] \u001b[38;5;241m=\u001b[39m (\n\u001b[1;32m    317\u001b[0m       \u001b[38;5;124m'\u001b[39m\u001b[38;5;124mMagdec declination correction rotation applied to: \u001b[39m\u001b[38;5;132;01m%s\u001b[39;00m\u001b[38;5;124m'\u001b[39m\u001b[38;5;241m%\u001b[39muvstrs)\n\u001b[0;32m--> 319\u001b[0m DX \u001b[38;5;241m=\u001b[39m \u001b[43mDX\u001b[49m\u001b[38;5;241;43m.\u001b[39;49m\u001b[43m_calculate_uvocean_avg\u001b[49m(DX, avg_method \u001b[38;5;241m=\u001b[39m \u001b[38;5;124m'\u001b[39m\u001b[38;5;124mmedian\u001b[39m\u001b[38;5;124m'\u001b[39m) \n\u001b[1;32m    320\u001b[0m DX \u001b[38;5;241m=\u001b[39m DX\u001b[38;5;241m.\u001b[39m_calculate_uvice_avg(DX, avg_method \u001b[38;5;241m=\u001b[39m \u001b[38;5;124m'\u001b[39m\u001b[38;5;124mmedian\u001b[39m\u001b[38;5;124m'\u001b[39m) \n\u001b[1;32m    322\u001b[0m \u001b[38;5;28;01mreturn\u001b[39;00m DX\n",
      "File \u001b[0;32m~/anaconda3/envs/oyv/lib/python3.8/site-packages/xarray/core/common.py:272\u001b[0m, in \u001b[0;36mAttrAccessMixin.__getattr__\u001b[0;34m(self, name)\u001b[0m\n\u001b[1;32m    270\u001b[0m         \u001b[38;5;28;01mwith\u001b[39;00m suppress(\u001b[38;5;167;01mKeyError\u001b[39;00m):\n\u001b[1;32m    271\u001b[0m             \u001b[38;5;28;01mreturn\u001b[39;00m source[name]\n\u001b[0;32m--> 272\u001b[0m \u001b[38;5;28;01mraise\u001b[39;00m \u001b[38;5;167;01mAttributeError\u001b[39;00m(\n\u001b[1;32m    273\u001b[0m     \u001b[38;5;124mf\u001b[39m\u001b[38;5;124m\"\u001b[39m\u001b[38;5;132;01m{\u001b[39;00m\u001b[38;5;28mtype\u001b[39m(\u001b[38;5;28mself\u001b[39m)\u001b[38;5;241m.\u001b[39m\u001b[38;5;18m__name__\u001b[39m\u001b[38;5;132;01m!r}\u001b[39;00m\u001b[38;5;124m object has no attribute \u001b[39m\u001b[38;5;132;01m{\u001b[39;00mname\u001b[38;5;132;01m!r}\u001b[39;00m\u001b[38;5;124m\"\u001b[39m\n\u001b[1;32m    274\u001b[0m )\n",
      "\u001b[0;31mAttributeError\u001b[0m: 'Dataset' object has no attribute '_calculate_uvocean_avg'"
     ]
    }
   ],
   "source": [
    "DX = sig_vel.rotate_vels_magdec(DX)"
   ]
  },
  {
   "cell_type": "code",
   "execution_count": 321,
   "id": "ef447152",
   "metadata": {},
   "outputs": [
    {
     "data": {
      "text/plain": [
       "<module 'sigpyproc.sig_vel' from '/home/oyvindl/work/code/git_public/sigpyproc/sigpyproc/sig_vel.py'>"
      ]
     },
     "execution_count": 321,
     "metadata": {},
     "output_type": "execute_result"
    }
   ],
   "source": [
    "importlib.reload(sig_vel)\n"
   ]
  },
  {
   "cell_type": "code",
   "execution_count": 322,
   "id": "fc90f9b8",
   "metadata": {},
   "outputs": [
    {
     "name": "stdout",
     "output_type": "stream",
     "text": [
      "Declination correction rotation has been applied to something before. \n",
      " -> Continue (1) or skip new correction (0): 1\n",
      "-> Applying new correction.\n"
     ]
    }
   ],
   "source": [
    "DX = sig_vel.rotate_vels_magdec(DX)"
   ]
  },
  {
   "cell_type": "code",
   "execution_count": 324,
   "id": "8f9bef83",
   "metadata": {},
   "outputs": [
    {
     "data": {
      "text/plain": [
       "'!! NOTE !! Magnetic declination correction has been applied more than once - !! CAREFUL !!\\n!! NOTE !! Magnetic declination correction has been applied more than once - !! CAREFUL !!\\n!! NOTE !! Magnetic declination correction has been applied more than once - !! CAREFUL !!\\nMagdec declination correction rotation applied to: \\n - (uocean, vocean)'"
      ]
     },
     "execution_count": 324,
     "metadata": {},
     "output_type": "execute_result"
    }
   ],
   "source": [
    "DX.declination_correction"
   ]
  },
  {
   "cell_type": "code",
   "execution_count": 294,
   "id": "3e39b57b",
   "metadata": {},
   "outputs": [
    {
     "data": {
      "text/plain": [
       "'Loaded from Average_VelEast/Average_VelEast fields.\\n\\nTHRESHOLD_BASED DATA CLEANING : \\nStart: 2730240 initial valid samples.\\nDropping (NaNing samples where):\\n- # Speed < 1.50 ms-1 # -> Dropped 288608 pts (10.57%)\\n- # Tilt < 5.00 deg # -> Dropped 4508 pts (0.18%)\\n- # Sound sp in [1400, 1560] ms-1 # -> Dropped 0 pts (0.00%)\\n- # Corr (all beams) < 60.0 % # -> Dropped 58580 pts (2.40%)\\n- # Amp (all beams) in [30, 85] db # -> Dropped 166514 pts (7.00%)\\n- # Above amp bumps > 20 db # -> Dropped 806370 pts (36.45%)\\nEnd: 1405660 valid samples.\\nRotated CW by an average of 20.69 degrees to correct for magnetic declination. \\nRotated CW by an average of 20.69 degrees to correct for magnetic declination. \\nRotated CW by an average of 20.69 degrees to correct for magnetic declination. \\n'"
      ]
     },
     "execution_count": 294,
     "metadata": {},
     "output_type": "execute_result"
    }
   ],
   "source": [
    "DX.uocean.processing_history"
   ]
  },
  {
   "cell_type": "code",
   "execution_count": 235,
   "id": "e0815949",
   "metadata": {},
   "outputs": [
    {
     "data": {
      "text/plain": [
       "<matplotlib.collections.QuadMesh at 0x7f13b1583430>"
      ]
     },
     "execution_count": 235,
     "metadata": {},
     "output_type": "execute_result"
    },
    {
     "data": {
      "image/png": "[encoded data removed]",
      "text/plain": [
       "<Figure size 640x480 with 1 Axes>"
      ]
     },
     "metadata": {},
     "output_type": "display_data"
    }
   ],
   "source": [
    "fig, ax = plt.subplots()\n",
    "ax.pcolormesh(DX.uocean.isel(SAMPLE=1))"
   ]
  },
  {
   "cell_type": "code",
   "execution_count": 159,
   "id": "3773b102",
   "metadata": {},
   "outputs": [
    {
     "data": {
      "text/plain": [
       "('TIME', 'SAMPLE')"
      ]
     },
     "execution_count": 159,
     "metadata": {},
     "output_type": "execute_result"
    }
   ],
   "source": [
    "DX.depth.dims"
   ]
  },
  {
   "cell_type": "code",
   "execution_count": 141,
   "id": "02aa229e",
   "metadata": {},
   "outputs": [
    {
     "data": {
      "text/plain": [
       "2212030.0"
      ]
     },
     "execution_count": 141,
     "metadata": {},
     "output_type": "execute_result"
    }
   ],
   "source": [
    "DX"
   ]
  },
  {
   "cell_type": "code",
   "execution_count": 120,
   "id": "acb4c637",
   "metadata": {},
   "outputs": [
    {
     "data": {
      "text/plain": [
       "<module 'sigpyproc.sig_vel' from '/home/oyvindl/work/code/git_public/sigpyproc/sigpyproc/sig_vel.py'>"
      ]
     },
     "execution_count": 120,
     "metadata": {},
     "output_type": "execute_result"
    }
   ],
   "source": [
    "importlib.reload(sig_vel)"
   ]
  },
  {
   "cell_type": "code",
   "execution_count": null,
   "id": "549fdcd2",
   "metadata": {},
   "outputs": [],
   "source": [
    "DX.ti"
   ]
  },
  {
   "cell_type": "code",
   "execution_count": 162,
   "id": "2402bca6",
   "metadata": {},
   "outputs": [
    {
     "data": {
      "text/plain": [
       "<matplotlib.collections.QuadMesh at 0x7f13b9d1b2e0>"
      ]
     },
     "execution_count": 162,
     "metadata": {},
     "output_type": "execute_result"
    },
    {
     "data": {
      "image/png": "[encoded data removed]",
      "text/plain": [
       "<Figure size 640x480 with 1 Axes>"
      ]
     },
     "metadata": {},
     "output_type": "display_data"
    }
   ],
   "source": []
  },
  {
   "cell_type": "code",
   "execution_count": null,
   "id": "eae1893b",
   "metadata": {},
   "outputs": [],
   "source": [
    "DX.bin_depth"
   ]
  },
  {
   "cell_type": "code",
   "execution_count": 160,
   "id": "a88fe6c1",
   "metadata": {},
   "outputs": [
    {
     "data": {
      "text/plain": [
       "(array([     0.,      0.,      0.,      0.,      0.,      0.,      0.,\n",
       "             0.,      0.,      0.,      0.,      0.,      0.,      0.,\n",
       "             0.,      0.,      0.,      0.,      0.,      0.,      0.,\n",
       "             0.,      0.,      0.,      0.,      0.,      0.,      0.,\n",
       "             0.,      0.,      0.,      0.,      0.,      0.,      0.,\n",
       "             0.,      0.,      0.,      0.,      0.,      0.,      0.,\n",
       "          3182.,  15196.,  27164.,  41476.,  61353.,  95092., 245047.,\n",
       "        826266., 542794., 145884.,  79936.,  53670.,  36405.,  23318.,\n",
       "         12608.,   2639.,      0.,      0.,      0.,      0.,      0.,\n",
       "             0.,      0.,      0.,      0.,      0.,      0.,      0.,\n",
       "             0.,      0.,      0.,      0.,      0.,      0.,      0.,\n",
       "             0.,      0.,      0.,      0.,      0.,      0.,      0.,\n",
       "             0.,      0.,      0.,      0.,      0.,      0.,      0.,\n",
       "             0.,      0.,      0.,      0.,      0.,      0.,      0.,\n",
       "             0.,      0.]),\n",
       " array([-10. ,  -9.8,  -9.6,  -9.4,  -9.2,  -9. ,  -8.8,  -8.6,  -8.4,\n",
       "         -8.2,  -8. ,  -7.8,  -7.6,  -7.4,  -7.2,  -7. ,  -6.8,  -6.6,\n",
       "         -6.4,  -6.2,  -6. ,  -5.8,  -5.6,  -5.4,  -5.2,  -5. ,  -4.8,\n",
       "         -4.6,  -4.4,  -4.2,  -4. ,  -3.8,  -3.6,  -3.4,  -3.2,  -3. ,\n",
       "         -2.8,  -2.6,  -2.4,  -2.2,  -2. ,  -1.8,  -1.6,  -1.4,  -1.2,\n",
       "         -1. ,  -0.8,  -0.6,  -0.4,  -0.2,   0. ,   0.2,   0.4,   0.6,\n",
       "          0.8,   1. ,   1.2,   1.4,   1.6,   1.8,   2. ,   2.2,   2.4,\n",
       "          2.6,   2.8,   3. ,   3.2,   3.4,   3.6,   3.8,   4. ,   4.2,\n",
       "          4.4,   4.6,   4.8,   5. ,   5.2,   5.4,   5.6,   5.8,   6. ,\n",
       "          6.2,   6.4,   6.6,   6.8,   7. ,   7.2,   7.4,   7.6,   7.8,\n",
       "          8. ,   8.2,   8.4,   8.6,   8.8,   9. ,   9.2,   9.4,   9.6,\n",
       "          9.8,  10. ], dtype=float32),\n",
       " <BarContainer object of 100 artists>)"
      ]
     },
     "execution_count": 160,
     "metadata": {},
     "output_type": "execute_result"
    },
    {
     "data": {
      "image/png": "[encoded data removed]",
      "text/plain": [
       "<Figure size 640x480 with 1 Axes>"
      ]
     },
     "metadata": {},
     "output_type": "display_data"
    }
   ],
   "source": [
    "fig, ax = plt.subplots()\n",
    "ax.hist(DX.tilt_Average.data.flatten(), 100, range = (-10, 10))"
   ]
  },
  {
   "cell_type": "code",
   "execution_count": 52,
   "id": "31854c48",
   "metadata": {},
   "outputs": [
    {
     "data": {
      "text/html": [
       "<div><svg style=\"position: absolute; width: 0; height: 0; overflow: hidden\">\n",
       "<defs>\n",
       "<symbol id=\"icon-database\" viewBox=\"0 0 32 32\">\n",
       "<path d=\"M16 0c-8.837 0-16 2.239-16 5v4c0 2.761 7.163 5 16 5s16-2.239 16-5v-4c0-2.761-7.163-5-16-5z\"></path>\n",
       "<path d=\"M16 17c-8.837 0-16-2.239-16-5v6c0 2.761 7.163 5 16 5s16-2.239 16-5v-6c0 2.761-7.163 5-16 5z\"></path>\n",
       "<path d=\"M16 26c-8.837 0-16-2.239-16-5v6c0 2.761 7.163 5 16 5s16-2.239 16-5v-6c0 2.761-7.163 5-16 5z\"></path>\n",
       "</symbol>\n",
       "<symbol id=\"icon-file-text2\" viewBox=\"0 0 32 32\">\n",
       "<path d=\"M28.681 7.159c-0.694-0.947-1.662-2.053-2.724-3.116s-2.169-2.030-3.116-2.724c-1.612-1.182-2.393-1.319-2.841-1.319h-15.5c-1.378 0-2.5 1.121-2.5 2.5v27c0 1.378 1.122 2.5 2.5 2.5h23c1.378 0 2.5-1.122 2.5-2.5v-19.5c0-0.448-0.137-1.23-1.319-2.841zM24.543 5.457c0.959 0.959 1.712 1.825 2.268 2.543h-4.811v-4.811c0.718 0.556 1.584 1.309 2.543 2.268zM28 29.5c0 0.271-0.229 0.5-0.5 0.5h-23c-0.271 0-0.5-0.229-0.5-0.5v-27c0-0.271 0.229-0.5 0.5-0.5 0 0 15.499-0 15.5 0v7c0 0.552 0.448 1 1 1h7v19.5z\"></path>\n",
       "<path d=\"M23 26h-14c-0.552 0-1-0.448-1-1s0.448-1 1-1h14c0.552 0 1 0.448 1 1s-0.448 1-1 1z\"></path>\n",
       "<path d=\"M23 22h-14c-0.552 0-1-0.448-1-1s0.448-1 1-1h14c0.552 0 1 0.448 1 1s-0.448 1-1 1z\"></path>\n",
       "<path d=\"M23 18h-14c-0.552 0-1-0.448-1-1s0.448-1 1-1h14c0.552 0 1 0.448 1 1s-0.448 1-1 1z\"></path>\n",
       "</symbol>\n",
       "</defs>\n",
       "</svg>\n",
       "<style>/* CSS stylesheet for displaying xarray objects in jupyterlab.\n",
       " *\n",
       " */\n",
       "\n",
       ":root {\n",
       "  --xr-font-color0: var(--jp-content-font-color0, rgba(0, 0, 0, 1));\n",
       "  --xr-font-color2: var(--jp-content-font-color2, rgba(0, 0, 0, 0.54));\n",
       "  --xr-font-color3: var(--jp-content-font-color3, rgba(0, 0, 0, 0.38));\n",
       "  --xr-border-color: var(--jp-border-color2, #e0e0e0);\n",
       "  --xr-disabled-color: var(--jp-layout-color3, #bdbdbd);\n",
       "  --xr-background-color: var(--jp-layout-color0, white);\n",
       "  --xr-background-color-row-even: var(--jp-layout-color1, white);\n",
       "  --xr-background-color-row-odd: var(--jp-layout-color2, #eeeeee);\n",
       "}\n",
       "\n",
       "html[theme=dark],\n",
       "body[data-theme=dark],\n",
       "body.vscode-dark {\n",
       "  --xr-font-color0: rgba(255, 255, 255, 1);\n",
       "  --xr-font-color2: rgba(255, 255, 255, 0.54);\n",
       "  --xr-font-color3: rgba(255, 255, 255, 0.38);\n",
       "  --xr-border-color: #1F1F1F;\n",
       "  --xr-disabled-color: #515151;\n",
       "  --xr-background-color: #111111;\n",
       "  --xr-background-color-row-even: #111111;\n",
       "  --xr-background-color-row-odd: #313131;\n",
       "}\n",
       "\n",
       ".xr-wrap {\n",
       "  display: block !important;\n",
       "  min-width: 300px;\n",
       "  max-width: 700px;\n",
       "}\n",
       "\n",
       ".xr-text-repr-fallback {\n",
       "  /* fallback to plain text repr when CSS is not injected (untrusted notebook) */\n",
       "  display: none;\n",
       "}\n",
       "\n",
       ".xr-header {\n",
       "  padding-top: 6px;\n",
       "  padding-bottom: 6px;\n",
       "  margin-bottom: 4px;\n",
       "  border-bottom: solid 1px var(--xr-border-color);\n",
       "}\n",
       "\n",
       ".xr-header > div,\n",
       ".xr-header > ul {\n",
       "  display: inline;\n",
       "  margin-top: 0;\n",
       "  margin-bottom: 0;\n",
       "}\n",
       "\n",
       ".xr-obj-type,\n",
       ".xr-array-name {\n",
       "  margin-left: 2px;\n",
       "  margin-right: 10px;\n",
       "}\n",
       "\n",
       ".xr-obj-type {\n",
       "  color: var(--xr-font-color2);\n",
       "}\n",
       "\n",
       ".xr-sections {\n",
       "  padding-left: 0 !important;\n",
       "  display: grid;\n",
       "  grid-template-columns: 150px auto auto 1fr 20px 20px;\n",
       "}\n",
       "\n",
       ".xr-section-item {\n",
       "  display: contents;\n",
       "}\n",
       "\n",
       ".xr-section-item input {\n",
       "  display: none;\n",
       "}\n",
       "\n",
       ".xr-section-item input + label {\n",
       "  color: var(--xr-disabled-color);\n",
       "}\n",
       "\n",
       ".xr-section-item input:enabled + label {\n",
       "  cursor: pointer;\n",
       "  color: var(--xr-font-color2);\n",
       "}\n",
       "\n",
       ".xr-section-item input:enabled + label:hover {\n",
       "  color: var(--xr-font-color0);\n",
       "}\n",
       "\n",
       ".xr-section-summary {\n",
       "  grid-column: 1;\n",
       "  color: var(--xr-font-color2);\n",
       "  font-weight: 500;\n",
       "}\n",
       "\n",
       ".xr-section-summary > span {\n",
       "  display: inline-block;\n",
       "  padding-left: 0.5em;\n",
       "}\n",
       "\n",
       ".xr-section-summary-in:disabled + label {\n",
       "  color: var(--xr-font-color2);\n",
       "}\n",
       "\n",
       ".xr-section-summary-in + label:before {\n",
       "  display: inline-block;\n",
       "  content: '►';\n",
       "  font-size: 11px;\n",
       "  width: 15px;\n",
       "  text-align: center;\n",
       "}\n",
       "\n",
       ".xr-section-summary-in:disabled + label:before {\n",
       "  color: var(--xr-disabled-color);\n",
       "}\n",
       "\n",
       ".xr-section-summary-in:checked + label:before {\n",
       "  content: '▼';\n",
       "}\n",
       "\n",
       ".xr-section-summary-in:checked + label > span {\n",
       "  display: none;\n",
       "}\n",
       "\n",
       ".xr-section-summary,\n",
       ".xr-section-inline-details {\n",
       "  padding-top: 4px;\n",
       "  padding-bottom: 4px;\n",
       "}\n",
       "\n",
       ".xr-section-inline-details {\n",
       "  grid-column: 2 / -1;\n",
       "}\n",
       "\n",
       ".xr-section-details {\n",
       "  display: none;\n",
       "  grid-column: 1 / -1;\n",
       "  margin-bottom: 5px;\n",
       "}\n",
       "\n",
       ".xr-section-summary-in:checked ~ .xr-section-details {\n",
       "  display: contents;\n",
       "}\n",
       "\n",
       ".xr-array-wrap {\n",
       "  grid-column: 1 / -1;\n",
       "  display: grid;\n",
       "  grid-template-columns: 20px auto;\n",
       "}\n",
       "\n",
       ".xr-array-wrap > label {\n",
       "  grid-column: 1;\n",
       "  vertical-align: top;\n",
       "}\n",
       "\n",
       ".xr-preview {\n",
       "  color: var(--xr-font-color3);\n",
       "}\n",
       "\n",
       ".xr-array-preview,\n",
       ".xr-array-data {\n",
       "  padding: 0 5px !important;\n",
       "  grid-column: 2;\n",
       "}\n",
       "\n",
       ".xr-array-data,\n",
       ".xr-array-in:checked ~ .xr-array-preview {\n",
       "  display: none;\n",
       "}\n",
       "\n",
       ".xr-array-in:checked ~ .xr-array-data,\n",
       ".xr-array-preview {\n",
       "  display: inline-block;\n",
       "}\n",
       "\n",
       ".xr-dim-list {\n",
       "  display: inline-block !important;\n",
       "  list-style: none;\n",
       "  padding: 0 !important;\n",
       "  margin: 0;\n",
       "}\n",
       "\n",
       ".xr-dim-list li {\n",
       "  display: inline-block;\n",
       "  padding: 0;\n",
       "  margin: 0;\n",
       "}\n",
       "\n",
       ".xr-dim-list:before {\n",
       "  content: '(';\n",
       "}\n",
       "\n",
       ".xr-dim-list:after {\n",
       "  content: ')';\n",
       "}\n",
       "\n",
       ".xr-dim-list li:not(:last-child):after {\n",
       "  content: ',';\n",
       "  padding-right: 5px;\n",
       "}\n",
       "\n",
       ".xr-has-index {\n",
       "  font-weight: bold;\n",
       "}\n",
       "\n",
       ".xr-var-list,\n",
       ".xr-var-item {\n",
       "  display: contents;\n",
       "}\n",
       "\n",
       ".xr-var-item > div,\n",
       ".xr-var-item label,\n",
       ".xr-var-item > .xr-var-name span {\n",
       "  background-color: var(--xr-background-color-row-even);\n",
       "  margin-bottom: 0;\n",
       "}\n",
       "\n",
       ".xr-var-item > .xr-var-name:hover span {\n",
       "  padding-right: 5px;\n",
       "}\n",
       "\n",
       ".xr-var-list > li:nth-child(odd) > div,\n",
       ".xr-var-list > li:nth-child(odd) > label,\n",
       ".xr-var-list > li:nth-child(odd) > .xr-var-name span {\n",
       "  background-color: var(--xr-background-color-row-odd);\n",
       "}\n",
       "\n",
       ".xr-var-name {\n",
       "  grid-column: 1;\n",
       "}\n",
       "\n",
       ".xr-var-dims {\n",
       "  grid-column: 2;\n",
       "}\n",
       "\n",
       ".xr-var-dtype {\n",
       "  grid-column: 3;\n",
       "  text-align: right;\n",
       "  color: var(--xr-font-color2);\n",
       "}\n",
       "\n",
       ".xr-var-preview {\n",
       "  grid-column: 4;\n",
       "}\n",
       "\n",
       ".xr-index-preview {\n",
       "  grid-column: 2 / 5;\n",
       "  color: var(--xr-font-color2);\n",
       "}\n",
       "\n",
       ".xr-var-name,\n",
       ".xr-var-dims,\n",
       ".xr-var-dtype,\n",
       ".xr-preview,\n",
       ".xr-attrs dt {\n",
       "  white-space: nowrap;\n",
       "  overflow: hidden;\n",
       "  text-overflow: ellipsis;\n",
       "  padding-right: 10px;\n",
       "}\n",
       "\n",
       ".xr-var-name:hover,\n",
       ".xr-var-dims:hover,\n",
       ".xr-var-dtype:hover,\n",
       ".xr-attrs dt:hover {\n",
       "  overflow: visible;\n",
       "  width: auto;\n",
       "  z-index: 1;\n",
       "}\n",
       "\n",
       ".xr-var-attrs,\n",
       ".xr-var-data,\n",
       ".xr-index-data {\n",
       "  display: none;\n",
       "  background-color: var(--xr-background-color) !important;\n",
       "  padding-bottom: 5px !important;\n",
       "}\n",
       "\n",
       ".xr-var-attrs-in:checked ~ .xr-var-attrs,\n",
       ".xr-var-data-in:checked ~ .xr-var-data,\n",
       ".xr-index-data-in:checked ~ .xr-index-data {\n",
       "  display: block;\n",
       "}\n",
       "\n",
       ".xr-var-data > table {\n",
       "  float: right;\n",
       "}\n",
       "\n",
       ".xr-var-name span,\n",
       ".xr-var-data,\n",
       ".xr-index-name div,\n",
       ".xr-index-data,\n",
       ".xr-attrs {\n",
       "  padding-left: 25px !important;\n",
       "}\n",
       "\n",
       ".xr-attrs,\n",
       ".xr-var-attrs,\n",
       ".xr-var-data,\n",
       ".xr-index-data {\n",
       "  grid-column: 1 / -1;\n",
       "}\n",
       "\n",
       "dl.xr-attrs {\n",
       "  padding: 0;\n",
       "  margin: 0;\n",
       "  display: grid;\n",
       "  grid-template-columns: 125px auto;\n",
       "}\n",
       "\n",
       ".xr-attrs dt,\n",
       ".xr-attrs dd {\n",
       "  padding: 0;\n",
       "  margin: 0;\n",
       "  float: left;\n",
       "  padding-right: 10px;\n",
       "  width: auto;\n",
       "}\n",
       "\n",
       ".xr-attrs dt {\n",
       "  font-weight: normal;\n",
       "  grid-column: 1;\n",
       "}\n",
       "\n",
       ".xr-attrs dt:hover span {\n",
       "  display: inline-block;\n",
       "  background: var(--xr-background-color);\n",
       "  padding-right: 10px;\n",
       "}\n",
       "\n",
       ".xr-attrs dd {\n",
       "  grid-column: 2;\n",
       "  white-space: pre-wrap;\n",
       "  word-break: break-all;\n",
       "}\n",
       "\n",
       ".xr-icon-database,\n",
       ".xr-icon-file-text2,\n",
       ".xr-no-icon {\n",
       "  display: inline-block;\n",
       "  vertical-align: middle;\n",
       "  width: 1em;\n",
       "  height: 1.5em !important;\n",
       "  stroke-width: 0;\n",
       "  stroke: currentColor;\n",
       "  fill: currentColor;\n",
       "}\n",
       "</style><pre class='xr-text-repr-fallback'>&lt;xarray.DataArray &#x27;AverageIce_VelUp2&#x27; ()&gt;\n",
       "array(-11.10964, dtype=float32)</pre><div class='xr-wrap' style='display:none'><div class='xr-header'><div class='xr-obj-type'>xarray.DataArray</div><div class='xr-array-name'>'AverageIce_VelUp2'</div></div><ul class='xr-sections'><li class='xr-section-item'><div class='xr-array-wrap'><input id='section-8ffa7fe2-caf8-4b8e-9770-20e0af46979e' class='xr-array-in' type='checkbox' checked><label for='section-8ffa7fe2-caf8-4b8e-9770-20e0af46979e' title='Show/hide data repr'><svg class='icon xr-icon-database'><use xlink:href='#icon-database'></use></svg></label><div class='xr-array-preview xr-preview'><span>-11.11</span></div><div class='xr-array-data'><pre>array(-11.10964, dtype=float32)</pre></div></div></li><li class='xr-section-item'><input id='section-ff0a1763-dcae-48ac-b841-608186bcea4f' class='xr-section-summary-in' type='checkbox' disabled ><label for='section-ff0a1763-dcae-48ac-b841-608186bcea4f' class='xr-section-summary'  title='Expand/collapse section'>Coordinates: <span>(0)</span></label><div class='xr-section-inline-details'></div><div class='xr-section-details'><ul class='xr-var-list'></ul></div></li><li class='xr-section-item'><input id='section-de717b85-9501-4d3f-9329-82c5973e95d5' class='xr-section-summary-in' type='checkbox' disabled ><label for='section-de717b85-9501-4d3f-9329-82c5973e95d5' class='xr-section-summary'  title='Expand/collapse section'>Indexes: <span>(0)</span></label><div class='xr-section-inline-details'></div><div class='xr-section-details'><ul class='xr-var-list'></ul></div></li><li class='xr-section-item'><input id='section-c398edba-df0b-4d82-9704-0440f4f0b046' class='xr-section-summary-in' type='checkbox' disabled ><label for='section-c398edba-df0b-4d82-9704-0440f4f0b046' class='xr-section-summary'  title='Expand/collapse section'>Attributes: <span>(0)</span></label><div class='xr-section-inline-details'></div><div class='xr-section-details'><dl class='xr-attrs'></dl></div></li></ul></div></div>"
      ],
      "text/plain": [
       "<xarray.DataArray 'AverageIce_VelUp2' ()>\n",
       "array(-11.10964, dtype=float32)"
      ]
     },
     "execution_count": 52,
     "metadata": {},
     "output_type": "execute_result"
    }
   ],
   "source": [
    "DX.AverageIce_VelUp2.min()"
   ]
  },
  {
   "cell_type": "code",
   "execution_count": 61,
   "id": "be9d55da",
   "metadata": {},
   "outputs": [
    {
     "data": {
      "text/plain": [
       "[<matplotlib.lines.Line2D at 0x7f13d0ff4c10>]"
      ]
     },
     "execution_count": 61,
     "metadata": {},
     "output_type": "execute_result"
    },
    {
     "data": {
      "image/png": "[encoded data removed]",
      "text/plain": [
       "<Figure size 640x480 with 1 Axes>"
      ]
     },
     "metadata": {},
     "output_type": "display_data"
    }
   ],
   "source": [
    "fig, ax = plt.subplots()\n",
    "ax.plot(DX.Average_VelNorth.mean(dim = 'SAMPLE').mean(dim = 'BINS'))\n",
    "#ax.plot(DX.Average_VelUp2.mean(dim = 'SAMPLE').mean(dim = 'BINS'))\n",
    "#ax.plot(DX.ICE_IN_SAMPLE.mean(dim = 'SAMPLE').mean(dim = 'BINS'))\n"
   ]
  },
  {
   "cell_type": "code",
   "execution_count": 74,
   "id": "78de934c",
   "metadata": {},
   "outputs": [],
   "source": [
    "max_amp_increase = 20"
   ]
  },
  {
   "cell_type": "code",
   "execution_count": 178,
   "id": "8dd1900b",
   "metadata": {},
   "outputs": [],
   "source": [
    "    # Amplitude bump test\n",
    "    is_bump = (\n",
    "        (DX.Average_AmpBeam1.diff(dim = 'BINS')>max_amp_increase)\n",
    "        | (DX.Average_AmpBeam2.diff(dim = 'BINS')>max_amp_increase)\n",
    "        | (DX.Average_AmpBeam3.diff(dim = 'BINS')>max_amp_increase)\n",
    "        | (DX.Average_AmpBeam4.diff(dim = 'BINS')>max_amp_increase))"
   ]
  },
  {
   "cell_type": "code",
   "execution_count": 179,
   "id": "2248eda8",
   "metadata": {},
   "outputs": [
    {
     "data": {
      "text/plain": [
       "(15, 3555, 48)"
      ]
     },
     "execution_count": 179,
     "metadata": {},
     "output_type": "execute_result"
    }
   ],
   "source": [
    "(is_bump.cumsum(axis = 0)>0).shape"
   ]
  },
  {
   "cell_type": "code",
   "execution_count": 182,
   "id": "9c4ae340",
   "metadata": {},
   "outputs": [],
   "source": []
  },
  {
   "cell_type": "code",
   "execution_count": 183,
   "id": "33cb1ec5",
   "metadata": {},
   "outputs": [
    {
     "data": {
      "text/plain": [
       "(3555, 48)"
      ]
     },
     "execution_count": 183,
     "metadata": {},
     "output_type": "execute_result"
    }
   ],
   "source": [
    "zeros_firstbin.shape"
   ]
  },
  {
   "cell_type": "code",
   "execution_count": 189,
   "id": "c04845a0",
   "metadata": {},
   "outputs": [],
   "source": [
    "zeros_firstbin = xr.zeros_like(DX.uocean.isel(BINS=1))\n",
    "IS_BUMP = xr.concat([zeros_firstbin, is_bump.cumsum(axis = 0)>0], dim = ('BINS'))"
   ]
  },
  {
   "cell_type": "code",
   "execution_count": 194,
   "id": "1e007340",
   "metadata": {},
   "outputs": [
    {
     "data": {
      "text/plain": [
       "<matplotlib.collections.QuadMesh at 0x7f13b8a54580>"
      ]
     },
     "execution_count": 194,
     "metadata": {},
     "output_type": "execute_result"
    },
    {
     "data": {
      "image/png": "[encoded data removed]",
      "text/plain": [
       "<Figure size 640x480 with 2 Axes>"
      ]
     },
     "metadata": {},
     "output_type": "display_data"
    }
   ],
   "source": [
    "figm, ax = plt.subplots(1, 2)\n",
    "ax[0].pcolormesh(IS_BUMP.isel(SAMPLE=1).T)\n",
    "ax[1].pcolormesh((is_bump.cumsum(axis = 0)>0).isel(SAMPLE=1))"
   ]
  },
  {
   "cell_type": "code",
   "execution_count": 88,
   "id": "69041b9c",
   "metadata": {},
   "outputs": [
    {
     "data": {
      "text/plain": [
       "<matplotlib.collections.QuadMesh at 0x7f13b971b520>"
      ]
     },
     "execution_count": 88,
     "metadata": {},
     "output_type": "execute_result"
    },
    {
     "data": {
      "image/png": "[encoded data removed]",
      "text/plain": [
       "<Figure size 1000x300 with 1 Axes>"
      ]
     },
     "metadata": {},
     "output_type": "display_data"
    }
   ],
   "source": [
    "fig, ax = plt.subplots(figsize = (10, 3))\n",
    "ax.pcolormesh((is_bump.cumsum(axis = 0)>0).isel(SAMPLE=1))"
   ]
  },
  {
   "cell_type": "code",
   "execution_count": 72,
   "id": "9cd797d2",
   "metadata": {},
   "outputs": [
    {
     "data": {
      "text/html": [
       "<div><svg style=\"position: absolute; width: 0; height: 0; overflow: hidden\">\n",
       "<defs>\n",
       "<symbol id=\"icon-database\" viewBox=\"0 0 32 32\">\n",
       "<path d=\"M16 0c-8.837 0-16 2.239-16 5v4c0 2.761 7.163 5 16 5s16-2.239 16-5v-4c0-2.761-7.163-5-16-5z\"></path>\n",
       "<path d=\"M16 17c-8.837 0-16-2.239-16-5v6c0 2.761 7.163 5 16 5s16-2.239 16-5v-6c0 2.761-7.163 5-16 5z\"></path>\n",
       "<path d=\"M16 26c-8.837 0-16-2.239-16-5v6c0 2.761 7.163 5 16 5s16-2.239 16-5v-6c0 2.761-7.163 5-16 5z\"></path>\n",
       "</symbol>\n",
       "<symbol id=\"icon-file-text2\" viewBox=\"0 0 32 32\">\n",
       "<path d=\"M28.681 7.159c-0.694-0.947-1.662-2.053-2.724-3.116s-2.169-2.030-3.116-2.724c-1.612-1.182-2.393-1.319-2.841-1.319h-15.5c-1.378 0-2.5 1.121-2.5 2.5v27c0 1.378 1.122 2.5 2.5 2.5h23c1.378 0 2.5-1.122 2.5-2.5v-19.5c0-0.448-0.137-1.23-1.319-2.841zM24.543 5.457c0.959 0.959 1.712 1.825 2.268 2.543h-4.811v-4.811c0.718 0.556 1.584 1.309 2.543 2.268zM28 29.5c0 0.271-0.229 0.5-0.5 0.5h-23c-0.271 0-0.5-0.229-0.5-0.5v-27c0-0.271 0.229-0.5 0.5-0.5 0 0 15.499-0 15.5 0v7c0 0.552 0.448 1 1 1h7v19.5z\"></path>\n",
       "<path d=\"M23 26h-14c-0.552 0-1-0.448-1-1s0.448-1 1-1h14c0.552 0 1 0.448 1 1s-0.448 1-1 1z\"></path>\n",
       "<path d=\"M23 22h-14c-0.552 0-1-0.448-1-1s0.448-1 1-1h14c0.552 0 1 0.448 1 1s-0.448 1-1 1z\"></path>\n",
       "<path d=\"M23 18h-14c-0.552 0-1-0.448-1-1s0.448-1 1-1h14c0.552 0 1 0.448 1 1s-0.448 1-1 1z\"></path>\n",
       "</symbol>\n",
       "</defs>\n",
       "</svg>\n",
       "<style>/* CSS stylesheet for displaying xarray objects in jupyterlab.\n",
       " *\n",
       " */\n",
       "\n",
       ":root {\n",
       "  --xr-font-color0: var(--jp-content-font-color0, rgba(0, 0, 0, 1));\n",
       "  --xr-font-color2: var(--jp-content-font-color2, rgba(0, 0, 0, 0.54));\n",
       "  --xr-font-color3: var(--jp-content-font-color3, rgba(0, 0, 0, 0.38));\n",
       "  --xr-border-color: var(--jp-border-color2, #e0e0e0);\n",
       "  --xr-disabled-color: var(--jp-layout-color3, #bdbdbd);\n",
       "  --xr-background-color: var(--jp-layout-color0, white);\n",
       "  --xr-background-color-row-even: var(--jp-layout-color1, white);\n",
       "  --xr-background-color-row-odd: var(--jp-layout-color2, #eeeeee);\n",
       "}\n",
       "\n",
       "html[theme=dark],\n",
       "body[data-theme=dark],\n",
       "body.vscode-dark {\n",
       "  --xr-font-color0: rgba(255, 255, 255, 1);\n",
       "  --xr-font-color2: rgba(255, 255, 255, 0.54);\n",
       "  --xr-font-color3: rgba(255, 255, 255, 0.38);\n",
       "  --xr-border-color: #1F1F1F;\n",
       "  --xr-disabled-color: #515151;\n",
       "  --xr-background-color: #111111;\n",
       "  --xr-background-color-row-even: #111111;\n",
       "  --xr-background-color-row-odd: #313131;\n",
       "}\n",
       "\n",
       ".xr-wrap {\n",
       "  display: block !important;\n",
       "  min-width: 300px;\n",
       "  max-width: 700px;\n",
       "}\n",
       "\n",
       ".xr-text-repr-fallback {\n",
       "  /* fallback to plain text repr when CSS is not injected (untrusted notebook) */\n",
       "  display: none;\n",
       "}\n",
       "\n",
       ".xr-header {\n",
       "  padding-top: 6px;\n",
       "  padding-bottom: 6px;\n",
       "  margin-bottom: 4px;\n",
       "  border-bottom: solid 1px var(--xr-border-color);\n",
       "}\n",
       "\n",
       ".xr-header > div,\n",
       ".xr-header > ul {\n",
       "  display: inline;\n",
       "  margin-top: 0;\n",
       "  margin-bottom: 0;\n",
       "}\n",
       "\n",
       ".xr-obj-type,\n",
       ".xr-array-name {\n",
       "  margin-left: 2px;\n",
       "  margin-right: 10px;\n",
       "}\n",
       "\n",
       ".xr-obj-type {\n",
       "  color: var(--xr-font-color2);\n",
       "}\n",
       "\n",
       ".xr-sections {\n",
       "  padding-left: 0 !important;\n",
       "  display: grid;\n",
       "  grid-template-columns: 150px auto auto 1fr 20px 20px;\n",
       "}\n",
       "\n",
       ".xr-section-item {\n",
       "  display: contents;\n",
       "}\n",
       "\n",
       ".xr-section-item input {\n",
       "  display: none;\n",
       "}\n",
       "\n",
       ".xr-section-item input + label {\n",
       "  color: var(--xr-disabled-color);\n",
       "}\n",
       "\n",
       ".xr-section-item input:enabled + label {\n",
       "  cursor: pointer;\n",
       "  color: var(--xr-font-color2);\n",
       "}\n",
       "\n",
       ".xr-section-item input:enabled + label:hover {\n",
       "  color: var(--xr-font-color0);\n",
       "}\n",
       "\n",
       ".xr-section-summary {\n",
       "  grid-column: 1;\n",
       "  color: var(--xr-font-color2);\n",
       "  font-weight: 500;\n",
       "}\n",
       "\n",
       ".xr-section-summary > span {\n",
       "  display: inline-block;\n",
       "  padding-left: 0.5em;\n",
       "}\n",
       "\n",
       ".xr-section-summary-in:disabled + label {\n",
       "  color: var(--xr-font-color2);\n",
       "}\n",
       "\n",
       ".xr-section-summary-in + label:before {\n",
       "  display: inline-block;\n",
       "  content: '►';\n",
       "  font-size: 11px;\n",
       "  width: 15px;\n",
       "  text-align: center;\n",
       "}\n",
       "\n",
       ".xr-section-summary-in:disabled + label:before {\n",
       "  color: var(--xr-disabled-color);\n",
       "}\n",
       "\n",
       ".xr-section-summary-in:checked + label:before {\n",
       "  content: '▼';\n",
       "}\n",
       "\n",
       ".xr-section-summary-in:checked + label > span {\n",
       "  display: none;\n",
       "}\n",
       "\n",
       ".xr-section-summary,\n",
       ".xr-section-inline-details {\n",
       "  padding-top: 4px;\n",
       "  padding-bottom: 4px;\n",
       "}\n",
       "\n",
       ".xr-section-inline-details {\n",
       "  grid-column: 2 / -1;\n",
       "}\n",
       "\n",
       ".xr-section-details {\n",
       "  display: none;\n",
       "  grid-column: 1 / -1;\n",
       "  margin-bottom: 5px;\n",
       "}\n",
       "\n",
       ".xr-section-summary-in:checked ~ .xr-section-details {\n",
       "  display: contents;\n",
       "}\n",
       "\n",
       ".xr-array-wrap {\n",
       "  grid-column: 1 / -1;\n",
       "  display: grid;\n",
       "  grid-template-columns: 20px auto;\n",
       "}\n",
       "\n",
       ".xr-array-wrap > label {\n",
       "  grid-column: 1;\n",
       "  vertical-align: top;\n",
       "}\n",
       "\n",
       ".xr-preview {\n",
       "  color: var(--xr-font-color3);\n",
       "}\n",
       "\n",
       ".xr-array-preview,\n",
       ".xr-array-data {\n",
       "  padding: 0 5px !important;\n",
       "  grid-column: 2;\n",
       "}\n",
       "\n",
       ".xr-array-data,\n",
       ".xr-array-in:checked ~ .xr-array-preview {\n",
       "  display: none;\n",
       "}\n",
       "\n",
       ".xr-array-in:checked ~ .xr-array-data,\n",
       ".xr-array-preview {\n",
       "  display: inline-block;\n",
       "}\n",
       "\n",
       ".xr-dim-list {\n",
       "  display: inline-block !important;\n",
       "  list-style: none;\n",
       "  padding: 0 !important;\n",
       "  margin: 0;\n",
       "}\n",
       "\n",
       ".xr-dim-list li {\n",
       "  display: inline-block;\n",
       "  padding: 0;\n",
       "  margin: 0;\n",
       "}\n",
       "\n",
       ".xr-dim-list:before {\n",
       "  content: '(';\n",
       "}\n",
       "\n",
       ".xr-dim-list:after {\n",
       "  content: ')';\n",
       "}\n",
       "\n",
       ".xr-dim-list li:not(:last-child):after {\n",
       "  content: ',';\n",
       "  padding-right: 5px;\n",
       "}\n",
       "\n",
       ".xr-has-index {\n",
       "  font-weight: bold;\n",
       "}\n",
       "\n",
       ".xr-var-list,\n",
       ".xr-var-item {\n",
       "  display: contents;\n",
       "}\n",
       "\n",
       ".xr-var-item > div,\n",
       ".xr-var-item label,\n",
       ".xr-var-item > .xr-var-name span {\n",
       "  background-color: var(--xr-background-color-row-even);\n",
       "  margin-bottom: 0;\n",
       "}\n",
       "\n",
       ".xr-var-item > .xr-var-name:hover span {\n",
       "  padding-right: 5px;\n",
       "}\n",
       "\n",
       ".xr-var-list > li:nth-child(odd) > div,\n",
       ".xr-var-list > li:nth-child(odd) > label,\n",
       ".xr-var-list > li:nth-child(odd) > .xr-var-name span {\n",
       "  background-color: var(--xr-background-color-row-odd);\n",
       "}\n",
       "\n",
       ".xr-var-name {\n",
       "  grid-column: 1;\n",
       "}\n",
       "\n",
       ".xr-var-dims {\n",
       "  grid-column: 2;\n",
       "}\n",
       "\n",
       ".xr-var-dtype {\n",
       "  grid-column: 3;\n",
       "  text-align: right;\n",
       "  color: var(--xr-font-color2);\n",
       "}\n",
       "\n",
       ".xr-var-preview {\n",
       "  grid-column: 4;\n",
       "}\n",
       "\n",
       ".xr-index-preview {\n",
       "  grid-column: 2 / 5;\n",
       "  color: var(--xr-font-color2);\n",
       "}\n",
       "\n",
       ".xr-var-name,\n",
       ".xr-var-dims,\n",
       ".xr-var-dtype,\n",
       ".xr-preview,\n",
       ".xr-attrs dt {\n",
       "  white-space: nowrap;\n",
       "  overflow: hidden;\n",
       "  text-overflow: ellipsis;\n",
       "  padding-right: 10px;\n",
       "}\n",
       "\n",
       ".xr-var-name:hover,\n",
       ".xr-var-dims:hover,\n",
       ".xr-var-dtype:hover,\n",
       ".xr-attrs dt:hover {\n",
       "  overflow: visible;\n",
       "  width: auto;\n",
       "  z-index: 1;\n",
       "}\n",
       "\n",
       ".xr-var-attrs,\n",
       ".xr-var-data,\n",
       ".xr-index-data {\n",
       "  display: none;\n",
       "  background-color: var(--xr-background-color) !important;\n",
       "  padding-bottom: 5px !important;\n",
       "}\n",
       "\n",
       ".xr-var-attrs-in:checked ~ .xr-var-attrs,\n",
       ".xr-var-data-in:checked ~ .xr-var-data,\n",
       ".xr-index-data-in:checked ~ .xr-index-data {\n",
       "  display: block;\n",
       "}\n",
       "\n",
       ".xr-var-data > table {\n",
       "  float: right;\n",
       "}\n",
       "\n",
       ".xr-var-name span,\n",
       ".xr-var-data,\n",
       ".xr-index-name div,\n",
       ".xr-index-data,\n",
       ".xr-attrs {\n",
       "  padding-left: 25px !important;\n",
       "}\n",
       "\n",
       ".xr-attrs,\n",
       ".xr-var-attrs,\n",
       ".xr-var-data,\n",
       ".xr-index-data {\n",
       "  grid-column: 1 / -1;\n",
       "}\n",
       "\n",
       "dl.xr-attrs {\n",
       "  padding: 0;\n",
       "  margin: 0;\n",
       "  display: grid;\n",
       "  grid-template-columns: 125px auto;\n",
       "}\n",
       "\n",
       ".xr-attrs dt,\n",
       ".xr-attrs dd {\n",
       "  padding: 0;\n",
       "  margin: 0;\n",
       "  float: left;\n",
       "  padding-right: 10px;\n",
       "  width: auto;\n",
       "}\n",
       "\n",
       ".xr-attrs dt {\n",
       "  font-weight: normal;\n",
       "  grid-column: 1;\n",
       "}\n",
       "\n",
       ".xr-attrs dt:hover span {\n",
       "  display: inline-block;\n",
       "  background: var(--xr-background-color);\n",
       "  padding-right: 10px;\n",
       "}\n",
       "\n",
       ".xr-attrs dd {\n",
       "  grid-column: 2;\n",
       "  white-space: pre-wrap;\n",
       "  word-break: break-all;\n",
       "}\n",
       "\n",
       ".xr-icon-database,\n",
       ".xr-icon-file-text2,\n",
       ".xr-no-icon {\n",
       "  display: inline-block;\n",
       "  vertical-align: middle;\n",
       "  width: 1em;\n",
       "  height: 1.5em !important;\n",
       "  stroke-width: 0;\n",
       "  stroke: currentColor;\n",
       "  fill: currentColor;\n",
       "}\n",
       "</style><pre class='xr-text-repr-fallback'>&lt;xarray.DataArray &#x27;Average_AmpBeam3&#x27; (BINS: 15, TIME: 3555, SAMPLE: 48)&gt;\n",
       "array([[[ -3.5,  -6.5,  -7. , ...,  -5. ,  -7. ,  -4. ],\n",
       "        [ -8.5,  -7.5, -10. , ...,  -7.5,  -6.5,  -7.5],\n",
       "        [-12. ,  -9. ,  -6.5, ...,  -5. , -10.5,  -7.5],\n",
       "        ...,\n",
       "        [  nan,   nan,   nan, ...,   nan,   nan,   nan],\n",
       "        [  nan,   nan,   nan, ...,   nan,   nan,   nan],\n",
       "        [  nan,   nan,   nan, ...,   nan,   nan,   nan]],\n",
       "\n",
       "       [[ -7. ,  -6. ,  -6.5, ...,  -4. ,  -7.5,  -5.5],\n",
       "        [ -3. ,  -3.5,  -6. , ...,  -4.5,  -5.5,  -1.5],\n",
       "        [ -0.5,   1. ,  -3. , ...,  -7. ,  -3.5,  -5. ],\n",
       "        ...,\n",
       "        [  nan,   nan,   nan, ...,   nan,   nan,   nan],\n",
       "        [  nan,   nan,   nan, ...,   nan,   nan,   nan],\n",
       "        [  nan,   nan,   nan, ...,   nan,   nan,   nan]],\n",
       "\n",
       "       [[ -2. ,  -2.5,  -1. , ...,  -5.5,   0. ,  -3. ],\n",
       "        [ -4.5,  -1. ,  -1.5, ...,  -0.5,  -2.5,   1. ],\n",
       "        [ -4. ,  -5. ,  -3.5, ...,  -0.5,  -2. ,   1. ],\n",
       "        ...,\n",
       "...\n",
       "        ...,\n",
       "        [  nan,   nan,   nan, ...,   nan,   nan,   nan],\n",
       "        [  nan,   nan,   nan, ...,   nan,   nan,   nan],\n",
       "        [  nan,   nan,   nan, ...,   nan,   nan,   nan]],\n",
       "\n",
       "       [[  nan,   nan,  -2.5, ...,   nan,  -6. ,   nan],\n",
       "        [  nan,   nan,   nan, ...,   nan,   nan,   nan],\n",
       "        [ -4.5,  -7.5,   nan, ...,   nan,  -7.5,   nan],\n",
       "        ...,\n",
       "        [  nan,   nan,   nan, ...,   nan,   nan,   nan],\n",
       "        [  nan,   nan,   nan, ...,   nan,   nan,   nan],\n",
       "        [  nan,   nan,   nan, ...,   nan,   nan,   nan]],\n",
       "\n",
       "       [[  nan,   nan,   nan, ...,   nan,   nan,   nan],\n",
       "        [  nan,   nan,   nan, ...,   nan,   nan,   nan],\n",
       "        [ -6.5,   nan,   nan, ...,   nan,  -6.5,   nan],\n",
       "        ...,\n",
       "        [  nan,   nan,   nan, ...,   nan,   nan,   nan],\n",
       "        [  nan,   nan,   nan, ...,   nan,   nan,   nan],\n",
       "        [  nan,   nan,   nan, ...,   nan,   nan,   nan]]], dtype=float32)\n",
       "Coordinates:\n",
       "  * BINS     (BINS) int64 1 2 3 4 5 6 7 8 9 10 11 12 13 14 15\n",
       "  * TIME     (TIME) float64 1.781e+04 1.781e+04 ... 1.822e+04 1.822e+04\n",
       "  * SAMPLE   (SAMPLE) int64 1 2 3 4 5 6 7 8 9 10 ... 40 41 42 43 44 45 46 47 48</pre><div class='xr-wrap' style='display:none'><div class='xr-header'><div class='xr-obj-type'>xarray.DataArray</div><div class='xr-array-name'>'Average_AmpBeam3'</div><ul class='xr-dim-list'><li><span class='xr-has-index'>BINS</span>: 15</li><li><span class='xr-has-index'>TIME</span>: 3555</li><li><span class='xr-has-index'>SAMPLE</span>: 48</li></ul></div><ul class='xr-sections'><li class='xr-section-item'><div class='xr-array-wrap'><input id='section-c7475abb-1098-4d7d-ab24-333af01b459a' class='xr-array-in' type='checkbox' checked><label for='section-c7475abb-1098-4d7d-ab24-333af01b459a' title='Show/hide data repr'><svg class='icon xr-icon-database'><use xlink:href='#icon-database'></use></svg></label><div class='xr-array-preview xr-preview'><span>-3.5 -6.5 -7.0 -8.0 -11.0 -7.5 -8.5 ... nan nan nan nan nan nan nan</span></div><div class='xr-array-data'><pre>array([[[ -3.5,  -6.5,  -7. , ...,  -5. ,  -7. ,  -4. ],\n",
       "        [ -8.5,  -7.5, -10. , ...,  -7.5,  -6.5,  -7.5],\n",
       "        [-12. ,  -9. ,  -6.5, ...,  -5. , -10.5,  -7.5],\n",
       "        ...,\n",
       "        [  nan,   nan,   nan, ...,   nan,   nan,   nan],\n",
       "        [  nan,   nan,   nan, ...,   nan,   nan,   nan],\n",
       "        [  nan,   nan,   nan, ...,   nan,   nan,   nan]],\n",
       "\n",
       "       [[ -7. ,  -6. ,  -6.5, ...,  -4. ,  -7.5,  -5.5],\n",
       "        [ -3. ,  -3.5,  -6. , ...,  -4.5,  -5.5,  -1.5],\n",
       "        [ -0.5,   1. ,  -3. , ...,  -7. ,  -3.5,  -5. ],\n",
       "        ...,\n",
       "        [  nan,   nan,   nan, ...,   nan,   nan,   nan],\n",
       "        [  nan,   nan,   nan, ...,   nan,   nan,   nan],\n",
       "        [  nan,   nan,   nan, ...,   nan,   nan,   nan]],\n",
       "\n",
       "       [[ -2. ,  -2.5,  -1. , ...,  -5.5,   0. ,  -3. ],\n",
       "        [ -4.5,  -1. ,  -1.5, ...,  -0.5,  -2.5,   1. ],\n",
       "        [ -4. ,  -5. ,  -3.5, ...,  -0.5,  -2. ,   1. ],\n",
       "        ...,\n",
       "...\n",
       "        ...,\n",
       "        [  nan,   nan,   nan, ...,   nan,   nan,   nan],\n",
       "        [  nan,   nan,   nan, ...,   nan,   nan,   nan],\n",
       "        [  nan,   nan,   nan, ...,   nan,   nan,   nan]],\n",
       "\n",
       "       [[  nan,   nan,  -2.5, ...,   nan,  -6. ,   nan],\n",
       "        [  nan,   nan,   nan, ...,   nan,   nan,   nan],\n",
       "        [ -4.5,  -7.5,   nan, ...,   nan,  -7.5,   nan],\n",
       "        ...,\n",
       "        [  nan,   nan,   nan, ...,   nan,   nan,   nan],\n",
       "        [  nan,   nan,   nan, ...,   nan,   nan,   nan],\n",
       "        [  nan,   nan,   nan, ...,   nan,   nan,   nan]],\n",
       "\n",
       "       [[  nan,   nan,   nan, ...,   nan,   nan,   nan],\n",
       "        [  nan,   nan,   nan, ...,   nan,   nan,   nan],\n",
       "        [ -6.5,   nan,   nan, ...,   nan,  -6.5,   nan],\n",
       "        ...,\n",
       "        [  nan,   nan,   nan, ...,   nan,   nan,   nan],\n",
       "        [  nan,   nan,   nan, ...,   nan,   nan,   nan],\n",
       "        [  nan,   nan,   nan, ...,   nan,   nan,   nan]]], dtype=float32)</pre></div></div></li><li class='xr-section-item'><input id='section-43898659-20a9-4e3f-80d5-f6a0b872ec8e' class='xr-section-summary-in' type='checkbox'  checked><label for='section-43898659-20a9-4e3f-80d5-f6a0b872ec8e' class='xr-section-summary' >Coordinates: <span>(3)</span></label><div class='xr-section-inline-details'></div><div class='xr-section-details'><ul class='xr-var-list'><li class='xr-var-item'><div class='xr-var-name'><span class='xr-has-index'>BINS</span></div><div class='xr-var-dims'>(BINS)</div><div class='xr-var-dtype'>int64</div><div class='xr-var-preview xr-preview'>1 2 3 4 5 6 7 8 9 10 11 12 13 14 15</div><input id='attrs-333a801e-0633-4561-8ec0-37e2559890c4' class='xr-var-attrs-in' type='checkbox' ><label for='attrs-333a801e-0633-4561-8ec0-37e2559890c4' title='Show/Hide attributes'><svg class='icon xr-icon-file-text2'><use xlink:href='#icon-file-text2'></use></svg></label><input id='data-70aa06ec-f7be-4e4f-9657-de6b23782cb9' class='xr-var-data-in' type='checkbox'><label for='data-70aa06ec-f7be-4e4f-9657-de6b23782cb9' title='Show/Hide data repr'><svg class='icon xr-icon-database'><use xlink:href='#icon-database'></use></svg></label><div class='xr-var-attrs'><dl class='xr-attrs'><dt><span>description :</span></dt><dd>Number of velocity bins.</dd></dl></div><div class='xr-var-data'><pre>array([ 1,  2,  3,  4,  5,  6,  7,  8,  9, 10, 11, 12, 13, 14, 15])</pre></div></li><li class='xr-var-item'><div class='xr-var-name'><span class='xr-has-index'>TIME</span></div><div class='xr-var-dims'>(TIME)</div><div class='xr-var-dtype'>float64</div><div class='xr-var-preview xr-preview'>1.781e+04 1.781e+04 ... 1.822e+04</div><input id='attrs-4cc467c3-690b-49a0-ad58-afd13a13c7d9' class='xr-var-attrs-in' type='checkbox' ><label for='attrs-4cc467c3-690b-49a0-ad58-afd13a13c7d9' title='Show/Hide attributes'><svg class='icon xr-icon-file-text2'><use xlink:href='#icon-file-text2'></use></svg></label><input id='data-2c51d014-628a-4c35-8f53-befd86d6b2fc' class='xr-var-data-in' type='checkbox'><label for='data-2c51d014-628a-4c35-8f53-befd86d6b2fc' title='Show/Hide data repr'><svg class='icon xr-icon-database'><use xlink:href='#icon-database'></use></svg></label><div class='xr-var-attrs'><dl class='xr-attrs'><dt><span>units :</span></dt><dd>Days since 1970-01-01</dd><dt><span>long_name :</span></dt><dd>Time stamp of the ensemble averaged measurement</dd></dl></div><div class='xr-var-data'><pre>array([17810.500276, 17810.510693, 17810.52111 , ..., 18216.500276,\n",
       "       18216.510693, 18216.52111 ])</pre></div></li><li class='xr-var-item'><div class='xr-var-name'><span class='xr-has-index'>SAMPLE</span></div><div class='xr-var-dims'>(SAMPLE)</div><div class='xr-var-dtype'>int64</div><div class='xr-var-preview xr-preview'>1 2 3 4 5 6 7 ... 43 44 45 46 47 48</div><input id='attrs-0cafe64c-746f-483d-9279-bdfe123fbf06' class='xr-var-attrs-in' type='checkbox' ><label for='attrs-0cafe64c-746f-483d-9279-bdfe123fbf06' title='Show/Hide attributes'><svg class='icon xr-icon-file-text2'><use xlink:href='#icon-file-text2'></use></svg></label><input id='data-43def71a-1ba6-4d3e-9bc5-bc422fa07b28' class='xr-var-data-in' type='checkbox'><label for='data-43def71a-1ba6-4d3e-9bc5-bc422fa07b28' title='Show/Hide data repr'><svg class='icon xr-icon-database'><use xlink:href='#icon-database'></use></svg></label><div class='xr-var-attrs'><dl class='xr-attrs'><dt><span>units :</span></dt><dd>Sample number</dd><dt><span>long_name :</span></dt><dd>Sample number in ensemble (48 samples per ensemble)</dd></dl></div><div class='xr-var-data'><pre>array([ 1,  2,  3,  4,  5,  6,  7,  8,  9, 10, 11, 12, 13, 14, 15, 16, 17, 18,\n",
       "       19, 20, 21, 22, 23, 24, 25, 26, 27, 28, 29, 30, 31, 32, 33, 34, 35, 36,\n",
       "       37, 38, 39, 40, 41, 42, 43, 44, 45, 46, 47, 48])</pre></div></li></ul></div></li><li class='xr-section-item'><input id='section-8e98bb29-6d89-44b6-b417-9c9fe6b6f4d7' class='xr-section-summary-in' type='checkbox'  ><label for='section-8e98bb29-6d89-44b6-b417-9c9fe6b6f4d7' class='xr-section-summary' >Indexes: <span>(3)</span></label><div class='xr-section-inline-details'></div><div class='xr-section-details'><ul class='xr-var-list'><li class='xr-var-item'><div class='xr-index-name'><div>BINS</div></div><div class='xr-index-preview'>PandasIndex</div><div></div><input id='index-8c73ef98-7c48-455a-b07a-0b29e68bff52' class='xr-index-data-in' type='checkbox'/><label for='index-8c73ef98-7c48-455a-b07a-0b29e68bff52' title='Show/Hide index repr'><svg class='icon xr-icon-database'><use xlink:href='#icon-database'></use></svg></label><div class='xr-index-data'><pre>PandasIndex(Int64Index([1, 2, 3, 4, 5, 6, 7, 8, 9, 10, 11, 12, 13, 14, 15], dtype=&#x27;int64&#x27;, name=&#x27;BINS&#x27;))</pre></div></li><li class='xr-var-item'><div class='xr-index-name'><div>TIME</div></div><div class='xr-index-preview'>PandasIndex</div><div></div><input id='index-df1bbb72-5b5c-4e98-b4d3-b8e2479af8b3' class='xr-index-data-in' type='checkbox'/><label for='index-df1bbb72-5b5c-4e98-b4d3-b8e2479af8b3' title='Show/Hide index repr'><svg class='icon xr-icon-database'><use xlink:href='#icon-database'></use></svg></label><div class='xr-index-data'><pre>PandasIndex(Float64Index([17810.500276341394, 17810.510693009244,  17810.52110967593,\n",
       "               17810.53152634256, 17810.541943009244,  17810.55235967593,\n",
       "               17810.56277634256, 17810.573193009244,  17810.58360967593,\n",
       "               17810.59402634256,\n",
       "              ...\n",
       "               18216.42735967593,  18216.43777634256, 18216.448193009244,\n",
       "               18216.45860967593,  18216.46902634314, 18216.479443009244,\n",
       "               18216.48985967593,  18216.50027634256, 18216.510693009244,\n",
       "               18216.52110967593],\n",
       "             dtype=&#x27;float64&#x27;, name=&#x27;TIME&#x27;, length=3555))</pre></div></li><li class='xr-var-item'><div class='xr-index-name'><div>SAMPLE</div></div><div class='xr-index-preview'>PandasIndex</div><div></div><input id='index-bf80a2e7-6b59-431f-ae27-dc42aeabac07' class='xr-index-data-in' type='checkbox'/><label for='index-bf80a2e7-6b59-431f-ae27-dc42aeabac07' title='Show/Hide index repr'><svg class='icon xr-icon-database'><use xlink:href='#icon-database'></use></svg></label><div class='xr-index-data'><pre>PandasIndex(Int64Index([ 1,  2,  3,  4,  5,  6,  7,  8,  9, 10, 11, 12, 13, 14, 15, 16, 17,\n",
       "            18, 19, 20, 21, 22, 23, 24, 25, 26, 27, 28, 29, 30, 31, 32, 33, 34,\n",
       "            35, 36, 37, 38, 39, 40, 41, 42, 43, 44, 45, 46, 47, 48],\n",
       "           dtype=&#x27;int64&#x27;, name=&#x27;SAMPLE&#x27;))</pre></div></li></ul></div></li><li class='xr-section-item'><input id='section-5f37039b-31c9-41b8-8671-28b5100bd11e' class='xr-section-summary-in' type='checkbox' disabled ><label for='section-5f37039b-31c9-41b8-8671-28b5100bd11e' class='xr-section-summary'  title='Expand/collapse section'>Attributes: <span>(0)</span></label><div class='xr-section-inline-details'></div><div class='xr-section-details'><dl class='xr-attrs'></dl></div></li></ul></div></div>"
      ],
      "text/plain": [
       "<xarray.DataArray 'Average_AmpBeam3' (BINS: 15, TIME: 3555, SAMPLE: 48)>\n",
       "array([[[ -3.5,  -6.5,  -7. , ...,  -5. ,  -7. ,  -4. ],\n",
       "        [ -8.5,  -7.5, -10. , ...,  -7.5,  -6.5,  -7.5],\n",
       "        [-12. ,  -9. ,  -6.5, ...,  -5. , -10.5,  -7.5],\n",
       "        ...,\n",
       "        [  nan,   nan,   nan, ...,   nan,   nan,   nan],\n",
       "        [  nan,   nan,   nan, ...,   nan,   nan,   nan],\n",
       "        [  nan,   nan,   nan, ...,   nan,   nan,   nan]],\n",
       "\n",
       "       [[ -7. ,  -6. ,  -6.5, ...,  -4. ,  -7.5,  -5.5],\n",
       "        [ -3. ,  -3.5,  -6. , ...,  -4.5,  -5.5,  -1.5],\n",
       "        [ -0.5,   1. ,  -3. , ...,  -7. ,  -3.5,  -5. ],\n",
       "        ...,\n",
       "        [  nan,   nan,   nan, ...,   nan,   nan,   nan],\n",
       "        [  nan,   nan,   nan, ...,   nan,   nan,   nan],\n",
       "        [  nan,   nan,   nan, ...,   nan,   nan,   nan]],\n",
       "\n",
       "       [[ -2. ,  -2.5,  -1. , ...,  -5.5,   0. ,  -3. ],\n",
       "        [ -4.5,  -1. ,  -1.5, ...,  -0.5,  -2.5,   1. ],\n",
       "        [ -4. ,  -5. ,  -3.5, ...,  -0.5,  -2. ,   1. ],\n",
       "        ...,\n",
       "...\n",
       "        ...,\n",
       "        [  nan,   nan,   nan, ...,   nan,   nan,   nan],\n",
       "        [  nan,   nan,   nan, ...,   nan,   nan,   nan],\n",
       "        [  nan,   nan,   nan, ...,   nan,   nan,   nan]],\n",
       "\n",
       "       [[  nan,   nan,  -2.5, ...,   nan,  -6. ,   nan],\n",
       "        [  nan,   nan,   nan, ...,   nan,   nan,   nan],\n",
       "        [ -4.5,  -7.5,   nan, ...,   nan,  -7.5,   nan],\n",
       "        ...,\n",
       "        [  nan,   nan,   nan, ...,   nan,   nan,   nan],\n",
       "        [  nan,   nan,   nan, ...,   nan,   nan,   nan],\n",
       "        [  nan,   nan,   nan, ...,   nan,   nan,   nan]],\n",
       "\n",
       "       [[  nan,   nan,   nan, ...,   nan,   nan,   nan],\n",
       "        [  nan,   nan,   nan, ...,   nan,   nan,   nan],\n",
       "        [ -6.5,   nan,   nan, ...,   nan,  -6.5,   nan],\n",
       "        ...,\n",
       "        [  nan,   nan,   nan, ...,   nan,   nan,   nan],\n",
       "        [  nan,   nan,   nan, ...,   nan,   nan,   nan],\n",
       "        [  nan,   nan,   nan, ...,   nan,   nan,   nan]]], dtype=float32)\n",
       "Coordinates:\n",
       "  * BINS     (BINS) int64 1 2 3 4 5 6 7 8 9 10 11 12 13 14 15\n",
       "  * TIME     (TIME) float64 1.781e+04 1.781e+04 ... 1.822e+04 1.822e+04\n",
       "  * SAMPLE   (SAMPLE) int64 1 2 3 4 5 6 7 8 9 10 ... 40 41 42 43 44 45 46 47 48"
      ]
     },
     "execution_count": 72,
     "metadata": {},
     "output_type": "execute_result"
    }
   ],
   "source": [
    "DX.Average_AmpBeam3.diff(dim = 'BINS')"
   ]
  },
  {
   "cell_type": "code",
   "execution_count": 67,
   "id": "976122a4",
   "metadata": {},
   "outputs": [
    {
     "data": {
      "text/plain": [
       "Frozen({'TIME': 3555, 'SAMPLE': 48, 'BINS': 16, 'beams': 4, 'xyz': 3})"
      ]
     },
     "execution_count": 67,
     "metadata": {},
     "output_type": "execute_result"
    }
   ],
   "source": [
    "DX.dims"
   ]
  },
  {
   "cell_type": "code",
   "execution_count": 65,
   "id": "836e1295",
   "metadata": {},
   "outputs": [
    {
     "data": {
      "text/plain": [
       "<matplotlib.collections.QuadMesh at 0x7f13d0efe250>"
      ]
     },
     "execution_count": 65,
     "metadata": {},
     "output_type": "execute_result"
    },
    {
     "data": {
      "image/png": "[encoded data removed]",
      "text/plain": [
       "<Figure size 640x480 with 1 Axes>"
      ]
     },
     "metadata": {},
     "output_type": "display_data"
    }
   ],
   "source": [
    "fig, ax = plt.subplots()\n",
    "ax.pcolormesh(np.sqrt(DX.Average_VelNorth[:, 1000:1100, 0]**2 + DX.Average_VelNorth[:, 1000:1100, 0]**2), \n",
    "             vmin = 0, vmax = 1.5)"
   ]
  },
  {
   "cell_type": "code",
   "execution_count": 33,
   "id": "9ef24606",
   "metadata": {},
   "outputs": [
    {
     "data": {
      "text/plain": [
       "<matplotlib.collections.QuadMesh at 0x7f13be534970>"
      ]
     },
     "execution_count": 33,
     "metadata": {},
     "output_type": "execute_result"
    },
    {
     "data": {
      "image/png": "[encoded data removed]",
      "text/plain": [
       "<Figure size 640x480 with 1 Axes>"
      ]
     },
     "metadata": {},
     "output_type": "display_data"
    }
   ],
   "source": [
    "fig, ax = plt.subplots()\n",
    "ax.pcolormesh(DX.Uocean[:, :100, 0])"
   ]
  },
  {
   "cell_type": "markdown",
   "id": "e335bfb7",
   "metadata": {},
   "source": [
    "## Exporting"
   ]
  },
  {
   "cell_type": "code",
   "execution_count": null,
   "id": "ca1b0587",
   "metadata": {},
   "outputs": [],
   "source": [
    "sig_load.overview(DX)"
   ]
  },
  {
   "cell_type": "code",
   "execution_count": null,
   "id": "ee786642",
   "metadata": {},
   "outputs": [],
   "source": [
    "DX"
   ]
  },
  {
   "cell_type": "code",
   "execution_count": null,
   "id": "96331de3",
   "metadata": {},
   "outputs": [],
   "source": [
    "sig_load.to_nc(DX, 'testfile.nc', export_vars= ['SIC_FOM'], icedraft = True, icevel = True, oceanvel = False)"
   ]
  },
  {
   "cell_type": "markdown",
   "id": "7b246d57",
   "metadata": {},
   "source": [
    "#### Read the testfile.."
   ]
  },
  {
   "cell_type": "code",
   "execution_count": null,
   "id": "131e7163",
   "metadata": {},
   "outputs": [],
   "source": [
    "TF = xr.open_dataset('testfile.nc')"
   ]
  },
  {
   "cell_type": "code",
   "execution_count": null,
   "id": "0bb1fb83",
   "metadata": {},
   "outputs": [],
   "source": [
    "TF.attrs.conf"
   ]
  },
  {
   "cell_type": "code",
   "execution_count": null,
   "id": "a69b5cdb",
   "metadata": {},
   "outputs": [],
   "source": [
    "TF.close()"
   ]
  },
  {
   "cell_type": "code",
   "execution_count": null,
   "id": "c79c5d81",
   "metadata": {},
   "outputs": [],
   "source": []
  }
 ],
 "metadata": {
  "kernelspec": {
   "display_name": "Python [conda env:oyv] *",
   "language": "python",
   "name": "conda-env-oyv-py"
  },
  "language_info": {
   "codemirror_mode": {
    "name": "ipython",
    "version": 3
   },
   "file_extension": ".py",
   "mimetype": "text/x-python",
   "name": "python",
   "nbconvert_exporter": "python",
   "pygments_lexer": "ipython3",
   "version": "3.8.2"
  }
 },
 "nbformat": 4,
 "nbformat_minor": 5
}
