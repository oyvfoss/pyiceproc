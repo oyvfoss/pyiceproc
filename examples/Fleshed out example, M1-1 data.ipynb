{
 "cells": [
  {
   "cell_type": "markdown",
   "id": "852f3819",
   "metadata": {},
   "source": [
    "# Fleshed out example\n",
    "NOTE: This notebook is pretty rough. It will development  change during development of the code.."
   ]
  },
  {
   "cell_type": "markdown",
   "id": "4cddd0e0",
   "metadata": {},
   "source": [
    "#### Imports"
   ]
  },
  {
   "cell_type": "code",
   "execution_count": null,
   "id": "9d439548",
   "metadata": {},
   "outputs": [],
   "source": [
    "# Useful for plottimg\n",
    "from matplotlib import pyplot as plt\n",
    "\n",
    "# Useful for calculations\n",
    "import numpy as np\n",
    "\n",
    "# Useful for getting lists of files, etc\n",
    "import os\n",
    "import glob\n",
    "\n",
    "# I use *pickle* to load some external \"pickled\" datasets. Not necessary for anything else. \n",
    "import pickle\n",
    "# Also use xarray to load some external data\n",
    "import xarray as xr\n",
    "\n",
    "# I use *mpl.dates* to enter some dates. Not necessary for anything else. \n",
    "from matplotlib import dates\n",
    "from matplotlib.dates import date2num, num2date\n",
    "\n",
    "# Useful in development..\n",
    "import importlib"
   ]
  },
  {
   "cell_type": "markdown",
   "id": "47c95c6f",
   "metadata": {},
   "source": [
    "### Find modules and  files we will work with"
   ]
  },
  {
   "cell_type": "code",
   "execution_count": null,
   "id": "0c77241c",
   "metadata": {},
   "outputs": [],
   "source": [
    "# Load the modules\n",
    "\n",
    "# Changing directories because we need to be in the directory below the functions\n",
    "# (may make this a bit neater later..)\n",
    "os.chdir('/home/oyvindl/work/code/git_public/sigpyproc/examples/')\n",
    "os.chdir('../')\n",
    "from sigpyproc import sig_load, sig_append, sig_calc, sig_draft\n",
    "from sigpyproc import sig_vel, sig_toolbox, sig_append\n",
    "os.chdir('examples/')"
   ]
  },
  {
   "cell_type": "code",
   "execution_count": null,
   "id": "a2281ada",
   "metadata": {},
   "outputs": [],
   "source": [
    "# Make a list of the .mat files we want to load \n",
    "floc = '/media/oyvindl/ratatosk/data/mooring_data/signature500/m1_1/converted/*'\n",
    "flist = glob.glob(floc)\n",
    "for fn in flist:\n",
    "    if '_avgd' in fn:\n",
    "        flist.remove(fn)"
   ]
  },
  {
   "cell_type": "markdown",
   "id": "cccb2f9e",
   "metadata": {},
   "source": [
    "## Load the data "
   ]
  },
  {
   "cell_type": "markdown",
   "id": "ac0e7777",
   "metadata": {},
   "source": [
    "##### Load from matfiles to a neatly xarray Dataset \n",
    "\n",
    "- Wraps from a simgle time dimension to *(TIME, SAMPLE)*\n",
    "- Concatenates the many .mat files to a single file\n",
    "- Various formatting stuff\n",
    "- Calculate tilt\n",
    "- Estimates sea ice presence from FOM (and adds \"sea ice concentration\" fields)\n",
    "\n",
    "Specifying lat/lon here - that can also be done later\n",
    "\n",
    "This step takes a while (a minute or so?).\n",
    "\n",
    "Throws some errors that I haven't investigated (don't seem to matter but I don't want to suppress them, until I'm sure what they are)"
   ]
  },
  {
   "cell_type": "code",
   "execution_count": null,
   "id": "9af35d54",
   "metadata": {},
   "outputs": [],
   "source": [
    "importlib.reload(sig_load)"
   ]
  },
  {
   "cell_type": "code",
   "execution_count": null,
   "id": "bbf3234e",
   "metadata": {},
   "outputs": [],
   "source": [
    "DX = sig_load.matfiles_to_dataset(flist[:], lat = 79.589, lon = 28.097)"
   ]
  },
  {
   "cell_type": "markdown",
   "id": "3877228e",
   "metadata": {},
   "source": [
    "##### Have a quick look at the data \n",
    "\n",
    "We can look at the file interactively by just typing \"DX\".\n",
    "\n",
    "We can also run *sig_load.overview(DX)* for some very basic statistics.\n",
    "\n",
    "We can also run *sig_toolbox.histogram(DX, [variable name])* to look at the distribution of a variable "
   ]
  },
  {
   "cell_type": "code",
   "execution_count": null,
   "id": "f777213c",
   "metadata": {},
   "outputs": [],
   "source": [
    "sig_load.overview(DX)"
   ]
  },
  {
   "cell_type": "markdown",
   "id": "43b06d6b",
   "metadata": {},
   "source": [
    "## Append some external datasets\n",
    "\n",
    "We can append external data to *DX* using the *sig_append* module. The functions in the module interpolates external data onto the *TIME* grid.\n",
    "\n",
    "The function *sig_append.add_to_sigdata* is general and can be used to append whatever can be of use.\n",
    "\n",
    "There are specified functions for appending specific things that are used in subsequent processing: \n",
    "\n",
    "- *sig_append.append_atm_pres*: Append **sea level pressure** (used for depth correction)\n",
    "- *sig_append.append_ctd*: Append **S, T, P from CTD sensor** (used for density and sound speed corrections)\n",
    "- *sig_append.set_lat, set_lon*: Add (single-value) **lat/lon** (if it wasn't done in the initial loading step)\n",
    "- *sig_append.append_magdec*: Add **magnetic declination** (used for correction of velocity directions). "
   ]
  },
  {
   "cell_type": "markdown",
   "id": "170fb894",
   "metadata": {},
   "source": [
    "#### Append atmospheric pressure from CARRA atmospheric reanalysis "
   ]
  },
  {
   "cell_type": "markdown",
   "id": "1571d155",
   "metadata": {},
   "source": [
    "Load a dataset containing sea level pressure.\n",
    "\n",
    "(I have previously collected these data from CARRA reanalysis).\n",
    "\n",
    "Note that these should be provided in units of **decibars**."
   ]
  },
  {
   "cell_type": "code",
   "execution_count": null,
   "id": "5767a644",
   "metadata": {},
   "outputs": [],
   "source": [
    "with open('../testing/development/CARRA_MSL_M1_temp.p', 'rb') as f:\n",
    "    dmsl = pickle.load(f)"
   ]
  },
  {
   "cell_type": "code",
   "execution_count": null,
   "id": "e65bf41b",
   "metadata": {},
   "outputs": [],
   "source": [
    "carra_m1 = xr.open_dataset('/media/oyvindl/ratatosk/data/carra/selected_points/carra_18_22_M1.nc')"
   ]
  },
  {
   "cell_type": "code",
   "execution_count": null,
   "id": "963b1be7",
   "metadata": {},
   "outputs": [],
   "source": [
    "DX_no_msl = DX.copy()"
   ]
  },
  {
   "cell_type": "code",
   "execution_count": null,
   "id": "0b63efe9",
   "metadata": {},
   "outputs": [],
   "source": [
    "# Append to the dataset\n",
    "DX = sig_append.append_atm_pres(DX, carra_m1.msl.data*1e-4, date2num(carra_m1.time))"
   ]
  },
  {
   "cell_type": "markdown",
   "id": "b68c9f84",
   "metadata": {},
   "source": [
    "We now have a *p_atmo* field in *DX*:\n",
    "Make a quick plot to check that our interpolation worked:"
   ]
  },
  {
   "cell_type": "code",
   "execution_count": null,
   "id": "eb2f9785",
   "metadata": {},
   "outputs": [],
   "source": [
    "fig, ax = plt.subplots(figsize = (8, 3))\n",
    "ax.plot_date(dmsl.time, dmsl.MSL, '-', label = '(Daily) data loaded from .p file')\n",
    "ax.plot(carra_m1.time, carra_m1.msl*1e-4, '-', label = 'Hourly, from nc file')\n",
    "ax.plot(DX.TIME, DX.p_atmo, ':', label = 'Data from .nc interpolated to TIME grid')\n",
    "\n",
    "ax.legend()\n",
    "ax.set_ylabel('Decibar')\n",
    "ax.set_xlim(dmsl.time[300], dmsl.time[310])"
   ]
  },
  {
   "cell_type": "markdown",
   "id": "c015b54b",
   "metadata": {},
   "source": [
    "#### Append CTD data\n",
    "Next, we add data from a CTD sensor that was mounted rigth below the Signature. We will use it to improve our sound speed and density estimates - it is also interesting to includefor analysis purposes!"
   ]
  },
  {
   "cell_type": "code",
   "execution_count": null,
   "id": "c711dc20",
   "metadata": {},
   "outputs": [],
   "source": [
    "# Load data (which I have prepared in advance)\n",
    "\n",
    "with open('../testing/development/CARRA_CTD_M1_1_temp.p', 'rb') as f:\n",
    "    dctd = pickle.load(f)\n",
    "    \n",
    "# Chop away nan ends..\n",
    "ctd_sl = slice(3, -3)\n",
    "for key in dctd.keys():\n",
    "    dctd[key] = dctd[key][ctd_sl]"
   ]
  },
  {
   "cell_type": "code",
   "execution_count": null,
   "id": "07e93c36",
   "metadata": {},
   "outputs": [],
   "source": [
    "# Append to the dataset\n",
    "# (Specifying serial number and description is optional!)\n",
    "DX = sig_append.append_ctd(DX, dctd.TEMP, dctd.SP, dctd.pres, dctd.time,\n",
    "             instr_SN = '11111', \n",
    "           instr_desc = 'RBR Concerto CTD sensor mounted right below the Signature' )"
   ]
  },
  {
   "cell_type": "markdown",
   "id": "2b574f2e",
   "metadata": {},
   "source": [
    "The *append_ctd* function read T/S/p variables. These were converted to TEOS-10 using the *gsw* module. It also calculated sound speed and density.\n",
    "\n",
    "We therefore have some new fields in DX, all with the suffix *_CTD*: *SA_CTD, CT_CTD, sound_speed_CTD..*. The descriptions we prescribed, as well as other metadata such as units and full name, should be available in the variable attributes, e.g.:"
   ]
  },
  {
   "cell_type": "markdown",
   "id": "cbaaf853",
   "metadata": {},
   "source": [
    "#### Append magnetic declination\n",
    "\n",
    "In this case, we know that the declination only changes by <0.5 degrees over the deployment. For now, we are happy using a linear interpolation based two values we found for two points in time (from the EMM, extracted using this online calculator: https://www.ngdc.noaa.gov/geomag/calculators/magcalc.shtml#igrfwmm)"
   ]
  },
  {
   "cell_type": "code",
   "execution_count": null,
   "id": "ade7027b",
   "metadata": {},
   "outputs": [],
   "source": [
    "magdec_fn = '/home/oyvindl/work/data/magdec/igrfwmm_pickles/igrfwmm_m1.p'\n",
    "with open(magdec_fn, 'rb') as f:\n",
    "    magdec = pickle.load(f)"
   ]
  },
  {
   "cell_type": "code",
   "execution_count": null,
   "id": "c6eca593",
   "metadata": {},
   "outputs": [],
   "source": [
    "# Append to DX (the attributes are not necessary - \n",
    "# but it's a good idea to keep track of this sort \n",
    "# of stuff in the file metadata!)\n",
    "\n",
    "DX = sig_append.append_magdec(DX, magdec['magdec'], magdec['time'], \n",
    "         attrs = {'note':('Magdec interpolated between extracted from EMM, '\n",
    "              'extracted using this online calculator: '\n",
    "              'https://www.ngdc.noaa.gov/geomag/calculators/magcalc.shtml#igrfwmm')})"
   ]
  },
  {
   "cell_type": "code",
   "execution_count": null,
   "id": "cba9badf",
   "metadata": {},
   "outputs": [],
   "source": [
    "# Inspect magdec in DX\n",
    "DX.magdec"
   ]
  },
  {
   "cell_type": "markdown",
   "id": "851bd12b",
   "metadata": {},
   "source": [
    "Note that the append_magdec *extrapolates*. Let's look at the actual values: "
   ]
  },
  {
   "cell_type": "code",
   "execution_count": null,
   "id": "4b4d25e9",
   "metadata": {},
   "outputs": [],
   "source": [
    "fig, ax = plt.subplots(figsize = (8, 2))\n",
    "ax.plot_date(magdec['time'], magdec['magdec'], '.', label = 'Original points')\n",
    "ax.plot(DX.TIME, DX.magdec, label = 'DX.magdec', lw =2)\n",
    "ax.legend()\n",
    "ax.set_xlim(num2date(DX.TIME[0] - 400), num2date(DX.TIME[-1] + 400))\n",
    "ax.set_ylim(18, 21)\n",
    "\n",
    "ax.set_ylabel('Degrees')"
   ]
  },
  {
   "cell_type": "markdown",
   "id": "0fa2de9e",
   "metadata": {},
   "source": [
    "#### Add AMSR2 SIC\n",
    "\n",
    "Adding SIC is not necessary for anything. But it is an example of a information that can be useful to include for analysis - remote sensing SIC is also useful for comparing the SIC we have computed from in-situ data! "
   ]
  },
  {
   "cell_type": "code",
   "execution_count": null,
   "id": "ce637b06",
   "metadata": {},
   "outputs": [],
   "source": [
    "# Load previously extracted data\n",
    "sic = xr.open_dataset('/home/oyvindl/work/projects/sig500/data/misc/sic/M1M2_AMSR2_SIC.nc')\n",
    "sic_data = sic.SIC_m1\n",
    "sic_time = sic.time+0.5 # We add half a day because the daily time stamp is at 00:00"
   ]
  },
  {
   "cell_type": "code",
   "execution_count": null,
   "id": "6487a684",
   "metadata": {},
   "outputs": [],
   "source": [
    "# 'SIC_AMSR2' specified what we want this variable to be called. A name is mandatory,\n",
    "# \"attrs\" specifies attributes/metedata info. Not necessary but useful!\n",
    "DX = sig_append.add_to_sigdata(DX, sic_data, sic_time, 'SIC_AMSR2', \n",
    "               attrs = {'long_name':'AMSR2 UoB sea ice concentration',\n",
    "        'description':'SIC extracted from the nearest grid point.',\n",
    "        'sourcefile':'/home/oyvindl/work/projects/sig500/data/misc/sic/M1M2_AMSR2_SIC.nc'})"
   ]
  },
  {
   "cell_type": "markdown",
   "id": "f291d934",
   "metadata": {},
   "source": [
    "##### Quick look and comparison with \"in situ SIC\" \n",
    "In the *sig_load.matfiles_to_dataset* call in the beginning, we calculated ice presence uring the *FOM* metric, and estimated \"SIC\" based on this. \n",
    "\n",
    "Below we do a quick comparison with the remote sensing SIC that we just added.\n",
    "\n",
    "Note: We use the function *sig_calc.daily_median* to calculate daily medians"
   ]
  },
  {
   "cell_type": "code",
   "execution_count": null,
   "id": "238e7ce2",
   "metadata": {},
   "outputs": [],
   "source": [
    "fig, ax = plt.subplots(figsize = (10, 3))\n",
    "ax.plot(DX.TIME, DX.SIC_AMSR2, 'k', zorder = 20, lw = 1, label ='AMSR2 SIC (nearest cell)')\n",
    "ax.plot(DX.TIME, DX.SIC_FOM, color = 'r', alpha = 0.1)\n",
    "SIC_FOM_dat, td = sig_calc.daily_average(DX.SIC_FOM, DX.TIME, function = 'mean')\n",
    "ax.plot(td+0.5, SIC_FOM_dat, color = 'r', alpha = 1, label = 'SIC_FOM (daily)')\n",
    "SIC_FOM_ALT_dat, td = sig_calc.daily_average(DX.SIC_FOM_ALT, DX.TIME, function = 'mean')\n",
    "ax.plot_date(td+0.5, SIC_FOM_ALT_dat, '-', color = 'g', alpha = 1, \n",
    "             lw = 1, label = 'SIC_FOM_ALT (daily)')\n",
    "ax.legend()\n",
    "\n",
    "ax.set_ylabel('Concentration [%]');"
   ]
  },
  {
   "cell_type": "markdown",
   "id": "4718e886",
   "metadata": {},
   "source": [
    "-> Looks pretty good!"
   ]
  },
  {
   "cell_type": "markdown",
   "id": "0f86f56b",
   "metadata": {},
   "source": [
    "### Calculate depth\n",
    "Before we calculate ice drafts and velocities, we want to compute the instrument depth $h$. This is done from a hydrostatic approximation  $$h = \\frac{p}{\\rho g}$$\n",
    "\n",
    "Where $p$ is the ocean pressure (*Average_AltimeterPressure*) where we have added back the in-build atmospheric correction, but *subtracted* our the time-varying atmopheric pressure that we added earlier (*p_atmo*).  \n",
    "\n",
    "$\\rho$ is density from CTD (*rho_CTD*) and $g$ is (latitude-dependent) gravitational acceleration calculated using the function *gsw.grav*.\n",
    "\n",
    "It is possible to calculate depth without atmospheric pressure, in-situ density etc. The function uses everything that is available unless we specify *corr_atmo=False* or *corr_CTD_density=False* in the function call. "
   ]
  },
  {
   "cell_type": "code",
   "execution_count": null,
   "id": "b1583dab",
   "metadata": {},
   "outputs": [],
   "source": [
    "# Doing one calculation withotu the TD densioty correction to see if there is a difference..\n",
    "\n",
    "DX = sig_calc.dep_from_p(DX, corr_CTD_density=True)\n",
    "\n",
    "DX0 = DX.copy()\n",
    "DX0 =sig_calc.dep_from_p(DX0, corr_CTD_density=False)"
   ]
  },
  {
   "cell_type": "code",
   "execution_count": null,
   "id": "881aac82",
   "metadata": {},
   "outputs": [],
   "source": [
    "fig, ax = plt.subplots(figsize = (10, 3))\n",
    "ax.plot(DX.TIME, (DX0.depth- DX.depth).mean(dim='SAMPLE')*1e2, )\n",
    "ax.set_ylabel('[cm]')\n",
    "ax.set_title('Difference in depth after applying in-situ CTD (vs fixed rho = 1027 kg m-3)')\n",
    "meandiff = float((DX0.depth-DX.depth).mean())*1e2\n",
    "ax.plot([float(DX.TIME[0]), float(DX.TIME[-1])], np.ones(2)*meandiff, ':k', label = 'Mean')\n",
    "ax.legend(); ax.grid()"
   ]
  },
  {
   "cell_type": "markdown",
   "id": "057f20e2",
   "metadata": {},
   "source": [
    "As we see, the *note* field details which corrections have been applied. "
   ]
  },
  {
   "cell_type": "markdown",
   "id": "ef964853",
   "metadata": {},
   "source": [
    "**A quick sanity check:** we should have $depth\\sim~0$ after the instrument was brought on board"
   ]
  },
  {
   "cell_type": "code",
   "execution_count": null,
   "id": "bc81846b",
   "metadata": {},
   "outputs": [],
   "source": [
    "fig, ax = plt.subplots(figsize = (8, 2))\n",
    "time = num2date(DX.TIME)\n",
    "ax.plot(time, 1e2*DX.depth.mean(dim = 'SAMPLE'))#, label = 'DX.magdec')\n",
    "ax.plot(time, 1e2*DX0.depth.mean(dim = 'SAMPLE'), '-')#, label = 'DX.magdec')\n",
    "\n",
    "ax.set_ylabel('cm')\n",
    "ax.set_xlim(time[-20], time[-1])\n",
    "ax.set_ylim(-1, 5)\n",
    "ax.axhline(0, ls = '--', color = 'k')\n",
    "ax.grid()\n",
    "ax.set_title('Instrument \"depth\" at the end of deployment')"
   ]
  },
  {
   "cell_type": "markdown",
   "id": "758e039d",
   "metadata": {},
   "source": [
    "-> Yep, we are about 1 to 3 cm off which **seems pretty good.**"
   ]
  },
  {
   "cell_type": "markdown",
   "id": "e8fd31f8",
   "metadata": {},
   "source": [
    "### Chopping away on-ship measurements\n",
    "We actually don't want to include the measurements taken on deck or after/during deployments. We can easily chop everything using the function *sig_load.chop*:"
   ]
  },
  {
   "cell_type": "code",
   "execution_count": null,
   "id": "db207f9a",
   "metadata": {},
   "outputs": [],
   "source": [
    "# Good starting point: Just call the function and follow the prompts. \n",
    "DX = sig_load.chop(DX)"
   ]
  },
  {
   "cell_type": "markdown",
   "id": "786f9758",
   "metadata": {},
   "source": [
    "We have now chopped away the time on deck durign the recovery, reducing the size of the dataset a bit.\n",
    "\n",
    "Note that this information is preserved in *DX.history* attribute "
   ]
  },
  {
   "cell_type": "code",
   "execution_count": null,
   "id": "022f0711",
   "metadata": {},
   "outputs": [],
   "source": [
    "print(DX.history)"
   ]
  },
  {
   "cell_type": "markdown",
   "id": "de0451cd",
   "metadata": {},
   "source": [
    "# Draft\n",
    "\n",
    "We are now ready to calculate the sea ice draft. The basic approach is:\n",
    "\n",
    "1. Calculate depth of the scattering surface from depth/tilt/sound/speed/altimeter distance.\n",
    "    - All valid values (open water and ice) are stored as *SURFACE_DEPTH_*\n",
    "    - Only values during estimated sea ice presence are stored as *SEA_ICE_DRAFT_*\n",
    "2. Extract a time-varying \"open water correction\" forcing the long-time moving average open water values to be near zero.\n",
    "    - Calculate a sound speed correction factor $\\beta$ which would make the necessary correction to the open water values.\n",
    "3. Repeat step 1, but now applying the sound speed $\\beta$ to the distance calculation."
   ]
  },
  {
   "cell_type": "markdown",
   "id": "537dd3b3",
   "metadata": {},
   "source": [
    "##### Step 1: Initial calculation of surface depths\n"
   ]
  },
  {
   "cell_type": "code",
   "execution_count": null,
   "id": "b5ade0b5",
   "metadata": {},
   "outputs": [],
   "source": [
    "DX = sig_draft.calculate_draft(DX)"
   ]
  },
  {
   "cell_type": "markdown",
   "id": "8aa4846e",
   "metadata": {},
   "source": [
    "We have now added a bunch of new fields to *DX* (e.g. *SURFACE_DEPTH_LE*, *SEA_ICE_DRAFT_AST*..).\n",
    "\n",
    "Note that We do the calculation - separately - for both the *AST* and *LE* altimeter estimates. \n",
    "\n",
    "For the *LE* estimate (which typically is better/less noisy, but detects \"false keels\" near the transducer), we **drop all LE samples where AST and LE disagree by > 0.5 m**. In this case that means dropping a *lot* of samples (something like 1/3 of the dataset), but the hope is that it gives a better estimate."
   ]
  },
  {
   "cell_type": "markdown",
   "id": "e176ca07",
   "metadata": {},
   "source": [
    "##### Step 2: Open water correction\n",
    "*(Note: this can take a minute or so to run)*\n",
    "\n",
    "(Describe this here in more detailed later..) "
   ]
  },
  {
   "cell_type": "code",
   "execution_count": null,
   "id": "4002d0a6",
   "metadata": {},
   "outputs": [],
   "source": [
    "# GET OPEN WATER SOUND SPEED CORRECTION\n",
    "DX = sig_draft.get_Beta_from_OWSD(DX)"
   ]
  },
  {
   "cell_type": "markdown",
   "id": "9b40a22f",
   "metadata": {},
   "source": [
    "*Note*: We have **not** made any adjustments to the draft yet - just estimated $\\beta$ (added as the *BETA_open_water_corr_* fields). \n",
    "\n",
    "We can examine the correction now to see if we are happy with it using teh *compare_OW_correction* funcion:\n",
    "(This function is bulky and should be made more practical)"
   ]
  },
  {
   "cell_type": "code",
   "execution_count": null,
   "id": "d3b083d1",
   "metadata": {},
   "outputs": [],
   "source": [
    "sig_toolbox.histogram(DX, 'SEA_ICE_DRAFT_LE', nbins = 150)"
   ]
  },
  {
   "cell_type": "code",
   "execution_count": null,
   "id": "2806d671",
   "metadata": {
    "scrolled": true
   },
   "outputs": [],
   "source": [
    "# Inspect:\n",
    "sig_draft.compare_OW_correction(DX)"
   ]
  },
  {
   "cell_type": "markdown",
   "id": "45012059",
   "metadata": {},
   "source": [
    "So we can see that we make a larger adjustment  for LE than (eq to ~18 cm) for AST (eq to ~4 cm).\n",
    "\n",
    "Will look into this a bit later - but for now we will assume that we are happy with out $beta$, and recompute the draft:"
   ]
  },
  {
   "cell_type": "markdown",
   "id": "92917630",
   "metadata": {},
   "source": [
    "### Recompute draft"
   ]
  },
  {
   "cell_type": "code",
   "execution_count": null,
   "id": "05fa0486",
   "metadata": {},
   "outputs": [],
   "source": [
    "DX = sig_draft.calculate_draft(DX)"
   ]
  },
  {
   "cell_type": "code",
   "execution_count": null,
   "id": "8e74fd24",
   "metadata": {},
   "outputs": [],
   "source": [
    "sig_toolbox.histogram(DX, 'SEA_ICE_DRAFT_LE', nbins = 150)"
   ]
  },
  {
   "cell_type": "markdown",
   "id": "e0abb2c7",
   "metadata": {},
   "source": [
    "We have now updated the calculation to include oue $\\beta$,m which should improve the estimate and bring open water values nearer to zero.\n",
    "\n",
    "if we look at the *SEA_ICE_DRAFT_* and *SURFACE_DEPTH_* fields we should see that this is now specified in the metadata (the *note* field)."
   ]
  },
  {
   "cell_type": "markdown",
   "id": "f85c98c6",
   "metadata": {},
   "source": [
    "##### Quick histogram\n",
    "We can use the *sig_toolbox.histogram* function for a quick look at the results (also shows the attributes including the *note* field)"
   ]
  },
  {
   "cell_type": "code",
   "execution_count": null,
   "id": "f4f90888",
   "metadata": {},
   "outputs": [],
   "source": [
    "sig_toolbox.histogram(DX, 'SEA_ICE_DRAFT_MEDIAN_LE', nbins = 150)"
   ]
  },
  {
   "cell_type": "code",
   "execution_count": null,
   "id": "d40f06f4",
   "metadata": {},
   "outputs": [],
   "source": [
    "fig, ax = plt.subplots( figsize = (10, 3))\n",
    "hkws = {'density':True, 'bins':335, 'range':(-0.5, 6.2), 'alpha':0.5}\n",
    "ax.hist((DX.SEA_ICE_DRAFT_LE).values.flatten(), **hkws, label = 'LE');\n",
    "ax.hist((DX.SEA_ICE_DRAFT_AST).values.flatten(), **hkws, label = 'AST');\n",
    "ax.legend()"
   ]
  },
  {
   "cell_type": "code",
   "execution_count": null,
   "id": "57b32a68",
   "metadata": {},
   "outputs": [],
   "source": [
    "fig, ax = plt.subplots(2, 1,  figsize = (10, 3))\n",
    "hkws = {'density':True, 'bins':335, 'range':(-0.5, 6.2), 'alpha':0.5}\n",
    "for axn in ax:\n",
    "    axn.hist((DX.SURFACE_DEPTH_LE).values.flatten(), **hkws, label = 'LE');\n",
    "    axn.hist((DX.SURFACE_DEPTH_AST).values.flatten(), **hkws, label = 'AST');\n",
    "    axn.legend()\n",
    "ax[1].set_xlim(-0.2, 0.4)"
   ]
  },
  {
   "cell_type": "code",
   "execution_count": null,
   "id": "4df3113f",
   "metadata": {},
   "outputs": [],
   "source": [
    "# Compare SD\n",
    "mean_sd_LE = float(DX.SEA_ICE_DRAFT_LE.std(dim = 'SAMPLE').mean())\n",
    "mean_sd_AST = float(DX.SEA_ICE_DRAFT_AST.std(dim = 'SAMPLE').mean())\n",
    "print('Mean SD across samples:')\n",
    "print('AST: %.2f cm'%(1e2*mean_sd_AST))\n",
    "print('LE: %.2f cm'%(1e2*mean_sd_LE))"
   ]
  },
  {
   "cell_type": "code",
   "execution_count": null,
   "id": "6db6a678",
   "metadata": {},
   "outputs": [],
   "source": [
    "fig, ax = plt.subplots(1, 2, figsize = (14, 4))\n",
    "ax[0].hist((DX.SEA_ICE_DRAFT_LE-DX.SEA_ICE_DRAFT_AST).values.flatten(), 100);\n",
    "ax[1].hist((DX.SEA_ICE_DRAFT_MEDIAN_LE-DX.SEA_ICE_DRAFT_MEDIAN_AST).values, 100);\n",
    "for axn in ax:\n",
    "    axn.axvline(0.1, ls = ':', color = 'k', label = '10 cm')\n",
    "    axn.legend()\n",
    "    axn.set_xlim(-0.1, None)"
   ]
  },
  {
   "cell_type": "markdown",
   "id": "aae38922",
   "metadata": {},
   "source": [
    "**TO DO**\n",
    "\n",
    "- Continue through with ice velocity. (**X**?)\n",
    "    - Processing + diagnosis(**X**?)\n",
    "- Ocean velocity (**X**?)\n",
    "- Include chopping functions (**X**?)\n",
    "- Include save to nc functions (**X**?)\n",
    "- Make static page for git"
   ]
  },
  {
   "cell_type": "markdown",
   "id": "2db5e8f1",
   "metadata": {},
   "source": [
    "## Ice velocity\n",
    "\n",
    "The ice drift velocity calculation is simpler, consisting of:\n",
    "\n",
    "- Loading the velocities: *uice, vice* from *AverageIce_VelEast/_VelNorth*\n",
    "- Applying a quality criterion requiring FOM<10 000 for all 4 beams (equivalent to requiring *ICE_IN_SAMPLE==True*)\n",
    "    - Rejecting all samples where this does not hold \n",
    "- Calculate ensemble median values *Uice, Vice* (default is to use medians, can also use means).\n",
    "   - Also creating *Uice_SC, Vice_SD* - containing the ensemble standard deviation. \n",
    "- Rotate the current vectors to account for magnetic declination.\n",
    "  - Applied to both *uice* and *Uice*. (Also applying to ocean velocities now..)"
   ]
  },
  {
   "cell_type": "markdown",
   "id": "ebca80f3",
   "metadata": {},
   "source": [
    "##### Create the ice uv fields "
   ]
  },
  {
   "cell_type": "code",
   "execution_count": null,
   "id": "d1e7994a",
   "metadata": {},
   "outputs": [],
   "source": [
    "DX = sig_vel.calculate_ice_vel(DX)"
   ]
  },
  {
   "cell_type": "markdown",
   "id": "c70f8fb8",
   "metadata": {},
   "source": [
    ".. we have now added *uice, vice, Uice, Vice, Uice_SD, Vice_SD* to *DX*.\n",
    "\n",
    "We can compare *uice* with the original *AverageIce_VelEast* field to see what out FOM cleaning has done:"
   ]
  },
  {
   "cell_type": "code",
   "execution_count": null,
   "id": "b0917d36",
   "metadata": {},
   "outputs": [],
   "source": [
    "fig, ax = plt.subplots(2, 1, figsize = (11, 4))\n",
    "for axn in ax:\n",
    "    axn.plot(DX.TIME, DX.AverageIce_VelEast.isel(SAMPLE=0), '.', alpha = 0.3,label= 'AverageIce_VelEast (first in each sample) ')\n",
    "    axn.plot_date(DX.TIME, DX.uice.isel(SAMPLE=0), '-', label= 'uice (first in each sample) ')\n",
    "    axn.set_ylabel('m/s')\n",
    "    axn.legend(ncol = 2, fontsize = 8, loc = 4)\n",
    "ax[1].set_xlim(num2date(DX.TIME[12000]), num2date(DX.TIME[13000]))\n",
    "ax[1].set_ylim(-1, 1)\n",
    "\n",
    "ax[1].text(0.1, 0.8, 'ZOOMED', fontsize = 20, fontweight = 'bold', transform=ax[1].transAxes)"
   ]
  },
  {
   "cell_type": "markdown",
   "id": "eb968722",
   "metadata": {},
   "source": [
    "##### Inspect\n",
    "The function *sig_toolbox.plot_ellipse_icevel* is useful to get a quick look at the ice velocity data. It shows the u/v spread, mean and low-passed velocity, and the variance ellipse (of the low-passed currents)"
   ]
  },
  {
   "cell_type": "code",
   "execution_count": null,
   "id": "1710f44a",
   "metadata": {},
   "outputs": [],
   "source": [
    "importlib.reload(sig_vel)\n",
    "importlib.reload(sig_toolbox)"
   ]
  },
  {
   "cell_type": "code",
   "execution_count": null,
   "id": "9e54f690",
   "metadata": {},
   "outputs": [],
   "source": [
    "\n",
    "    print('ELLIPSE PLOT: Interpolate over nans.. \\r', end = '')\n",
    "\n",
    "    uip = DX.Uice.interpolate_na(dim = 'TIME', limit=10).data\n",
    "    vip = DX.Vice.interpolate_na(dim = 'TIME', limit=10).data\n"
   ]
  },
  {
   "cell_type": "code",
   "execution_count": null,
   "id": "56e7b684",
   "metadata": {},
   "outputs": [],
   "source": [
    "lp_days =5\n",
    "print('ELLIPSE PLOT: Low pass filtering..    \\r', end = '')\n",
    "# LPFed \n",
    "wlen = int(np.round(lp_days/(DX.sampling_interval_sec/60/60/24)))\n",
    "ULP = np.convolve(uip, np.ones(wlen)/wlen,\n",
    "            mode = 'valid')[::wlen]\n",
    "VLP = np.convolve(vip, np.ones(wlen)/wlen,\n",
    "            mode = 'valid')[::wlen]\n"
   ]
  },
  {
   "cell_type": "code",
   "execution_count": null,
   "id": "9ce428f5",
   "metadata": {},
   "outputs": [],
   "source": [
    "    axn.axvline(0.1, ls = ':', color = 'k')"
   ]
  },
  {
   "cell_type": "code",
   "execution_count": null,
   "id": "f825ab13",
   "metadata": {},
   "outputs": [],
   "source": [
    "sig_toolbox.plot_ellipse_icevel(DX);"
   ]
  },
  {
   "cell_type": "markdown",
   "id": "a39f8d5c",
   "metadata": {},
   "source": [
    "--> OK. \n",
    "\n",
    "Note that some metadata has been added to the velocity fields, e.g.:"
   ]
  },
  {
   "cell_type": "markdown",
   "id": "1f6b4817",
   "metadata": {},
   "source": [
    "## Ocean velocities "
   ]
  },
  {
   "cell_type": "code",
   "execution_count": null,
   "id": "1f7bcd61",
   "metadata": {},
   "outputs": [],
   "source": [
    "importlib.reload(sig_load)\n",
    "importlib.reload(sig_vel)"
   ]
  },
  {
   "cell_type": "code",
   "execution_count": null,
   "id": "d9dc9b00",
   "metadata": {},
   "outputs": [],
   "source": [
    "#DX = sig_vel._calculate_bin_depths(DX)\n",
    "DX = sig_vel.calculate_ocean_vel(DX)"
   ]
  },
  {
   "cell_type": "code",
   "execution_count": null,
   "id": "f672f91b",
   "metadata": {},
   "outputs": [],
   "source": [
    "fig, ax = plt.subplots()\n",
    "ax.scatter(DX.Uocean.isel(BINS=4), DX.Vocean.isel(BINS=4), color = 'k', alpha = 0.07, s = 0.1)\n",
    "ax.set_xlim(-0.5, 0.5)\n",
    "ax.set_ylim(-0.5, 0.5)\n",
    "ax.plot([0, DX.Uocean.mean().data], [0, DX.Vocean.mean().data], '-r')"
   ]
  },
  {
   "cell_type": "code",
   "execution_count": null,
   "id": "379bd58a",
   "metadata": {},
   "outputs": [],
   "source": [
    "fig, ax = plt.subplots(2, 1, )\n",
    "ax[0].pcolormesh(DX.Uocean, vmin = -0.3, vmax =0.3, cmap = 'RdBu')\n",
    "ax[1].pcolormesh(DX.Vocean, vmin = -0.3, vmax =0.3, cmap = 'RdBu')"
   ]
  },
  {
   "cell_type": "code",
   "execution_count": null,
   "id": "ce7d50f9",
   "metadata": {},
   "outputs": [],
   "source": [
    "DX = sig_vel.reject_sidelobe(DX)"
   ]
  },
  {
   "cell_type": "code",
   "execution_count": null,
   "id": "2c9f47f9",
   "metadata": {},
   "outputs": [],
   "source": [
    "DX = sig_vel.clear_empty_bins(DX)"
   ]
  },
  {
   "cell_type": "code",
   "execution_count": null,
   "id": "94ed81d7",
   "metadata": {},
   "outputs": [],
   "source": [
    "DX = sig_vel.uvoc_mask_range(DX)"
   ]
  },
  {
   "cell_type": "code",
   "execution_count": null,
   "id": "890780d2",
   "metadata": {},
   "outputs": [],
   "source": [
    "DX = sig_vel.clear_empty_bins(DX)"
   ]
  },
  {
   "cell_type": "code",
   "execution_count": null,
   "id": "74f21128",
   "metadata": {},
   "outputs": [],
   "source": [
    "fig, ax = plt.subplots(2, 1, )\n",
    "ax[0].pcolormesh(DX.Uocean, vmin = -0.2, vmax =0.2, cmap = 'RdBu')\n",
    "ax[1].pcolormesh(DX.Vocean, vmin = -0.2, vmax =0.2, cmap = 'RdBu')"
   ]
  },
  {
   "cell_type": "code",
   "execution_count": null,
   "id": "7d9eeaff",
   "metadata": {},
   "outputs": [],
   "source": [
    "fig, ax = plt.subplots()\n",
    "ax.set_aspect('equal')\n",
    "ax.scatter(DX.Uocean.isel(BINS=4), DX.Vocean.isel(BINS=4), color = 'k', alpha = 0.07, s = 0.1)\n",
    "ax.set_xlim(-0.5, 0.5)\n",
    "ax.set_ylim(-0.5, 0.5)\n",
    "ax.plot([0, DX.Uocean.isel(BINS=4).median().data], [0, DX.Vocean.isel(BINS=4).median().data], '-r')\n",
    "ax.plot([0, DX.Uocean.isel(BINS=4).mean().data], [0, DX.Vocean.isel(BINS=4).mean().data], '-b')"
   ]
  },
  {
   "cell_type": "markdown",
   "id": "3f1044bf",
   "metadata": {},
   "source": [
    "### Rotating for magnetic declination\n",
    "\n",
    "Earlier, we added the *magdec* field to *DX*. We can now use it to rotate the ice velocity vectors:"
   ]
  },
  {
   "cell_type": "code",
   "execution_count": null,
   "id": "bcf23024",
   "metadata": {},
   "outputs": [],
   "source": [
    "DX = sig_vel.rotate_vels_magdec(DX)"
   ]
  },
  {
   "cell_type": "code",
   "execution_count": null,
   "id": "97b9dc4d",
   "metadata": {},
   "outputs": [],
   "source": [
    "fig, ax = plt.subplots()\n",
    "ax.set_aspect('equal')\n",
    "ax.scatter(DX.Uocean.isel(BINS=4), DX.Vocean.isel(BINS=4), color = 'k', alpha = 0.07, s = 0.1)\n",
    "ax.set_xlim(-0.5, 0.5)\n",
    "ax.set_ylim(-0.5, 0.5)\n",
    "ax.plot([0, DX.Uocean.isel(BINS=4).median().data], [0, DX.Vocean.isel(BINS=4).median().data], '-r')\n",
    "ax.plot([0, DX.Uocean.isel(BINS=4).mean().data], [0, DX.Vocean.isel(BINS=4).mean().data], '-b')"
   ]
  },
  {
   "cell_type": "code",
   "execution_count": null,
   "id": "6e77187b",
   "metadata": {},
   "outputs": [],
   "source": [
    "print(DX.Uocean.processing_history)"
   ]
  },
  {
   "cell_type": "code",
   "execution_count": null,
   "id": "1604f9a1",
   "metadata": {},
   "outputs": [],
   "source": [
    "DX.Uocean"
   ]
  },
  {
   "cell_type": "markdown",
   "id": "684e8a0e",
   "metadata": {},
   "source": [
    "#### Impose criterion on ocean velocity"
   ]
  },
  {
   "cell_type": "markdown",
   "id": "90a173a6",
   "metadata": {},
   "source": [
    "##### Trying out some different criteria.."
   ]
  },
  {
   "cell_type": "code",
   "execution_count": null,
   "id": "8b134158",
   "metadata": {},
   "outputs": [],
   "source": [
    "DX0 = sig_vel._calculate_uvocean_avg(DX.copy())\n",
    "print(DX.Uocean.std().data)\n",
    "print(DX.Uocean.attrs['processing_history'][-67:])"
   ]
  },
  {
   "cell_type": "code",
   "execution_count": null,
   "id": "d618d0c8",
   "metadata": {},
   "outputs": [],
   "source": [
    "DX1 = sig_vel._calculate_uvocean_avg(DX.copy(), min_good_pct=80).copy()\n",
    "print(DX1.Uocean.std().data)\n",
    "print(DX1.Uocean.attrs['processing_history'][-67:])"
   ]
  },
  {
   "cell_type": "code",
   "execution_count": null,
   "id": "d3cd56e9",
   "metadata": {},
   "outputs": [],
   "source": [
    "DX2 = sig_vel._calculate_uvocean_avg(DX.copy(), min_good_pct=99).copy()\n",
    "print(DX2.Uocean.std().data)\n",
    "print(DX2.Uocean.attrs['processing_history'][-67:])"
   ]
  },
  {
   "cell_type": "code",
   "execution_count": null,
   "id": "cfb594e2",
   "metadata": {},
   "outputs": [],
   "source": [
    "print(np.sum(np.isnan(DX2.Uocean)).data)\n",
    "print(np.sum(np.isnan(DX1.Uocean)).data)\n",
    "print(np.sum(np.isnan(DX.Uocean)).data)"
   ]
  },
  {
   "cell_type": "code",
   "execution_count": null,
   "id": "6d8fe346",
   "metadata": {},
   "outputs": [],
   "source": [
    "bin_nr = 4\n",
    "bin_depth_nr = DX0.bin_depth.mean(dim= 'TIME')[bin_nr]\n",
    "\n",
    "fig, ax = plt.subplots(\n",
    "    figsize = (14, 3))\n",
    "add = 22000\n",
    "time_slice = slice(4000+add, 9000+add)\n",
    "subset_time = DX0.TIME.isel(TIME = time_slice)\n",
    "\n",
    "ax.plot(subset_time, DX0.Uocean.isel(BINS=bin_nr, TIME = time_slice), 'r', lw = 0.8,label = 'No criterion')\n",
    "#ax.plot(subset_time, DX2.Uocean.isel(BINS=bin_nr, TIME = time_slice), 'b', label = '40% criterion')\n",
    "ax.plot(subset_time, DX1.Uocean.isel(BINS=bin_nr, TIME = time_slice), 'k', label = '80% criterion')\n",
    "\n",
    "ax.legend()\n",
    "\n",
    "ax.set_title('Vocean (bin near %.2f m depth)'%bin_depth_nr)\n",
    "ax.set_ylabel('m/s')\n",
    "ax.set_xlim(18090, 18100)"
   ]
  },
  {
   "cell_type": "markdown",
   "id": "d6b69e1a",
   "metadata": {},
   "source": [
    "#### Applying to the Umean, Vmean fields"
   ]
  },
  {
   "cell_type": "code",
   "execution_count": null,
   "id": "413243eb",
   "metadata": {},
   "outputs": [],
   "source": [
    "DX = sig_vel._calculate_uvocean_avg(DX, min_good_pct=80)\n"
   ]
  },
  {
   "cell_type": "markdown",
   "id": "3384c544",
   "metadata": {},
   "source": [
    "#### Interpolating velocity\n",
    "\n",
    "Useful if we want a time series of ocean velocity at a select depth.\n",
    "\n",
    "(Adds a new field (e.g. *Uocean_10m*) to *DX*)"
   ]
  },
  {
   "cell_type": "code",
   "execution_count": null,
   "id": "6c57c317",
   "metadata": {},
   "outputs": [],
   "source": [
    "\n",
    "DX = sig_vel.interp_oceanvel(DX, 10)\n",
    "\n",
    "bin_nr = 4\n",
    "\n",
    "fig, ax = plt.subplots(2, 1, sharex = True, figsize = (14, 7))\n",
    "time_slice = slice(4000, 4800)\n",
    "subset_time = DX.TIME.isel(TIME = time_slice)\n",
    "\n",
    "ax[0].plot(subset_time, DX.Uocean.isel(BINS=bin_nr, TIME = time_slice), label = 'Depth bin %i'%bin_nr)\n",
    "ax[0].plot(subset_time, DX.Uocean_10m.isel(TIME = time_slice), label = 'Interpolated to 10m depth')\n",
    "ax[0].legend()\n",
    "\n",
    "ax[1].plot(subset_time, DX.Vocean.isel(BINS=bin_nr, TIME = time_slice), label = 'Depth bin %i'%bin_nr)\n",
    "ax[1].plot_date(subset_time, DX.Vocean_10m.isel(TIME = time_slice), '-', label = 'Interpolated to 10m depth')\n",
    "ax[1].legend()\n",
    "ax[0].set_title('Uocean')\n",
    "ax[1].set_title('Vocean')\n",
    "ax[0].set_ylabel('m/s')\n",
    "ax[1].set_ylabel('m/s')\n",
    "\n",
    "#ax[0].set_xlim(4000, 4800)"
   ]
  },
  {
   "cell_type": "code",
   "execution_count": null,
   "id": "9f97a300",
   "metadata": {},
   "outputs": [],
   "source": [
    "DX.Uocean_10m"
   ]
  },
  {
   "cell_type": "markdown",
   "id": "e335bfb7",
   "metadata": {},
   "source": [
    "## Exporting"
   ]
  },
  {
   "cell_type": "code",
   "execution_count": null,
   "id": "2d32ec2e",
   "metadata": {},
   "outputs": [],
   "source": [
    "sig_load.overview(DX)"
   ]
  },
  {
   "cell_type": "code",
   "execution_count": null,
   "id": "96331de3",
   "metadata": {},
   "outputs": [],
   "source": [
    "sig_load.to_nc(DX, 'testfile.nc', export_vars= ['SIC_FOM\n",
    "                                                '], icedraft = True, icevel = True, oceanvel = False)"
   ]
  },
  {
   "cell_type": "markdown",
   "id": "aefeb028",
   "metadata": {},
   "source": [
    "#### Read the testfile.."
   ]
  },
  {
   "cell_type": "code",
   "execution_count": null,
   "id": "60728db5",
   "metadata": {},
   "outputs": [],
   "source": [
    "TF = xr.open_dataset('testfile.nc')"
   ]
  },
  {
   "cell_type": "code",
   "execution_count": null,
   "id": "83d4cb78",
   "metadata": {},
   "outputs": [],
   "source": [
    "TF.attrs.conf"
   ]
  },
  {
   "cell_type": "code",
   "execution_count": null,
   "id": "982567a2",
   "metadata": {},
   "outputs": [],
   "source": [
    "TF.close()"
   ]
  },
  {
   "cell_type": "code",
   "execution_count": null,
   "id": "431512cc",
   "metadata": {},
   "outputs": [],
   "source": []
  },
  {
   "cell_type": "code",
   "execution_count": null,
   "id": "9840141f",
   "metadata": {},
   "outputs": [],
   "source": [
    "print(DX.instrument_configuration_details)"
   ]
  },
  {
   "cell_type": "markdown",
   "id": "3addaa68",
   "metadata": {},
   "source": [
    "## Look at raw file"
   ]
  },
  {
   "cell_type": "code",
   "execution_count": null,
   "id": "1cf42b42",
   "metadata": {},
   "outputs": [],
   "source": [
    "fn_ = flist[3]#14 has weird temp\n",
    "dx = sig_load._matfile_to_dataset(fn_, include_raw_altimeter=True)[0]"
   ]
  },
  {
   "cell_type": "code",
   "execution_count": null,
   "id": "f64bb53e",
   "metadata": {},
   "outputs": [],
   "source": [
    "fig, ax = plt.subplots(2, 1, figsize = (14, 6))\n",
    "ax[0].plot(dx.Average_AltimeterDistanceLE, '.', ms=1, alpha = 0.05)\n",
    "ax[1].plot(dx.Average_AltimeterQualityLE, '.', ms=1, alpha = 0.05)\n",
    "ax[0].set_ylim(18, 21)"
   ]
  },
  {
   "cell_type": "code",
   "execution_count": null,
   "id": "ccf60bb6",
   "metadata": {},
   "outputs": [],
   "source": [
    "1,450 and 1,570"
   ]
  },
  {
   "cell_type": "code",
   "execution_count": null,
   "id": "cbff4139",
   "metadata": {},
   "outputs": [],
   "source": [
    "fig,ax = plt.subplots(3, 1, figsize = (8, 12))\n",
    "ax[0].plot(dx.Average_Soundspeed, label='Average_Soundspeed')\n",
    "\n",
    "twinax = ax[0].twiny()\n",
    "twinax.plot(dx.AverageRawAltimeter_Soundspeed, 'r', label = 'AverageRawAltimeter_Soundspeed')\n",
    "\n",
    "ax[1].plot(dx.Average_Temperature, label='Average_Temperature')\n",
    "ax[1].plot(dx.Average_PressureSensorTemperature, label='Average_PressureSensorTemperature')\n",
    "ax[1].plot(dx.Average_RTCTemperature, label='Average_RTCTemperature')\n",
    "\n",
    "twinax2 = ax[1].twiny()\n",
    "twinax2.plot(dx.AverageRawAltimeter_Temperature, 'r', label='AverageRawAltimeter_Temperature')\n",
    "#ax[1].plot(DX.AverageRawAltimeter_Soundspeed.mean('SAMPLE'), label='Average_PressureSensorTemperature')\n",
    "\n",
    "\n",
    "ax[2].plot(dx.Average_AltimeterDistanceLE, '.', alpha = 0.1, label='Average_AltimeterDistanceLE')\n",
    "\n",
    "twinax3 = ax[2].twiny()\n",
    "twinax3.plot(dx.AverageRawAltimeter_AltimeterDistanceLE, 'r', label='AverageRawAltimeter_AltimeterDistanceLE')\n",
    "\n",
    "ax[0].set_title('Sound speeds')\n",
    "ax[1].set_title('Temperatures')\n",
    "ax[2].set_title('LE distances')\n",
    "\n",
    "\n",
    "plt.tight_layout()\n",
    "\n",
    "ax[0].legend(bbox_to_anchor = (1.5, 1))\n",
    "twinax.legend(bbox_to_anchor = (1.7, 0.4))\n",
    "ax[1].legend(bbox_to_anchor = (1.7, 1))\n",
    "twinax2.legend(bbox_to_anchor = (1.7, 0))\n",
    "ax[2].legend(bbox_to_anchor = (1.5, 1))\n",
    "twinax3.legend(bbox_to_anchor = (1.7, 0.5))\n",
    "ax[1].axhline(-2, color = 'k', ls = ':')\n",
    "#ax.set_ylim(25, 18)"
   ]
  },
  {
   "cell_type": "markdown",
   "id": "dc715fe5",
   "metadata": {},
   "source": [
    "### Questions for me\n",
    "- Which temperature matches the RBRs best?\n",
    "\n",
    "\n",
    "### Questions for Nortek\n",
    "\n",
    "- Are they *sure* that 0.5+0.24*x is the correct formula?\n",
    "- IF NOT: Why don't these line up better? (the difference is dramatic - around a meter!)\n",
    "- **DO I NEED TO APPLY A CORRECTION FACTOR TO ANYTHING HERE?**\n",
    "- **HOW ARE THESE THINGS ACTUALLY CALCULATED? WHAT SOUND SPEEDS GO WHERE?**\n",
    "\n",
    "*Note: This is before the pressure does anything, so is can probably only be altimeter and/or sound speed*\n",
    "\n",
    "- *(Is this with a \"raw/nominal\" sound speed?)*\n",
    "\n",
    "Confirm that I am reading the right fields:\n",
    "- *Average_AltimeterDistanceAST/Average_AltimeterDistanceLE*\n",
    "- *Average_VelNorth*..\n",
    "- *Average_VelEast*..\n",
    "\n",
    "Other:\n",
    "- What are the *AltimeterQuality* parameters ? Seem a bit arbitrary."
   ]
  },
  {
   "cell_type": "code",
   "execution_count": null,
   "id": "2b0c1bcb",
   "metadata": {},
   "outputs": [],
   "source": [
    "dx.Average_AltimeterDistanceAST"
   ]
  }
 ],
 "metadata": {
  "kernelspec": {
   "display_name": "Python [conda env:oyv] *",
   "language": "python",
   "name": "conda-env-oyv-py"
  },
  "language_info": {
   "codemirror_mode": {
    "name": "ipython",
    "version": 3
   },
   "file_extension": ".py",
   "mimetype": "text/x-python",
   "name": "python",
   "nbconvert_exporter": "python",
   "pygments_lexer": "ipython3",
   "version": "3.8.2"
  }
 },
 "nbformat": 4,
 "nbformat_minor": 5
}
