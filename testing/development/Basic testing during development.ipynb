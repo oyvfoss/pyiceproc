{
 "cells": [
  {
   "cell_type": "markdown",
   "id": "852f3819",
   "metadata": {},
   "source": [
    "### Testing of the code during development\n",
    "\n",
    "Looking at the M1-1 dataset"
   ]
  },
  {
   "cell_type": "code",
   "execution_count": 1,
   "id": "9d439548",
   "metadata": {},
   "outputs": [
    {
     "name": "stderr",
     "output_type": "stream",
     "text": [
      "playsound is relying on another python subprocess. Please use `pip install pygobject` if you want playsound to run more efficiently.\n"
     ]
    }
   ],
   "source": [
    "import os\n",
    "import glob\n",
    "from oyv.imports import *\n",
    "import importlib"
   ]
  },
  {
   "cell_type": "code",
   "execution_count": 2,
   "id": "f2448a5f",
   "metadata": {},
   "outputs": [],
   "source": [
    "%matplotlib inline"
   ]
  },
  {
   "cell_type": "code",
   "execution_count": 3,
   "id": "3db0a3bf",
   "metadata": {},
   "outputs": [],
   "source": [
    "os.chdir('/home/oyvindl/work/code/git_public/sigpyproc/testing/development/')"
   ]
  },
  {
   "cell_type": "code",
   "execution_count": 4,
   "id": "0c77241c",
   "metadata": {},
   "outputs": [],
   "source": [
    "# Load the modules\n",
    "os.chdir('../../')\n",
    "from sigpyproc import sig_funcs, sig_append, sig_calc\n",
    "os.chdir('testing/development/')"
   ]
  },
  {
   "cell_type": "code",
   "execution_count": 5,
   "id": "a2281ada",
   "metadata": {},
   "outputs": [],
   "source": [
    "# Load converted data from M1-1\n",
    "floc = '/media/oyvindl/ratatosk/data/mooring_data/signature500/m1_1/converted/*'\n",
    "flist = glob.glob(floc)\n",
    "for fn in flist:\n",
    "    if '_avgd' in fn:\n",
    "        flist.remove(fn)"
   ]
  },
  {
   "cell_type": "code",
   "execution_count": 54,
   "id": "a6c330a8",
   "metadata": {},
   "outputs": [
    {
     "data": {
      "text/plain": [
       "<module 'sigpyproc.sig_calc' from '/home/oyvindl/work/code/git_public/sigpyproc/sigpyproc/sig_calc.py'>"
      ]
     },
     "execution_count": 54,
     "metadata": {},
     "output_type": "execute_result"
    }
   ],
   "source": [
    "# RELOAD the sig_func module\n",
    "#os.chdir('../../')\n",
    "importlib.reload(sig_funcs)\n",
    "importlib.reload(sig_append)\n",
    "importlib.reload(sig_calc)\n",
    "\n",
    "#os.chdir('testing/development/')"
   ]
  },
  {
   "cell_type": "code",
   "execution_count": 9,
   "id": "bbf3234e",
   "metadata": {},
   "outputs": [
    {
     "name": "stdout",
     "output_type": "stream",
     "text": [
      "1_01_1.mat: CONCATENATING (print: first = False)....ure....\r"
     ]
    },
    {
     "name": "stderr",
     "output_type": "stream",
     "text": [
      "/home/oyvindl/work/code/git_public/sigpyproc/sigpyproc/sig_append.py:248: RuntimeWarning: invalid value encountered in sqrt\n",
      "  180 / np.pi* np.arccos(np.sqrt(\n",
      "/home/oyvindl/work/code/git_public/sigpyproc/sigpyproc/sig_append.py:257: RuntimeWarning: invalid value encountered in sqrt\n",
      "  180 / np.pi* np.arccos(np.sqrt(\n"
     ]
    },
    {
     "name": "stdout",
     "output_type": "stream",
     "text": [
      "170640 time points, 3555 ensembles. Sample per ensemble: 48\n",
      "Done. Run sig_funcs.overview() to print some additional details.\n"
     ]
    }
   ],
   "source": [
    "DX = sig_funcs.matfiles_to_dataset(flist[:2], )"
   ]
  },
  {
   "cell_type": "code",
   "execution_count": null,
   "id": "218ce8d4",
   "metadata": {},
   "outputs": [],
   "source": [
    "fig, ax = plt.subplots(2, 1, sharex = True)\n",
    "ax[0].plot(DX.Average_AltimeterPressure[:-100, 0])\n",
    "ax[0].plot(DX.Average_Pressure[:-100, 0])\n",
    "ax[1].plot(DX.Average_AltimeterPressure[:-100, 0] - DX.Average_Pressure[:-100, 0])\n",
    "ax[1].plot(rs(DX.Average_AltimeterPressure[:-100, 0] - DX.Average_Pressure[:-100, 0], 71).mean)"
   ]
  },
  {
   "cell_type": "code",
   "execution_count": null,
   "id": "08da0d95",
   "metadata": {},
   "outputs": [],
   "source": []
  },
  {
   "cell_type": "code",
   "execution_count": null,
   "id": "753627c4",
   "metadata": {},
   "outputs": [],
   "source": [
    "fig, ax = plt.subplots()#2, 1, sharex = True)\n",
    "\n",
    "ax.hist(rs(DX.Average_AltimeterPressure[:-100, 0] - DX.Average_Pressure[:-100, 0], 71).mean, 30)"
   ]
  },
  {
   "cell_type": "code",
   "execution_count": null,
   "id": "97adf7e2",
   "metadata": {},
   "outputs": [],
   "source": [
    "os.chdir('/home/oyvindl/work/code/git_public/sigpyproc/testing/development/')"
   ]
  },
  {
   "cell_type": "code",
   "execution_count": 40,
   "id": "3b8c527a",
   "metadata": {},
   "outputs": [],
   "source": [
    "# Load the modules\n",
    "os.chdir('../../')\n",
    "from sigpyproc import sig_calc#, sig_append_external\n",
    "os.chdir('testing/development/')"
   ]
  },
  {
   "cell_type": "code",
   "execution_count": 61,
   "id": "43478fd9",
   "metadata": {},
   "outputs": [
    {
     "data": {
      "text/plain": [
       "<module 'sigpyproc.sig_calc' from '/home/oyvindl/work/code/git_public/sigpyproc/sigpyproc/sig_calc.py'>"
      ]
     },
     "execution_count": 61,
     "metadata": {},
     "output_type": "execute_result"
    }
   ],
   "source": [
    "importlib.reload(sig_calc)\n",
    "#importlib.reload(sig_calc)\n"
   ]
  },
  {
   "cell_type": "code",
   "execution_count": 55,
   "id": "973e3fdd",
   "metadata": {},
   "outputs": [],
   "source": [
    "DX = sig_append.set_lat(DX, 80)"
   ]
  },
  {
   "cell_type": "code",
   "execution_count": 62,
   "id": "beda9262",
   "metadata": {},
   "outputs": [
    {
     "name": "stdout",
     "output_type": "stream",
     "text": [
      "WARNING!\n",
      "Could not find atmospheric pressure (*p_atmo*) - not recommended continue if you plan to compute ice draft. \n",
      "--> (To add *p_atmo*, run sig_append.append_atm_pres()=\n",
      "\n",
      "Depth calculation: Abort (A) or Continue (C): c\n",
      "Continuing without atmospheric correction (careful!)..\n",
      "\n",
      "No density (*rho_ocean*) field found. \n",
      "Enter \"A\" (Abort) or \"C\" (Continue using fixed rho = 1027 kg m-3): c\n",
      "Continuing with fixed rho = 1027 kg m-3\n"
     ]
    }
   ],
   "source": [
    "DX = sig_calc.dep_from_p(DX)"
   ]
  },
  {
   "cell_type": "code",
   "execution_count": 63,
   "id": "d9589258",
   "metadata": {},
   "outputs": [
    {
     "data": {
      "text/html": [
       "<div><svg style=\"position: absolute; width: 0; height: 0; overflow: hidden\">\n",
       "<defs>\n",
       "<symbol id=\"icon-database\" viewBox=\"0 0 32 32\">\n",
       "<path d=\"M16 0c-8.837 0-16 2.239-16 5v4c0 2.761 7.163 5 16 5s16-2.239 16-5v-4c0-2.761-7.163-5-16-5z\"></path>\n",
       "<path d=\"M16 17c-8.837 0-16-2.239-16-5v6c0 2.761 7.163 5 16 5s16-2.239 16-5v-6c0 2.761-7.163 5-16 5z\"></path>\n",
       "<path d=\"M16 26c-8.837 0-16-2.239-16-5v6c0 2.761 7.163 5 16 5s16-2.239 16-5v-6c0 2.761-7.163 5-16 5z\"></path>\n",
       "</symbol>\n",
       "<symbol id=\"icon-file-text2\" viewBox=\"0 0 32 32\">\n",
       "<path d=\"M28.681 7.159c-0.694-0.947-1.662-2.053-2.724-3.116s-2.169-2.030-3.116-2.724c-1.612-1.182-2.393-1.319-2.841-1.319h-15.5c-1.378 0-2.5 1.121-2.5 2.5v27c0 1.378 1.122 2.5 2.5 2.5h23c1.378 0 2.5-1.122 2.5-2.5v-19.5c0-0.448-0.137-1.23-1.319-2.841zM24.543 5.457c0.959 0.959 1.712 1.825 2.268 2.543h-4.811v-4.811c0.718 0.556 1.584 1.309 2.543 2.268zM28 29.5c0 0.271-0.229 0.5-0.5 0.5h-23c-0.271 0-0.5-0.229-0.5-0.5v-27c0-0.271 0.229-0.5 0.5-0.5 0 0 15.499-0 15.5 0v7c0 0.552 0.448 1 1 1h7v19.5z\"></path>\n",
       "<path d=\"M23 26h-14c-0.552 0-1-0.448-1-1s0.448-1 1-1h14c0.552 0 1 0.448 1 1s-0.448 1-1 1z\"></path>\n",
       "<path d=\"M23 22h-14c-0.552 0-1-0.448-1-1s0.448-1 1-1h14c0.552 0 1 0.448 1 1s-0.448 1-1 1z\"></path>\n",
       "<path d=\"M23 18h-14c-0.552 0-1-0.448-1-1s0.448-1 1-1h14c0.552 0 1 0.448 1 1s-0.448 1-1 1z\"></path>\n",
       "</symbol>\n",
       "</defs>\n",
       "</svg>\n",
       "<style>/* CSS stylesheet for displaying xarray objects in jupyterlab.\n",
       " *\n",
       " */\n",
       "\n",
       ":root {\n",
       "  --xr-font-color0: var(--jp-content-font-color0, rgba(0, 0, 0, 1));\n",
       "  --xr-font-color2: var(--jp-content-font-color2, rgba(0, 0, 0, 0.54));\n",
       "  --xr-font-color3: var(--jp-content-font-color3, rgba(0, 0, 0, 0.38));\n",
       "  --xr-border-color: var(--jp-border-color2, #e0e0e0);\n",
       "  --xr-disabled-color: var(--jp-layout-color3, #bdbdbd);\n",
       "  --xr-background-color: var(--jp-layout-color0, white);\n",
       "  --xr-background-color-row-even: var(--jp-layout-color1, white);\n",
       "  --xr-background-color-row-odd: var(--jp-layout-color2, #eeeeee);\n",
       "}\n",
       "\n",
       "html[theme=dark],\n",
       "body.vscode-dark {\n",
       "  --xr-font-color0: rgba(255, 255, 255, 1);\n",
       "  --xr-font-color2: rgba(255, 255, 255, 0.54);\n",
       "  --xr-font-color3: rgba(255, 255, 255, 0.38);\n",
       "  --xr-border-color: #1F1F1F;\n",
       "  --xr-disabled-color: #515151;\n",
       "  --xr-background-color: #111111;\n",
       "  --xr-background-color-row-even: #111111;\n",
       "  --xr-background-color-row-odd: #313131;\n",
       "}\n",
       "\n",
       ".xr-wrap {\n",
       "  display: block;\n",
       "  min-width: 300px;\n",
       "  max-width: 700px;\n",
       "}\n",
       "\n",
       ".xr-text-repr-fallback {\n",
       "  /* fallback to plain text repr when CSS is not injected (untrusted notebook) */\n",
       "  display: none;\n",
       "}\n",
       "\n",
       ".xr-header {\n",
       "  padding-top: 6px;\n",
       "  padding-bottom: 6px;\n",
       "  margin-bottom: 4px;\n",
       "  border-bottom: solid 1px var(--xr-border-color);\n",
       "}\n",
       "\n",
       ".xr-header > div,\n",
       ".xr-header > ul {\n",
       "  display: inline;\n",
       "  margin-top: 0;\n",
       "  margin-bottom: 0;\n",
       "}\n",
       "\n",
       ".xr-obj-type,\n",
       ".xr-array-name {\n",
       "  margin-left: 2px;\n",
       "  margin-right: 10px;\n",
       "}\n",
       "\n",
       ".xr-obj-type {\n",
       "  color: var(--xr-font-color2);\n",
       "}\n",
       "\n",
       ".xr-sections {\n",
       "  padding-left: 0 !important;\n",
       "  display: grid;\n",
       "  grid-template-columns: 150px auto auto 1fr 20px 20px;\n",
       "}\n",
       "\n",
       ".xr-section-item {\n",
       "  display: contents;\n",
       "}\n",
       "\n",
       ".xr-section-item input {\n",
       "  display: none;\n",
       "}\n",
       "\n",
       ".xr-section-item input + label {\n",
       "  color: var(--xr-disabled-color);\n",
       "}\n",
       "\n",
       ".xr-section-item input:enabled + label {\n",
       "  cursor: pointer;\n",
       "  color: var(--xr-font-color2);\n",
       "}\n",
       "\n",
       ".xr-section-item input:enabled + label:hover {\n",
       "  color: var(--xr-font-color0);\n",
       "}\n",
       "\n",
       ".xr-section-summary {\n",
       "  grid-column: 1;\n",
       "  color: var(--xr-font-color2);\n",
       "  font-weight: 500;\n",
       "}\n",
       "\n",
       ".xr-section-summary > span {\n",
       "  display: inline-block;\n",
       "  padding-left: 0.5em;\n",
       "}\n",
       "\n",
       ".xr-section-summary-in:disabled + label {\n",
       "  color: var(--xr-font-color2);\n",
       "}\n",
       "\n",
       ".xr-section-summary-in + label:before {\n",
       "  display: inline-block;\n",
       "  content: '►';\n",
       "  font-size: 11px;\n",
       "  width: 15px;\n",
       "  text-align: center;\n",
       "}\n",
       "\n",
       ".xr-section-summary-in:disabled + label:before {\n",
       "  color: var(--xr-disabled-color);\n",
       "}\n",
       "\n",
       ".xr-section-summary-in:checked + label:before {\n",
       "  content: '▼';\n",
       "}\n",
       "\n",
       ".xr-section-summary-in:checked + label > span {\n",
       "  display: none;\n",
       "}\n",
       "\n",
       ".xr-section-summary,\n",
       ".xr-section-inline-details {\n",
       "  padding-top: 4px;\n",
       "  padding-bottom: 4px;\n",
       "}\n",
       "\n",
       ".xr-section-inline-details {\n",
       "  grid-column: 2 / -1;\n",
       "}\n",
       "\n",
       ".xr-section-details {\n",
       "  display: none;\n",
       "  grid-column: 1 / -1;\n",
       "  margin-bottom: 5px;\n",
       "}\n",
       "\n",
       ".xr-section-summary-in:checked ~ .xr-section-details {\n",
       "  display: contents;\n",
       "}\n",
       "\n",
       ".xr-array-wrap {\n",
       "  grid-column: 1 / -1;\n",
       "  display: grid;\n",
       "  grid-template-columns: 20px auto;\n",
       "}\n",
       "\n",
       ".xr-array-wrap > label {\n",
       "  grid-column: 1;\n",
       "  vertical-align: top;\n",
       "}\n",
       "\n",
       ".xr-preview {\n",
       "  color: var(--xr-font-color3);\n",
       "}\n",
       "\n",
       ".xr-array-preview,\n",
       ".xr-array-data {\n",
       "  padding: 0 5px !important;\n",
       "  grid-column: 2;\n",
       "}\n",
       "\n",
       ".xr-array-data,\n",
       ".xr-array-in:checked ~ .xr-array-preview {\n",
       "  display: none;\n",
       "}\n",
       "\n",
       ".xr-array-in:checked ~ .xr-array-data,\n",
       ".xr-array-preview {\n",
       "  display: inline-block;\n",
       "}\n",
       "\n",
       ".xr-dim-list {\n",
       "  display: inline-block !important;\n",
       "  list-style: none;\n",
       "  padding: 0 !important;\n",
       "  margin: 0;\n",
       "}\n",
       "\n",
       ".xr-dim-list li {\n",
       "  display: inline-block;\n",
       "  padding: 0;\n",
       "  margin: 0;\n",
       "}\n",
       "\n",
       ".xr-dim-list:before {\n",
       "  content: '(';\n",
       "}\n",
       "\n",
       ".xr-dim-list:after {\n",
       "  content: ')';\n",
       "}\n",
       "\n",
       ".xr-dim-list li:not(:last-child):after {\n",
       "  content: ',';\n",
       "  padding-right: 5px;\n",
       "}\n",
       "\n",
       ".xr-has-index {\n",
       "  font-weight: bold;\n",
       "}\n",
       "\n",
       ".xr-var-list,\n",
       ".xr-var-item {\n",
       "  display: contents;\n",
       "}\n",
       "\n",
       ".xr-var-item > div,\n",
       ".xr-var-item label,\n",
       ".xr-var-item > .xr-var-name span {\n",
       "  background-color: var(--xr-background-color-row-even);\n",
       "  margin-bottom: 0;\n",
       "}\n",
       "\n",
       ".xr-var-item > .xr-var-name:hover span {\n",
       "  padding-right: 5px;\n",
       "}\n",
       "\n",
       ".xr-var-list > li:nth-child(odd) > div,\n",
       ".xr-var-list > li:nth-child(odd) > label,\n",
       ".xr-var-list > li:nth-child(odd) > .xr-var-name span {\n",
       "  background-color: var(--xr-background-color-row-odd);\n",
       "}\n",
       "\n",
       ".xr-var-name {\n",
       "  grid-column: 1;\n",
       "}\n",
       "\n",
       ".xr-var-dims {\n",
       "  grid-column: 2;\n",
       "}\n",
       "\n",
       ".xr-var-dtype {\n",
       "  grid-column: 3;\n",
       "  text-align: right;\n",
       "  color: var(--xr-font-color2);\n",
       "}\n",
       "\n",
       ".xr-var-preview {\n",
       "  grid-column: 4;\n",
       "}\n",
       "\n",
       ".xr-var-name,\n",
       ".xr-var-dims,\n",
       ".xr-var-dtype,\n",
       ".xr-preview,\n",
       ".xr-attrs dt {\n",
       "  white-space: nowrap;\n",
       "  overflow: hidden;\n",
       "  text-overflow: ellipsis;\n",
       "  padding-right: 10px;\n",
       "}\n",
       "\n",
       ".xr-var-name:hover,\n",
       ".xr-var-dims:hover,\n",
       ".xr-var-dtype:hover,\n",
       ".xr-attrs dt:hover {\n",
       "  overflow: visible;\n",
       "  width: auto;\n",
       "  z-index: 1;\n",
       "}\n",
       "\n",
       ".xr-var-attrs,\n",
       ".xr-var-data {\n",
       "  display: none;\n",
       "  background-color: var(--xr-background-color) !important;\n",
       "  padding-bottom: 5px !important;\n",
       "}\n",
       "\n",
       ".xr-var-attrs-in:checked ~ .xr-var-attrs,\n",
       ".xr-var-data-in:checked ~ .xr-var-data {\n",
       "  display: block;\n",
       "}\n",
       "\n",
       ".xr-var-data > table {\n",
       "  float: right;\n",
       "}\n",
       "\n",
       ".xr-var-name span,\n",
       ".xr-var-data,\n",
       ".xr-attrs {\n",
       "  padding-left: 25px !important;\n",
       "}\n",
       "\n",
       ".xr-attrs,\n",
       ".xr-var-attrs,\n",
       ".xr-var-data {\n",
       "  grid-column: 1 / -1;\n",
       "}\n",
       "\n",
       "dl.xr-attrs {\n",
       "  padding: 0;\n",
       "  margin: 0;\n",
       "  display: grid;\n",
       "  grid-template-columns: 125px auto;\n",
       "}\n",
       "\n",
       ".xr-attrs dt,\n",
       ".xr-attrs dd {\n",
       "  padding: 0;\n",
       "  margin: 0;\n",
       "  float: left;\n",
       "  padding-right: 10px;\n",
       "  width: auto;\n",
       "}\n",
       "\n",
       ".xr-attrs dt {\n",
       "  font-weight: normal;\n",
       "  grid-column: 1;\n",
       "}\n",
       "\n",
       ".xr-attrs dt:hover span {\n",
       "  display: inline-block;\n",
       "  background: var(--xr-background-color);\n",
       "  padding-right: 10px;\n",
       "}\n",
       "\n",
       ".xr-attrs dd {\n",
       "  grid-column: 2;\n",
       "  white-space: pre-wrap;\n",
       "  word-break: break-all;\n",
       "}\n",
       "\n",
       ".xr-icon-database,\n",
       ".xr-icon-file-text2 {\n",
       "  display: inline-block;\n",
       "  vertical-align: middle;\n",
       "  width: 1em;\n",
       "  height: 1.5em !important;\n",
       "  stroke-width: 0;\n",
       "  stroke: currentColor;\n",
       "  fill: currentColor;\n",
       "}\n",
       "</style><pre class='xr-text-repr-fallback'>&lt;xarray.DataArray &#x27;depth&#x27; (TIME: 3555, SAMPLE: 48)&gt;\n",
       "array([[20.677408  , 20.670475  , 20.66255   , ..., 20.677408  ,\n",
       "        20.674435  , 20.663542  ],\n",
       "       [20.674435  , 20.664534  , 20.673447  , ..., 20.718018  ,\n",
       "        20.703161  , 20.70217   ],\n",
       "       [20.760609  , 20.728914  , 20.677408  , ..., 20.71703   ,\n",
       "        20.684343  , 20.669485  ],\n",
       "       ...,\n",
       "       [ 0.6883885 ,  0.69036955,  0.68937904, ...,  0.68937904,\n",
       "         0.6883885 ,  0.69036955],\n",
       "       [ 0.68937904,  0.69136   ,  0.6923505 , ...,  0.69036955,\n",
       "         0.69334096,  0.6883885 ],\n",
       "       [ 0.69334096,  0.6923505 ,  0.6943314 , ...,  0.6923505 ,\n",
       "         0.69036955,  0.6943314 ]], dtype=float32)\n",
       "Coordinates:\n",
       "  * TIME     (TIME) float64 1.781e+04 1.781e+04 ... 1.822e+04 1.822e+04\n",
       "  * SAMPLE   (SAMPLE) int64 1 2 3 4 5 6 7 8 9 10 ... 40 41 42 43 44 45 46 47 48\n",
       "Attributes:\n",
       "    units:      m\n",
       "    long_name:  Transducer depth\n",
       "    note:       Altimeter depth calculated from pressure (*Average_AltimeterP...</pre><div class='xr-wrap' hidden><div class='xr-header'><div class='xr-obj-type'>xarray.DataArray</div><div class='xr-array-name'>'depth'</div><ul class='xr-dim-list'><li><span class='xr-has-index'>TIME</span>: 3555</li><li><span class='xr-has-index'>SAMPLE</span>: 48</li></ul></div><ul class='xr-sections'><li class='xr-section-item'><div class='xr-array-wrap'><input id='section-fd9b4144-b2e4-4f45-9fd9-a45287e59be1' class='xr-array-in' type='checkbox' checked><label for='section-fd9b4144-b2e4-4f45-9fd9-a45287e59be1' title='Show/hide data repr'><svg class='icon xr-icon-database'><use xlink:href='#icon-database'></use></svg></label><div class='xr-array-preview xr-preview'><span>20.68 20.67 20.66 20.65 20.64 ... 0.6924 0.6904 0.6924 0.6904 0.6943</span></div><div class='xr-array-data'><pre>array([[20.677408  , 20.670475  , 20.66255   , ..., 20.677408  ,\n",
       "        20.674435  , 20.663542  ],\n",
       "       [20.674435  , 20.664534  , 20.673447  , ..., 20.718018  ,\n",
       "        20.703161  , 20.70217   ],\n",
       "       [20.760609  , 20.728914  , 20.677408  , ..., 20.71703   ,\n",
       "        20.684343  , 20.669485  ],\n",
       "       ...,\n",
       "       [ 0.6883885 ,  0.69036955,  0.68937904, ...,  0.68937904,\n",
       "         0.6883885 ,  0.69036955],\n",
       "       [ 0.68937904,  0.69136   ,  0.6923505 , ...,  0.69036955,\n",
       "         0.69334096,  0.6883885 ],\n",
       "       [ 0.69334096,  0.6923505 ,  0.6943314 , ...,  0.6923505 ,\n",
       "         0.69036955,  0.6943314 ]], dtype=float32)</pre></div></div></li><li class='xr-section-item'><input id='section-e0279eae-935b-4af4-b716-20f04e31ceba' class='xr-section-summary-in' type='checkbox'  checked><label for='section-e0279eae-935b-4af4-b716-20f04e31ceba' class='xr-section-summary' >Coordinates: <span>(2)</span></label><div class='xr-section-inline-details'></div><div class='xr-section-details'><ul class='xr-var-list'><li class='xr-var-item'><div class='xr-var-name'><span class='xr-has-index'>TIME</span></div><div class='xr-var-dims'>(TIME)</div><div class='xr-var-dtype'>float64</div><div class='xr-var-preview xr-preview'>1.781e+04 1.781e+04 ... 1.822e+04</div><input id='attrs-789c4f36-fdda-4d80-8128-8cb1768a5971' class='xr-var-attrs-in' type='checkbox' ><label for='attrs-789c4f36-fdda-4d80-8128-8cb1768a5971' title='Show/Hide attributes'><svg class='icon xr-icon-file-text2'><use xlink:href='#icon-file-text2'></use></svg></label><input id='data-ec181b06-249c-467d-b9d6-323caa945084' class='xr-var-data-in' type='checkbox'><label for='data-ec181b06-249c-467d-b9d6-323caa945084' title='Show/Hide data repr'><svg class='icon xr-icon-database'><use xlink:href='#icon-database'></use></svg></label><div class='xr-var-attrs'><dl class='xr-attrs'><dt><span>units :</span></dt><dd>Days since 1970-01-01</dd><dt><span>long_name :</span></dt><dd>Time stamp of the ensemble averaged measurement</dd></dl></div><div class='xr-var-data'><pre>array([17810.500276, 17810.510693, 17810.52111 , ..., 18216.500276,\n",
       "       18216.510693, 18216.52111 ])</pre></div></li><li class='xr-var-item'><div class='xr-var-name'><span class='xr-has-index'>SAMPLE</span></div><div class='xr-var-dims'>(SAMPLE)</div><div class='xr-var-dtype'>int64</div><div class='xr-var-preview xr-preview'>1 2 3 4 5 6 7 ... 43 44 45 46 47 48</div><input id='attrs-4e531807-0683-45f9-ae21-cac06f2640ca' class='xr-var-attrs-in' type='checkbox' ><label for='attrs-4e531807-0683-45f9-ae21-cac06f2640ca' title='Show/Hide attributes'><svg class='icon xr-icon-file-text2'><use xlink:href='#icon-file-text2'></use></svg></label><input id='data-c6b5b36e-7843-40f5-8a84-861a9e5eb140' class='xr-var-data-in' type='checkbox'><label for='data-c6b5b36e-7843-40f5-8a84-861a9e5eb140' title='Show/Hide data repr'><svg class='icon xr-icon-database'><use xlink:href='#icon-database'></use></svg></label><div class='xr-var-attrs'><dl class='xr-attrs'><dt><span>units :</span></dt><dd>Sample number</dd><dt><span>long_name :</span></dt><dd>Sample number in ensemble (48 samples per ensemble)</dd></dl></div><div class='xr-var-data'><pre>array([ 1,  2,  3,  4,  5,  6,  7,  8,  9, 10, 11, 12, 13, 14, 15, 16, 17, 18,\n",
       "       19, 20, 21, 22, 23, 24, 25, 26, 27, 28, 29, 30, 31, 32, 33, 34, 35, 36,\n",
       "       37, 38, 39, 40, 41, 42, 43, 44, 45, 46, 47, 48])</pre></div></li></ul></div></li><li class='xr-section-item'><input id='section-a204e022-6ec0-467f-bd06-b37c41fdb41c' class='xr-section-summary-in' type='checkbox'  checked><label for='section-a204e022-6ec0-467f-bd06-b37c41fdb41c' class='xr-section-summary' >Attributes: <span>(3)</span></label><div class='xr-section-inline-details'></div><div class='xr-section-details'><dl class='xr-attrs'><dt><span>units :</span></dt><dd>m</dd><dt><span>long_name :</span></dt><dd>Transducer depth</dd><dt><span>note :</span></dt><dd>Altimeter depth calculated from pressure (*Average_AltimeterPressure* field) as:\n",
       "\n",
       "     depth = p/(g*rho)\n",
       "\n",
       "- !!! NO TIME_VARYING ATMOSPHERIC CORRECTION APPLIED !!!\n",
       "  (using default atmospheric pressure offset 9.50 db)\n",
       "- Using g=9.8306 ms-2 (calculated using gsw.grav())\n",
       "- Using FIXED ocean density rho = 1027 kg m-3.</dd></dl></div></li></ul></div></div>"
      ],
      "text/plain": [
       "<xarray.DataArray 'depth' (TIME: 3555, SAMPLE: 48)>\n",
       "array([[20.677408  , 20.670475  , 20.66255   , ..., 20.677408  ,\n",
       "        20.674435  , 20.663542  ],\n",
       "       [20.674435  , 20.664534  , 20.673447  , ..., 20.718018  ,\n",
       "        20.703161  , 20.70217   ],\n",
       "       [20.760609  , 20.728914  , 20.677408  , ..., 20.71703   ,\n",
       "        20.684343  , 20.669485  ],\n",
       "       ...,\n",
       "       [ 0.6883885 ,  0.69036955,  0.68937904, ...,  0.68937904,\n",
       "         0.6883885 ,  0.69036955],\n",
       "       [ 0.68937904,  0.69136   ,  0.6923505 , ...,  0.69036955,\n",
       "         0.69334096,  0.6883885 ],\n",
       "       [ 0.69334096,  0.6923505 ,  0.6943314 , ...,  0.6923505 ,\n",
       "         0.69036955,  0.6943314 ]], dtype=float32)\n",
       "Coordinates:\n",
       "  * TIME     (TIME) float64 1.781e+04 1.781e+04 ... 1.822e+04 1.822e+04\n",
       "  * SAMPLE   (SAMPLE) int64 1 2 3 4 5 6 7 8 9 10 ... 40 41 42 43 44 45 46 47 48\n",
       "Attributes:\n",
       "    units:      m\n",
       "    long_name:  Transducer depth\n",
       "    note:       Altimeter depth calculated from pressure (*Average_AltimeterP..."
      ]
     },
     "execution_count": 63,
     "metadata": {},
     "output_type": "execute_result"
    }
   ],
   "source": [
    "DX.depth"
   ]
  },
  {
   "cell_type": "code",
   "execution_count": 44,
   "id": "60b1aa1d",
   "metadata": {},
   "outputs": [
    {
     "data": {
      "text/html": [
       "<div><svg style=\"position: absolute; width: 0; height: 0; overflow: hidden\">\n",
       "<defs>\n",
       "<symbol id=\"icon-database\" viewBox=\"0 0 32 32\">\n",
       "<path d=\"M16 0c-8.837 0-16 2.239-16 5v4c0 2.761 7.163 5 16 5s16-2.239 16-5v-4c0-2.761-7.163-5-16-5z\"></path>\n",
       "<path d=\"M16 17c-8.837 0-16-2.239-16-5v6c0 2.761 7.163 5 16 5s16-2.239 16-5v-6c0 2.761-7.163 5-16 5z\"></path>\n",
       "<path d=\"M16 26c-8.837 0-16-2.239-16-5v6c0 2.761 7.163 5 16 5s16-2.239 16-5v-6c0 2.761-7.163 5-16 5z\"></path>\n",
       "</symbol>\n",
       "<symbol id=\"icon-file-text2\" viewBox=\"0 0 32 32\">\n",
       "<path d=\"M28.681 7.159c-0.694-0.947-1.662-2.053-2.724-3.116s-2.169-2.030-3.116-2.724c-1.612-1.182-2.393-1.319-2.841-1.319h-15.5c-1.378 0-2.5 1.121-2.5 2.5v27c0 1.378 1.122 2.5 2.5 2.5h23c1.378 0 2.5-1.122 2.5-2.5v-19.5c0-0.448-0.137-1.23-1.319-2.841zM24.543 5.457c0.959 0.959 1.712 1.825 2.268 2.543h-4.811v-4.811c0.718 0.556 1.584 1.309 2.543 2.268zM28 29.5c0 0.271-0.229 0.5-0.5 0.5h-23c-0.271 0-0.5-0.229-0.5-0.5v-27c0-0.271 0.229-0.5 0.5-0.5 0 0 15.499-0 15.5 0v7c0 0.552 0.448 1 1 1h7v19.5z\"></path>\n",
       "<path d=\"M23 26h-14c-0.552 0-1-0.448-1-1s0.448-1 1-1h14c0.552 0 1 0.448 1 1s-0.448 1-1 1z\"></path>\n",
       "<path d=\"M23 22h-14c-0.552 0-1-0.448-1-1s0.448-1 1-1h14c0.552 0 1 0.448 1 1s-0.448 1-1 1z\"></path>\n",
       "<path d=\"M23 18h-14c-0.552 0-1-0.448-1-1s0.448-1 1-1h14c0.552 0 1 0.448 1 1s-0.448 1-1 1z\"></path>\n",
       "</symbol>\n",
       "</defs>\n",
       "</svg>\n",
       "<style>/* CSS stylesheet for displaying xarray objects in jupyterlab.\n",
       " *\n",
       " */\n",
       "\n",
       ":root {\n",
       "  --xr-font-color0: var(--jp-content-font-color0, rgba(0, 0, 0, 1));\n",
       "  --xr-font-color2: var(--jp-content-font-color2, rgba(0, 0, 0, 0.54));\n",
       "  --xr-font-color3: var(--jp-content-font-color3, rgba(0, 0, 0, 0.38));\n",
       "  --xr-border-color: var(--jp-border-color2, #e0e0e0);\n",
       "  --xr-disabled-color: var(--jp-layout-color3, #bdbdbd);\n",
       "  --xr-background-color: var(--jp-layout-color0, white);\n",
       "  --xr-background-color-row-even: var(--jp-layout-color1, white);\n",
       "  --xr-background-color-row-odd: var(--jp-layout-color2, #eeeeee);\n",
       "}\n",
       "\n",
       "html[theme=dark],\n",
       "body.vscode-dark {\n",
       "  --xr-font-color0: rgba(255, 255, 255, 1);\n",
       "  --xr-font-color2: rgba(255, 255, 255, 0.54);\n",
       "  --xr-font-color3: rgba(255, 255, 255, 0.38);\n",
       "  --xr-border-color: #1F1F1F;\n",
       "  --xr-disabled-color: #515151;\n",
       "  --xr-background-color: #111111;\n",
       "  --xr-background-color-row-even: #111111;\n",
       "  --xr-background-color-row-odd: #313131;\n",
       "}\n",
       "\n",
       ".xr-wrap {\n",
       "  display: block;\n",
       "  min-width: 300px;\n",
       "  max-width: 700px;\n",
       "}\n",
       "\n",
       ".xr-text-repr-fallback {\n",
       "  /* fallback to plain text repr when CSS is not injected (untrusted notebook) */\n",
       "  display: none;\n",
       "}\n",
       "\n",
       ".xr-header {\n",
       "  padding-top: 6px;\n",
       "  padding-bottom: 6px;\n",
       "  margin-bottom: 4px;\n",
       "  border-bottom: solid 1px var(--xr-border-color);\n",
       "}\n",
       "\n",
       ".xr-header > div,\n",
       ".xr-header > ul {\n",
       "  display: inline;\n",
       "  margin-top: 0;\n",
       "  margin-bottom: 0;\n",
       "}\n",
       "\n",
       ".xr-obj-type,\n",
       ".xr-array-name {\n",
       "  margin-left: 2px;\n",
       "  margin-right: 10px;\n",
       "}\n",
       "\n",
       ".xr-obj-type {\n",
       "  color: var(--xr-font-color2);\n",
       "}\n",
       "\n",
       ".xr-sections {\n",
       "  padding-left: 0 !important;\n",
       "  display: grid;\n",
       "  grid-template-columns: 150px auto auto 1fr 20px 20px;\n",
       "}\n",
       "\n",
       ".xr-section-item {\n",
       "  display: contents;\n",
       "}\n",
       "\n",
       ".xr-section-item input {\n",
       "  display: none;\n",
       "}\n",
       "\n",
       ".xr-section-item input + label {\n",
       "  color: var(--xr-disabled-color);\n",
       "}\n",
       "\n",
       ".xr-section-item input:enabled + label {\n",
       "  cursor: pointer;\n",
       "  color: var(--xr-font-color2);\n",
       "}\n",
       "\n",
       ".xr-section-item input:enabled + label:hover {\n",
       "  color: var(--xr-font-color0);\n",
       "}\n",
       "\n",
       ".xr-section-summary {\n",
       "  grid-column: 1;\n",
       "  color: var(--xr-font-color2);\n",
       "  font-weight: 500;\n",
       "}\n",
       "\n",
       ".xr-section-summary > span {\n",
       "  display: inline-block;\n",
       "  padding-left: 0.5em;\n",
       "}\n",
       "\n",
       ".xr-section-summary-in:disabled + label {\n",
       "  color: var(--xr-font-color2);\n",
       "}\n",
       "\n",
       ".xr-section-summary-in + label:before {\n",
       "  display: inline-block;\n",
       "  content: '►';\n",
       "  font-size: 11px;\n",
       "  width: 15px;\n",
       "  text-align: center;\n",
       "}\n",
       "\n",
       ".xr-section-summary-in:disabled + label:before {\n",
       "  color: var(--xr-disabled-color);\n",
       "}\n",
       "\n",
       ".xr-section-summary-in:checked + label:before {\n",
       "  content: '▼';\n",
       "}\n",
       "\n",
       ".xr-section-summary-in:checked + label > span {\n",
       "  display: none;\n",
       "}\n",
       "\n",
       ".xr-section-summary,\n",
       ".xr-section-inline-details {\n",
       "  padding-top: 4px;\n",
       "  padding-bottom: 4px;\n",
       "}\n",
       "\n",
       ".xr-section-inline-details {\n",
       "  grid-column: 2 / -1;\n",
       "}\n",
       "\n",
       ".xr-section-details {\n",
       "  display: none;\n",
       "  grid-column: 1 / -1;\n",
       "  margin-bottom: 5px;\n",
       "}\n",
       "\n",
       ".xr-section-summary-in:checked ~ .xr-section-details {\n",
       "  display: contents;\n",
       "}\n",
       "\n",
       ".xr-array-wrap {\n",
       "  grid-column: 1 / -1;\n",
       "  display: grid;\n",
       "  grid-template-columns: 20px auto;\n",
       "}\n",
       "\n",
       ".xr-array-wrap > label {\n",
       "  grid-column: 1;\n",
       "  vertical-align: top;\n",
       "}\n",
       "\n",
       ".xr-preview {\n",
       "  color: var(--xr-font-color3);\n",
       "}\n",
       "\n",
       ".xr-array-preview,\n",
       ".xr-array-data {\n",
       "  padding: 0 5px !important;\n",
       "  grid-column: 2;\n",
       "}\n",
       "\n",
       ".xr-array-data,\n",
       ".xr-array-in:checked ~ .xr-array-preview {\n",
       "  display: none;\n",
       "}\n",
       "\n",
       ".xr-array-in:checked ~ .xr-array-data,\n",
       ".xr-array-preview {\n",
       "  display: inline-block;\n",
       "}\n",
       "\n",
       ".xr-dim-list {\n",
       "  display: inline-block !important;\n",
       "  list-style: none;\n",
       "  padding: 0 !important;\n",
       "  margin: 0;\n",
       "}\n",
       "\n",
       ".xr-dim-list li {\n",
       "  display: inline-block;\n",
       "  padding: 0;\n",
       "  margin: 0;\n",
       "}\n",
       "\n",
       ".xr-dim-list:before {\n",
       "  content: '(';\n",
       "}\n",
       "\n",
       ".xr-dim-list:after {\n",
       "  content: ')';\n",
       "}\n",
       "\n",
       ".xr-dim-list li:not(:last-child):after {\n",
       "  content: ',';\n",
       "  padding-right: 5px;\n",
       "}\n",
       "\n",
       ".xr-has-index {\n",
       "  font-weight: bold;\n",
       "}\n",
       "\n",
       ".xr-var-list,\n",
       ".xr-var-item {\n",
       "  display: contents;\n",
       "}\n",
       "\n",
       ".xr-var-item > div,\n",
       ".xr-var-item label,\n",
       ".xr-var-item > .xr-var-name span {\n",
       "  background-color: var(--xr-background-color-row-even);\n",
       "  margin-bottom: 0;\n",
       "}\n",
       "\n",
       ".xr-var-item > .xr-var-name:hover span {\n",
       "  padding-right: 5px;\n",
       "}\n",
       "\n",
       ".xr-var-list > li:nth-child(odd) > div,\n",
       ".xr-var-list > li:nth-child(odd) > label,\n",
       ".xr-var-list > li:nth-child(odd) > .xr-var-name span {\n",
       "  background-color: var(--xr-background-color-row-odd);\n",
       "}\n",
       "\n",
       ".xr-var-name {\n",
       "  grid-column: 1;\n",
       "}\n",
       "\n",
       ".xr-var-dims {\n",
       "  grid-column: 2;\n",
       "}\n",
       "\n",
       ".xr-var-dtype {\n",
       "  grid-column: 3;\n",
       "  text-align: right;\n",
       "  color: var(--xr-font-color2);\n",
       "}\n",
       "\n",
       ".xr-var-preview {\n",
       "  grid-column: 4;\n",
       "}\n",
       "\n",
       ".xr-var-name,\n",
       ".xr-var-dims,\n",
       ".xr-var-dtype,\n",
       ".xr-preview,\n",
       ".xr-attrs dt {\n",
       "  white-space: nowrap;\n",
       "  overflow: hidden;\n",
       "  text-overflow: ellipsis;\n",
       "  padding-right: 10px;\n",
       "}\n",
       "\n",
       ".xr-var-name:hover,\n",
       ".xr-var-dims:hover,\n",
       ".xr-var-dtype:hover,\n",
       ".xr-attrs dt:hover {\n",
       "  overflow: visible;\n",
       "  width: auto;\n",
       "  z-index: 1;\n",
       "}\n",
       "\n",
       ".xr-var-attrs,\n",
       ".xr-var-data {\n",
       "  display: none;\n",
       "  background-color: var(--xr-background-color) !important;\n",
       "  padding-bottom: 5px !important;\n",
       "}\n",
       "\n",
       ".xr-var-attrs-in:checked ~ .xr-var-attrs,\n",
       ".xr-var-data-in:checked ~ .xr-var-data {\n",
       "  display: block;\n",
       "}\n",
       "\n",
       ".xr-var-data > table {\n",
       "  float: right;\n",
       "}\n",
       "\n",
       ".xr-var-name span,\n",
       ".xr-var-data,\n",
       ".xr-attrs {\n",
       "  padding-left: 25px !important;\n",
       "}\n",
       "\n",
       ".xr-attrs,\n",
       ".xr-var-attrs,\n",
       ".xr-var-data {\n",
       "  grid-column: 1 / -1;\n",
       "}\n",
       "\n",
       "dl.xr-attrs {\n",
       "  padding: 0;\n",
       "  margin: 0;\n",
       "  display: grid;\n",
       "  grid-template-columns: 125px auto;\n",
       "}\n",
       "\n",
       ".xr-attrs dt,\n",
       ".xr-attrs dd {\n",
       "  padding: 0;\n",
       "  margin: 0;\n",
       "  float: left;\n",
       "  padding-right: 10px;\n",
       "  width: auto;\n",
       "}\n",
       "\n",
       ".xr-attrs dt {\n",
       "  font-weight: normal;\n",
       "  grid-column: 1;\n",
       "}\n",
       "\n",
       ".xr-attrs dt:hover span {\n",
       "  display: inline-block;\n",
       "  background: var(--xr-background-color);\n",
       "  padding-right: 10px;\n",
       "}\n",
       "\n",
       ".xr-attrs dd {\n",
       "  grid-column: 2;\n",
       "  white-space: pre-wrap;\n",
       "  word-break: break-all;\n",
       "}\n",
       "\n",
       ".xr-icon-database,\n",
       ".xr-icon-file-text2 {\n",
       "  display: inline-block;\n",
       "  vertical-align: middle;\n",
       "  width: 1em;\n",
       "  height: 1.5em !important;\n",
       "  stroke-width: 0;\n",
       "  stroke: currentColor;\n",
       "  fill: currentColor;\n",
       "}\n",
       "</style><pre class='xr-text-repr-fallback'>&lt;xarray.DataArray &#x27;g&#x27; ()&gt;\n",
       "array(9.83061582)\n",
       "Attributes:\n",
       "    units:    ms-2\n",
       "    note:     Calculated using gsw.grav() for p=0 and lat=80.00</pre><div class='xr-wrap' hidden><div class='xr-header'><div class='xr-obj-type'>xarray.DataArray</div><div class='xr-array-name'>'g'</div></div><ul class='xr-sections'><li class='xr-section-item'><div class='xr-array-wrap'><input id='section-b8acffc3-c60e-4234-86c6-0def592c6655' class='xr-array-in' type='checkbox' checked><label for='section-b8acffc3-c60e-4234-86c6-0def592c6655' title='Show/hide data repr'><svg class='icon xr-icon-database'><use xlink:href='#icon-database'></use></svg></label><div class='xr-array-preview xr-preview'><span>9.831</span></div><div class='xr-array-data'><pre>array(9.83061582)</pre></div></div></li><li class='xr-section-item'><input id='section-f829bdf1-ec21-4e6d-b74f-71ddb5a165a5' class='xr-section-summary-in' type='checkbox' disabled ><label for='section-f829bdf1-ec21-4e6d-b74f-71ddb5a165a5' class='xr-section-summary'  title='Expand/collapse section'>Coordinates: <span>(0)</span></label><div class='xr-section-inline-details'></div><div class='xr-section-details'><ul class='xr-var-list'></ul></div></li><li class='xr-section-item'><input id='section-a26e0b46-a3b3-4634-8ec0-b238afe7bd9a' class='xr-section-summary-in' type='checkbox'  checked><label for='section-a26e0b46-a3b3-4634-8ec0-b238afe7bd9a' class='xr-section-summary' >Attributes: <span>(2)</span></label><div class='xr-section-inline-details'></div><div class='xr-section-details'><dl class='xr-attrs'><dt><span>units :</span></dt><dd>ms-2</dd><dt><span>note :</span></dt><dd>Calculated using gsw.grav() for p=0 and lat=80.00</dd></dl></div></li></ul></div></div>"
      ],
      "text/plain": [
       "<xarray.DataArray 'g' ()>\n",
       "array(9.83061582)\n",
       "Attributes:\n",
       "    units:    ms-2\n",
       "    note:     Calculated using gsw.grav() for p=0 and lat=80.00"
      ]
     },
     "execution_count": 44,
     "metadata": {},
     "output_type": "execute_result"
    }
   ],
   "source": [
    "DX.g"
   ]
  },
  {
   "cell_type": "code",
   "execution_count": 43,
   "id": "c201c4a7",
   "metadata": {},
   "outputs": [
    {
     "data": {
      "text/plain": [
       "[<matplotlib.lines.Line2D at 0x7feefbb8eca0>]"
      ]
     },
     "execution_count": 43,
     "metadata": {},
     "output_type": "execute_result"
    },
    {
     "data": {
      "image/png": "[encoded data removed]",
      "text/plain": [
       "<Figure size 640x480 with 1 Axes>"
      ]
     },
     "metadata": {},
     "output_type": "display_data"
    }
   ],
   "source": [
    "fig, ax = plt.subplots()\n",
    "ax.plot(DX.depth[:, 0])"
   ]
  },
  {
   "cell_type": "code",
   "execution_count": null,
   "id": "906fb03d",
   "metadata": {},
   "outputs": [],
   "source": [
    "DX.ICE_IN_SAMPLE"
   ]
  },
  {
   "cell_type": "code",
   "execution_count": null,
   "id": "20247e2f",
   "metadata": {},
   "outputs": [],
   "source": [
    "fig, ax = plt.subplots(figsize = (16, 3))\n",
    "ax.plot(rs(DX.SIC_FOM, 71).mean)\n",
    "ax.plot(rs(DX.SIC_FOM_ALT, 71).mean, ':', alpha = 0.8)"
   ]
  },
  {
   "cell_type": "code",
   "execution_count": null,
   "id": "3c766e56",
   "metadata": {},
   "outputs": [],
   "source": [
    "DX.SIC_FOM"
   ]
  },
  {
   "cell_type": "code",
   "execution_count": null,
   "id": "ae7619ab",
   "metadata": {},
   "outputs": [],
   "source": [
    "DX.lat"
   ]
  },
  {
   "cell_type": "code",
   "execution_count": null,
   "id": "ad0b594b",
   "metadata": {},
   "outputs": [],
   "source": [
    "imp.reload(sig_append)"
   ]
  },
  {
   "cell_type": "code",
   "execution_count": null,
   "id": "1859d864",
   "metadata": {},
   "outputs": [],
   "source": [
    "sig_append.lat(DX, 2)"
   ]
  },
  {
   "cell_type": "code",
   "execution_count": null,
   "id": "49172ad3",
   "metadata": {},
   "outputs": [],
   "source": [
    "DX.var"
   ]
  },
  {
   "cell_type": "code",
   "execution_count": null,
   "id": "d9c53324",
   "metadata": {},
   "outputs": [],
   "source": [
    "DX.SIC_FOM_ALT"
   ]
  },
  {
   "cell_type": "code",
   "execution_count": null,
   "id": "cec8756a",
   "metadata": {},
   "outputs": [],
   "source": [
    "DX.sampling_interval_sec"
   ]
  },
  {
   "cell_type": "code",
   "execution_count": null,
   "id": "ece4181f",
   "metadata": {},
   "outputs": [],
   "source": [
    "DX.Plan_ProfileInterval/60"
   ]
  },
  {
   "cell_type": "code",
   "execution_count": null,
   "id": "f4841002",
   "metadata": {},
   "outputs": [],
   "source": [
    "## Print some stuff with the overview() function\n",
    "sig_funcs.overview(DX)"
   ]
  },
  {
   "cell_type": "code",
   "execution_count": null,
   "id": "e61230ea",
   "metadata": {},
   "outputs": [],
   "source": [
    "fig, ax = plt.subplots()\n",
    "ax.plot(DX.Average_AltimeterPressure[:, 0])\n",
    "ax.plot(DX.Average_Pressure[:, 0])\n",
    "ax.set_ylim()"
   ]
  },
  {
   "cell_type": "code",
   "execution_count": null,
   "id": "64af47a6",
   "metadata": {},
   "outputs": [],
   "source": [
    "DX.A"
   ]
  },
  {
   "cell_type": "code",
   "execution_count": null,
   "id": "9ad85ac5",
   "metadata": {},
   "outputs": [],
   "source": [
    "fig, ax = plt.subplots()\n",
    "ax.plot(DX.Average_AltimeterPressure[:, 0]-DX.Average_Pressure[:, 0])"
   ]
  },
  {
   "cell_type": "code",
   "execution_count": null,
   "id": "a5ab4c3f",
   "metadata": {},
   "outputs": [],
   "source": [
    "DX.attrs"
   ]
  },
  {
   "cell_type": "code",
   "execution_count": null,
   "id": "949f2043",
   "metadata": {},
   "outputs": [],
   "source": [
    "ca()"
   ]
  },
  {
   "cell_type": "code",
   "execution_count": null,
   "id": "fdf32e3f",
   "metadata": {},
   "outputs": [],
   "source": [
    "DX.Average_AltimeterDistanceAST"
   ]
  },
  {
   "cell_type": "code",
   "execution_count": null,
   "id": "4dd6f17e",
   "metadata": {},
   "outputs": [],
   "source": [
    "nn = int(np.random.rand()*DX.dims['TIME'])\n",
    "print(nn)\n",
    "fig, ax = plt.subplots()\n",
    "ax.plot(DX.Average_AltimeterDistanceAST[nn, :])"
   ]
  },
  {
   "cell_type": "code",
   "execution_count": null,
   "id": "62e38723",
   "metadata": {},
   "outputs": [],
   "source": [
    "fig, ax = plt.subplots()\n",
    "ax.hist(DX.Average_AltimeterQualityAST.to_numpy().flatten(), 100)"
   ]
  },
  {
   "cell_type": "code",
   "execution_count": null,
   "id": "cfdffe30",
   "metadata": {},
   "outputs": [],
   "source": [
    "DX"
   ]
  },
  {
   "cell_type": "markdown",
   "id": "5133f51c",
   "metadata": {},
   "source": [
    "### Check that the time looks reasonable"
   ]
  },
  {
   "cell_type": "code",
   "execution_count": null,
   "id": "8450bb05",
   "metadata": {},
   "outputs": [],
   "source": [
    "DX.dims['TIME']"
   ]
  },
  {
   "cell_type": "code",
   "execution_count": null,
   "id": "2c79806b",
   "metadata": {},
   "outputs": [],
   "source": [
    "fig, ax = plt.subplots()\n",
    "ax.plot(DX['TIME'])"
   ]
  },
  {
   "cell_type": "code",
   "execution_count": null,
   "id": "00355190",
   "metadata": {},
   "outputs": [],
   "source": [
    "from matplotlib.dates import num2date "
   ]
  },
  {
   "cell_type": "code",
   "execution_count": null,
   "id": "b9f4dfab",
   "metadata": {},
   "outputs": [],
   "source": [
    "def overview(DX):\n",
    "    '''\n",
    "    Prints some basic information about the dataset.\n",
    "    '''\n",
    "\n",
    "    # Time range\n",
    "    datefmt = '%d %b %Y %H:%M'\n",
    "    starttime = num2date(DX.TIME[0]).strftime(datefmt)\n",
    "    endtime = num2date(DX.TIME[-1]).strftime(datefmt)\n",
    "    ndays = DX.TIME[-1]-DX.TIME[0]\n",
    "\n",
    "    print('\\nTIME RANGE:\\n%s  -->  %s  (%.1f days)'%(\n",
    "        starttime, endtime, ndays))\n",
    "\n",
    "    # Size\n",
    "    print('\\nSIZE:\\nTotal %i time points.'%(DX.dims['TIME']*DX.dims['SAMPLE']))\n",
    "    print('Split into %i ensembles with %i sample per ensemble.'%(\n",
    "          DX.dims['TIME'], DX.dims['SAMPLE']))\n",
    "    print('Ocean velocity bins: %i.'%(DX.dims['bins']))"
   ]
  },
  {
   "cell_type": "code",
   "execution_count": null,
   "id": "0a64ef7d",
   "metadata": {},
   "outputs": [],
   "source": [
    "#### Have a look at the altimeter record"
   ]
  },
  {
   "cell_type": "code",
   "execution_count": null,
   "id": "32f673b4",
   "metadata": {},
   "outputs": [],
   "source": [
    "DX.caonf"
   ]
  },
  {
   "cell_type": "code",
   "execution_count": null,
   "id": "5a84ca37",
   "metadata": {},
   "outputs": [],
   "source": [
    "overview(DX)"
   ]
  },
  {
   "cell_type": "code",
   "execution_count": null,
   "id": "bd6b7387",
   "metadata": {},
   "outputs": [],
   "source": [
    "num2date(DX.TIME[0])"
   ]
  },
  {
   "cell_type": "code",
   "execution_count": null,
   "id": "4dc82ff2",
   "metadata": {},
   "outputs": [],
   "source": [
    "DX = sig_funcs.matfiles_to_dataset(flist, reshape = False)"
   ]
  },
  {
   "cell_type": "code",
   "execution_count": null,
   "id": "5144f135",
   "metadata": {},
   "outputs": [],
   "source": [
    "DXX = sig_funcs.reshape_ensembles(DX)"
   ]
  },
  {
   "cell_type": "code",
   "execution_count": null,
   "id": "4db0f1e0",
   "metadata": {},
   "outputs": [],
   "source": [
    "os.chdir('../testing/basic_test/')"
   ]
  },
  {
   "cell_type": "code",
   "execution_count": null,
   "id": "5dc552c6",
   "metadata": {},
   "outputs": [],
   "source": [
    "ls"
   ]
  },
  {
   "cell_type": "code",
   "execution_count": null,
   "id": "c7ac377c",
   "metadata": {},
   "outputs": [],
   "source": [
    "DX"
   ]
  },
  {
   "cell_type": "code",
   "execution_count": null,
   "id": "a4f26292",
   "metadata": {},
   "outputs": [],
   "source": [
    "mean_FOM = DX[nm].mean(axis = 1)\n"
   ]
  },
  {
   "cell_type": "code",
   "execution_count": null,
   "id": "68c454df",
   "metadata": {},
   "outputs": [],
   "source": [
    "sl = slice(None, None, 100)\n",
    "fig, ax = plt.subplots(4, 1, sharex = True, sharey = True)\n",
    "for nn in np.arange(1, 5):\n",
    "    nm = 'AverageIce_FOMBeam%i'%nn\n",
    "    mean_FOM = DX[nm].mean(axis = 1)\n",
    "    ax[nn-1].hist(mean_FOM/ mean_FOM.max(), 25, alpha = 0.8, )"
   ]
  },
  {
   "cell_type": "code",
   "execution_count": null,
   "id": "bbb83ca4",
   "metadata": {},
   "outputs": [],
   "source": [
    "sl = slice(None, None, 100)\n",
    "fig, ax = plt.subplots()\n",
    "for nn in np.arange(1, 5):\n",
    "    nm = 'AverageIce_FOMBeam%i'%nn\n",
    "    ax.plot(DX[nm].to_numpy().flatten()[sl]/ DX[nm].to_numpy().flatten()[sl].max()+(nn-1)*1.1, 'o', alpha = 0.1)"
   ]
  },
  {
   "cell_type": "code",
   "execution_count": null,
   "id": "c9ff9e42",
   "metadata": {},
   "outputs": [],
   "source": [
    "sl = slice(10000, 10100)\n",
    "fig, ax = plt.subplots()\n",
    "ax.hist(DX.AverageIce_FOMBeam1.to_numpy().flatten(), 1000)"
   ]
  },
  {
   "cell_type": "code",
   "execution_count": null,
   "id": "0f898dae",
   "metadata": {},
   "outputs": [],
   "source": [
    "ice_class_FOM(DX, threshold = 500)"
   ]
  },
  {
   "cell_type": "code",
   "execution_count": null,
   "id": "955c7571",
   "metadata": {},
   "outputs": [],
   "source": [
    "sl = slice(10000, 10100)\n",
    "fig, ax = plt.subplots()\n",
    "ax.plot(DX.to_array())"
   ]
  },
  {
   "cell_type": "code",
   "execution_count": null,
   "id": "777c15e7",
   "metadata": {},
   "outputs": [],
   "source": []
  },
  {
   "cell_type": "code",
   "execution_count": null,
   "id": "f5428b7d",
   "metadata": {},
   "outputs": [],
   "source": []
  },
  {
   "cell_type": "code",
   "execution_count": null,
   "id": "a8108a05",
   "metadata": {},
   "outputs": [],
   "source": [
    "def ice_class_from_FOM(DX, FOM_thr = 300)"
   ]
  }
 ],
 "metadata": {
  "kernelspec": {
   "display_name": "Python [conda env:oyv] *",
   "language": "python",
   "name": "conda-env-oyv-py"
  },
  "language_info": {
   "codemirror_mode": {
    "name": "ipython",
    "version": 3
   },
   "file_extension": ".py",
   "mimetype": "text/x-python",
   "name": "python",
   "nbconvert_exporter": "python",
   "pygments_lexer": "ipython3",
   "version": "3.8.2"
  }
 },
 "nbformat": 4,
 "nbformat_minor": 5
}
