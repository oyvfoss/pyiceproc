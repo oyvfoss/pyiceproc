{
 "cells": [
  {
   "cell_type": "markdown",
   "id": "852f3819",
   "metadata": {},
   "source": [
    "### Testing of the code during development\n",
    "\n",
    "Looking at the M1-1 dataset"
   ]
  },
  {
   "cell_type": "code",
   "execution_count": 5,
   "id": "9d439548",
   "metadata": {},
   "outputs": [],
   "source": [
    "import os\n",
    "import glob\n",
    "from oyv.imports import *\n",
    "import importlib"
   ]
  },
  {
   "cell_type": "code",
   "execution_count": 6,
   "id": "c6c88005",
   "metadata": {},
   "outputs": [
    {
     "name": "stdout",
     "output_type": "stream",
     "text": [
      "\u001b[0m\u001b[01;32m'Basic testing during development.ipynb'\u001b[0m*\r\n"
     ]
    }
   ],
   "source": [
    "ls"
   ]
  },
  {
   "cell_type": "code",
   "execution_count": 7,
   "id": "f2448a5f",
   "metadata": {},
   "outputs": [],
   "source": [
    "%matplotlib inline"
   ]
  },
  {
   "cell_type": "code",
   "execution_count": 9,
   "id": "0c77241c",
   "metadata": {},
   "outputs": [
    {
     "ename": "ModuleNotFoundError",
     "evalue": "No module named 'sig_funcs'",
     "output_type": "error",
     "traceback": [
      "\u001b[0;31m---------------------------------------------------------------------------\u001b[0m",
      "\u001b[0;31mModuleNotFoundError\u001b[0m                       Traceback (most recent call last)",
      "Cell \u001b[0;32mIn [9], line 3\u001b[0m\n\u001b[1;32m      1\u001b[0m \u001b[38;5;66;03m# Load the modules\u001b[39;00m\n\u001b[1;32m      2\u001b[0m \u001b[38;5;66;03m#os.chdir('../../')\u001b[39;00m\n\u001b[0;32m----> 3\u001b[0m \u001b[38;5;28;01mfrom\u001b[39;00m \u001b[38;5;21;01msigpyproc\u001b[39;00m \u001b[38;5;28;01mimport\u001b[39;00m sig_funcs, sig_append_external\n\u001b[1;32m      4\u001b[0m os\u001b[38;5;241m.\u001b[39mchdir(\u001b[38;5;124m'\u001b[39m\u001b[38;5;124mtesting/development/\u001b[39m\u001b[38;5;124m'\u001b[39m)\n",
      "File \u001b[0;32m~/work/code/git_public/signature_proc/sigpyproc/sig_append_external.py:25\u001b[0m\n\u001b[1;32m     23\u001b[0m \u001b[38;5;28;01mfrom\u001b[39;00m \u001b[38;5;21;01mscipy\u001b[39;00m\u001b[38;5;21;01m.\u001b[39;00m\u001b[38;5;21;01minterpolate\u001b[39;00m \u001b[38;5;28;01mimport\u001b[39;00m interp1d\n\u001b[1;32m     24\u001b[0m \u001b[38;5;28;01mimport\u001b[39;00m \u001b[38;5;21;01mgsw\u001b[39;00m\n\u001b[0;32m---> 25\u001b[0m \u001b[38;5;28;01mfrom\u001b[39;00m \u001b[38;5;21;01msig_funcs\u001b[39;00m \u001b[38;5;28;01mimport\u001b[39;00m mat_to_py_time\n\u001b[1;32m     26\u001b[0m \u001b[38;5;28;01mfrom\u001b[39;00m \u001b[38;5;21;01mmatplotlib\u001b[39;00m\u001b[38;5;21;01m.\u001b[39;00m\u001b[38;5;21;01mdates\u001b[39;00m \u001b[38;5;28;01mimport\u001b[39;00m date2num\n\u001b[1;32m     28\u001b[0m \u001b[38;5;28;01mdef\u001b[39;00m \u001b[38;5;21madd_to_sigdata\u001b[39m(dx, data, time, name, attrs \u001b[38;5;241m=\u001b[39m \u001b[38;5;28;01mNone\u001b[39;00m, time_mat \u001b[38;5;241m=\u001b[39m \u001b[38;5;28;01mFalse\u001b[39;00m):\n",
      "\u001b[0;31mModuleNotFoundError\u001b[0m: No module named 'sig_funcs'"
     ]
    }
   ],
   "source": [
    "# Load the modules\n",
    "#os.chdir('../../')\n",
    "from sigpyproc import sig_funcs, sig_append_external\n",
    "os.chdir('testing/development/')"
   ]
  },
  {
   "cell_type": "code",
   "execution_count": 10,
   "id": "a2281ada",
   "metadata": {},
   "outputs": [],
   "source": [
    "# Load converted data from M1-1\n",
    "floc = '/media/oyvindl/ratatosk/data/mooring_data/signature500/m1_1/converted/*'\n",
    "flist = glob.glob(floc)\n",
    "for fn in flist:\n",
    "    if '_avgd' in fn:\n",
    "        flist.remove(fn)"
   ]
  },
  {
   "cell_type": "code",
   "execution_count": 24,
   "id": "a6c330a8",
   "metadata": {},
   "outputs": [],
   "source": [
    "# RELOAD the sig_func module\n",
    "os.chdir('../../code/')\n",
    "importlib.reload(sig_funcs)\n",
    "os.chdir('../testing/basic_test/')"
   ]
  },
  {
   "cell_type": "code",
   "execution_count": 14,
   "id": "bbf3234e",
   "metadata": {},
   "outputs": [
    {
     "name": "stdout",
     "output_type": "stream",
     "text": [
      "N_M1_6.mat: CONCATENATING (print: first = False)....ure....\r"
     ]
    },
    {
     "name": "stderr",
     "output_type": "stream",
     "text": [
      "/home/oyvindl/work/code/git_public/signature_proc/code/sig_funcs.py:505: RuntimeWarning: invalid value encountered in sqrt\n",
      "  d['tilt_Average'].attrs  =  tilt_attrs\n",
      "/home/oyvindl/work/code/git_public/signature_proc/code/sig_funcs.py:514: RuntimeWarning: invalid value encountered in sqrt\n",
      "  d['tilt_AverageIce'].attrs  = tilt_attrs\n"
     ]
    },
    {
     "name": "stdout",
     "output_type": "stream",
     "text": [
      "1870992 time points, 38979 ensembles. Sample per ensemble: 48\n",
      "Done. Run sig_funcs.overview() to print some additional details.\n"
     ]
    }
   ],
   "source": [
    "DX = sig_funcs.matfiles_to_dataset(flist, )"
   ]
  },
  {
   "cell_type": "code",
   "execution_count": 15,
   "id": "cec8756a",
   "metadata": {},
   "outputs": [
    {
     "data": {
      "text/plain": [
       "1.0"
      ]
     },
     "execution_count": 15,
     "metadata": {},
     "output_type": "execute_result"
    }
   ],
   "source": [
    "DX.sampling_interval_sec"
   ]
  },
  {
   "cell_type": "code",
   "execution_count": 22,
   "id": "ece4181f",
   "metadata": {},
   "outputs": [
    {
     "data": {
      "text/plain": [
       "15.0"
      ]
     },
     "execution_count": 22,
     "metadata": {},
     "output_type": "execute_result"
    }
   ],
   "source": [
    "DX.Plan_ProfileInterval/60"
   ]
  },
  {
   "cell_type": "code",
   "execution_count": 25,
   "id": "f4841002",
   "metadata": {},
   "outputs": [
    {
     "name": "stdout",
     "output_type": "stream",
     "text": [
      "\n",
      "TIME RANGE:\n",
      "06 Oct 2018 12:00  -->  16 Nov 2019 12:30  (406.0 days)\n",
      "Time between ensembles: 15.0 min.\n",
      "Time between samples in ensembles: 1.0 sec.\n",
      "\n",
      "PRESSURE:\n",
      "Median (STD) of altimeter pressure: 20.6 dbar (0.5 dbar)  - with fixed atm offset 9.500 dbar\n",
      "\n",
      "SIZE:\n",
      "Total 1870992 time points.\n",
      "Split into 38979 ensembles with 48 sample per ensemble.\n",
      "Ocean velocity bins: 16.\n"
     ]
    }
   ],
   "source": [
    "## Print some stuff with the overview() function\n",
    "sig_funcs.overview(DX)"
   ]
  },
  {
   "cell_type": "code",
   "execution_count": 29,
   "id": "e61230ea",
   "metadata": {},
   "outputs": [
    {
     "data": {
      "text/plain": [
       "[<matplotlib.lines.Line2D at 0x7f6fcd26c5e0>]"
      ]
     },
     "execution_count": 29,
     "metadata": {},
     "output_type": "execute_result"
    },
    {
     "data": {
      "image/png": "[encoded data removed]",
      "text/plain": [
       "<Figure size 640x480 with 1 Axes>"
      ]
     },
     "metadata": {},
     "output_type": "display_data"
    }
   ],
   "source": [
    "fig, ax = plt.subplots()\n",
    "ax.plot(DX.Average_AltimeterPressure[:, 0])\n",
    "ax.plot(DX.Average_Pressure[:, 0])\n",
    "ax.set_ylim()"
   ]
  },
  {
   "cell_type": "code",
   "execution_count": null,
   "id": "64af47a6",
   "metadata": {},
   "outputs": [],
   "source": [
    "DX.A"
   ]
  },
  {
   "cell_type": "code",
   "execution_count": 30,
   "id": "9ad85ac5",
   "metadata": {},
   "outputs": [
    {
     "data": {
      "text/plain": [
       "[<matplotlib.lines.Line2D at 0x7f6fcd24ee20>]"
      ]
     },
     "execution_count": 30,
     "metadata": {},
     "output_type": "execute_result"
    },
    {
     "data": {
      "image/png": "[encoded data removed]",
      "text/plain": [
       "<Figure size 640x480 with 1 Axes>"
      ]
     },
     "metadata": {},
     "output_type": "display_data"
    }
   ],
   "source": [
    "fig, ax = plt.subplots()\n",
    "ax.plot(DX.Average_AltimeterPressure[:, 0]-DX.Average_Pressure[:, 0])"
   ]
  },
  {
   "cell_type": "markdown",
   "id": "5133f51c",
   "metadata": {},
   "source": [
    "### Check that the time looks reasonable"
   ]
  },
  {
   "cell_type": "code",
   "execution_count": 19,
   "id": "8450bb05",
   "metadata": {},
   "outputs": [
    {
     "data": {
      "text/plain": [
       "38979"
      ]
     },
     "execution_count": 19,
     "metadata": {},
     "output_type": "execute_result"
    }
   ],
   "source": [
    "DX.dims['TIME']"
   ]
  },
  {
   "cell_type": "code",
   "execution_count": 20,
   "id": "2c79806b",
   "metadata": {},
   "outputs": [
    {
     "data": {
      "text/plain": [
       "[<matplotlib.lines.Line2D at 0x7fd0249f9c70>]"
      ]
     },
     "execution_count": 20,
     "metadata": {},
     "output_type": "execute_result"
    },
    {
     "data": {
      "image/png": "[encoded data removed]",
      "text/plain": [
       "<Figure size 640x480 with 1 Axes>"
      ]
     },
     "metadata": {},
     "output_type": "display_data"
    }
   ],
   "source": [
    "fig, ax = plt.subplots()\n",
    "ax.plot(DX['TIME'])"
   ]
  },
  {
   "cell_type": "code",
   "execution_count": null,
   "id": "00355190",
   "metadata": {},
   "outputs": [],
   "source": [
    "from matplotlib.dates import num2date "
   ]
  },
  {
   "cell_type": "code",
   "execution_count": null,
   "id": "b9f4dfab",
   "metadata": {},
   "outputs": [],
   "source": [
    "def overview(DX):\n",
    "    '''\n",
    "    Prints some basic information about the dataset.\n",
    "    '''\n",
    "\n",
    "    # Time range\n",
    "    datefmt = '%d %b %Y %H:%M'\n",
    "    starttime = num2date(DX.TIME[0]).strftime(datefmt)\n",
    "    endtime = num2date(DX.TIME[-1]).strftime(datefmt)\n",
    "    ndays = DX.TIME[-1]-DX.TIME[0]\n",
    "\n",
    "    print('\\nTIME RANGE:\\n%s  -->  %s  (%.1f days)'%(\n",
    "        starttime, endtime, ndays))\n",
    "\n",
    "    # Size\n",
    "    print('\\nSIZE:\\nTotal %i time points.'%(DX.dims['TIME']*DX.dims['SAMPLE']))\n",
    "    print('Split into %i ensembles with %i sample per ensemble.'%(\n",
    "          DX.dims['TIME'], DX.dims['SAMPLE']))\n",
    "    print('Ocean velocity bins: %i.'%(DX.dims['bins']))"
   ]
  },
  {
   "cell_type": "code",
   "execution_count": null,
   "id": "32f673b4",
   "metadata": {},
   "outputs": [],
   "source": [
    "DX.conf"
   ]
  },
  {
   "cell_type": "code",
   "execution_count": null,
   "id": "5a84ca37",
   "metadata": {},
   "outputs": [],
   "source": [
    "overview(DX)"
   ]
  },
  {
   "cell_type": "code",
   "execution_count": null,
   "id": "bd6b7387",
   "metadata": {},
   "outputs": [],
   "source": [
    "num2date(DX.TIME[0])"
   ]
  },
  {
   "cell_type": "code",
   "execution_count": null,
   "id": "4dc82ff2",
   "metadata": {},
   "outputs": [],
   "source": [
    "DX = sig_funcs.matfiles_to_dataset(flist, reshape = False)"
   ]
  },
  {
   "cell_type": "code",
   "execution_count": null,
   "id": "5144f135",
   "metadata": {},
   "outputs": [],
   "source": [
    "DXX = sig_funcs.reshape_ensembles(DX)"
   ]
  },
  {
   "cell_type": "code",
   "execution_count": null,
   "id": "4db0f1e0",
   "metadata": {},
   "outputs": [],
   "source": [
    "os.chdir('../testing/basic_test/')"
   ]
  },
  {
   "cell_type": "code",
   "execution_count": null,
   "id": "5dc552c6",
   "metadata": {},
   "outputs": [],
   "source": [
    "ls"
   ]
  },
  {
   "cell_type": "code",
   "execution_count": null,
   "id": "955c7571",
   "metadata": {},
   "outputs": [],
   "source": []
  }
 ],
 "metadata": {
  "kernelspec": {
   "display_name": "Python [conda env:oyv] *",
   "language": "python",
   "name": "conda-env-oyv-py"
  },
  "language_info": {
   "codemirror_mode": {
    "name": "ipython",
    "version": 3
   },
   "file_extension": ".py",
   "mimetype": "text/x-python",
   "name": "python",
   "nbconvert_exporter": "python",
   "pygments_lexer": "ipython3",
   "version": "3.8.2"
  }
 },
 "nbformat": 4,
 "nbformat_minor": 5
}
