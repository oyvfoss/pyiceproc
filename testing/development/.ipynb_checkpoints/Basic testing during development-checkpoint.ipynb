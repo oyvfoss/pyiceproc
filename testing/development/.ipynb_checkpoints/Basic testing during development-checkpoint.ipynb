{
 "cells": [
  {
   "cell_type": "markdown",
   "id": "852f3819",
   "metadata": {},
   "source": [
    "### Testing of the code during development\n",
    "\n",
    "Looking at the M1-1 dataset"
   ]
  },
  {
   "cell_type": "code",
   "execution_count": 1,
   "id": "9d439548",
   "metadata": {},
   "outputs": [
    {
     "name": "stderr",
     "output_type": "stream",
     "text": [
      "playsound is relying on another python subprocess. Please use `pip install pygobject` if you want playsound to run more efficiently.\n"
     ]
    }
   ],
   "source": [
    "import os\n",
    "import glob\n",
    "from oyv.imports import *\n",
    "import importlib"
   ]
  },
  {
   "cell_type": "code",
   "execution_count": 2,
   "id": "f2448a5f",
   "metadata": {},
   "outputs": [],
   "source": [
    "%matplotlib inline"
   ]
  },
  {
   "cell_type": "code",
   "execution_count": 3,
   "id": "0c77241c",
   "metadata": {},
   "outputs": [],
   "source": [
    "# Load the modules\n",
    "os.chdir('../../')\n",
    "from sigpyproc import sig_funcs, sig_append_external\n",
    "os.chdir('testing/development/')"
   ]
  },
  {
   "cell_type": "code",
   "execution_count": 4,
   "id": "a2281ada",
   "metadata": {},
   "outputs": [],
   "source": [
    "# Load converted data from M1-1\n",
    "floc = '/media/oyvindl/ratatosk/data/mooring_data/signature500/m1_1/converted/*'\n",
    "flist = glob.glob(floc)\n",
    "for fn in flist:\n",
    "    if '_avgd' in fn:\n",
    "        flist.remove(fn)"
   ]
  },
  {
   "cell_type": "code",
   "execution_count": 5,
   "id": "4c1307d1",
   "metadata": {},
   "outputs": [
    {
     "data": {
      "text/plain": [
       "'/media/oyvindl/ratatosk/data/mooring_data/signature500/m1_1/converted/S100812A002_AeN_M1_6.mat'"
      ]
     },
     "execution_count": 5,
     "metadata": {},
     "output_type": "execute_result"
    }
   ],
   "source": [
    "flist[-1]"
   ]
  },
  {
   "cell_type": "code",
   "execution_count": 6,
   "id": "a6c330a8",
   "metadata": {},
   "outputs": [
    {
     "data": {
      "text/plain": [
       "<module 'sigpyproc.sig_funcs' from '/home/oyvindl/work/code/git_public/sigpyproc/sigpyproc/sig_funcs.py'>"
      ]
     },
     "execution_count": 6,
     "metadata": {},
     "output_type": "execute_result"
    }
   ],
   "source": [
    "# RELOAD the sig_func module\n",
    "#os.chdir('../../')\n",
    "importlib.reload(sig_funcs)\n",
    "#os.chdir('testing/development/')"
   ]
  },
  {
   "cell_type": "markdown",
   "id": "8984ce5f",
   "metadata": {},
   "source": [
    "## # CURRENTLY KILLED AT DX.sortby() !\n"
   ]
  },
  {
   "cell_type": "code",
   "execution_count": null,
   "id": "bbf3234e",
   "metadata": {},
   "outputs": [
    {
     "name": "stdout",
     "output_type": "stream",
     "text": [
      "DONE_6.mat: CONCATENATING (print: first = False)....ure....\n",
      "> \u001b[0;32m/home/oyvindl/work/code/git_public/sigpyproc/sigpyproc/sig_funcs.py\u001b[0m(93)\u001b[0;36mmatfiles_to_dataset\u001b[0;34m()\u001b[0m\n",
      "\u001b[0;32m     91 \u001b[0;31m    \u001b[0mpdb\u001b[0m\u001b[0;34m.\u001b[0m\u001b[0mset_trace\u001b[0m\u001b[0;34m(\u001b[0m\u001b[0;34m)\u001b[0m\u001b[0;34m\u001b[0m\u001b[0;34m\u001b[0m\u001b[0m\n",
      "\u001b[0m\u001b[0;32m     92 \u001b[0;31m\u001b[0;34m\u001b[0m\u001b[0m\n",
      "\u001b[0m\u001b[0;32m---> 93 \u001b[0;31m    \u001b[0;32mif\u001b[0m \u001b[0mlen\u001b[0m\u001b[0;34m(\u001b[0m\u001b[0mnp\u001b[0m\u001b[0;34m.\u001b[0m\u001b[0munique\u001b[0m\u001b[0;34m(\u001b[0m\u001b[0mpressure_offsets\u001b[0m\u001b[0;34m)\u001b[0m\u001b[0;34m)\u001b[0m \u001b[0;34m==\u001b[0m \u001b[0;36m1\u001b[0m\u001b[0;34m:\u001b[0m\u001b[0;34m\u001b[0m\u001b[0;34m\u001b[0m\u001b[0m\n",
      "\u001b[0m\u001b[0;32m     94 \u001b[0;31m        \u001b[0mDX\u001b[0m\u001b[0;34m.\u001b[0m\u001b[0mattrs\u001b[0m\u001b[0;34m[\u001b[0m\u001b[0;34m'pressure_offset'\u001b[0m\u001b[0;34m]\u001b[0m \u001b[0;34m=\u001b[0m \u001b[0mpressure_offsets\u001b[0m\u001b[0;34m[\u001b[0m\u001b[0;36m0\u001b[0m\u001b[0;34m]\u001b[0m\u001b[0;34m\u001b[0m\u001b[0;34m\u001b[0m\u001b[0m\n",
      "\u001b[0m\u001b[0;32m     95 \u001b[0;31m    \u001b[0;32melse\u001b[0m\u001b[0;34m:\u001b[0m\u001b[0;34m\u001b[0m\u001b[0;34m\u001b[0m\u001b[0m\n",
      "\u001b[0m\n",
      "ipdb> DX.attrs['pressure_offset'] = pressure_offsets[0]\n",
      "ipdb> DX.pressure_offset\n",
      "9.5\n",
      "ipdb>     DX = _add_tilt(DX)\n"
     ]
    },
    {
     "name": "stderr",
     "output_type": "stream",
     "text": [
      "/home/oyvindl/work/code/git_public/sigpyproc/sigpyproc/sig_funcs.py:514: RuntimeWarning: invalid value encountered in sqrt\n",
      "  180 / np.pi* np.arccos(np.sqrt(\n",
      "/home/oyvindl/work/code/git_public/sigpyproc/sigpyproc/sig_funcs.py:523: RuntimeWarning: invalid value encountered in sqrt\n",
      "  180 / np.pi* np.arccos(np.sqrt(\n"
     ]
    },
    {
     "name": "stdout",
     "output_type": "stream",
     "text": [
      "ipdb>     DX = DX.sortby('time_average')\n"
     ]
    }
   ],
   "source": [
    "\n",
    "DX = sig_funcs.matfiles_to_dataset(flist, )"
   ]
  },
  {
   "cell_type": "code",
   "execution_count": null,
   "id": "511cb8cd",
   "metadata": {},
   "outputs": [],
   "source": [
    "DX.dims"
   ]
  },
  {
   "cell_type": "code",
   "execution_count": null,
   "id": "20247e2f",
   "metadata": {},
   "outputs": [],
   "source": [
    "fig, ax = plt.subplots()\n",
    "ax.plot(DX.SIC_FOM)"
   ]
  },
  {
   "cell_type": "code",
   "execution_count": null,
   "id": "cec8756a",
   "metadata": {},
   "outputs": [],
   "source": [
    "DX.sampling_interval_sec"
   ]
  },
  {
   "cell_type": "code",
   "execution_count": null,
   "id": "ece4181f",
   "metadata": {},
   "outputs": [],
   "source": [
    "DX.Plan_ProfileInterval/60"
   ]
  },
  {
   "cell_type": "code",
   "execution_count": null,
   "id": "f4841002",
   "metadata": {},
   "outputs": [],
   "source": [
    "## Print some stuff with the overview() function\n",
    "sig_funcs.overview(DX)"
   ]
  },
  {
   "cell_type": "code",
   "execution_count": null,
   "id": "e61230ea",
   "metadata": {},
   "outputs": [],
   "source": [
    "fig, ax = plt.subplots()\n",
    "ax.plot(DX.Average_AltimeterPressure[:, 0])\n",
    "ax.plot(DX.Average_Pressure[:, 0])\n",
    "ax.set_ylim()"
   ]
  },
  {
   "cell_type": "code",
   "execution_count": null,
   "id": "64af47a6",
   "metadata": {},
   "outputs": [],
   "source": [
    "DX.A"
   ]
  },
  {
   "cell_type": "code",
   "execution_count": null,
   "id": "9ad85ac5",
   "metadata": {},
   "outputs": [],
   "source": [
    "fig, ax = plt.subplots()\n",
    "ax.plot(DX.Average_AltimeterPressure[:, 0]-DX.Average_Pressure[:, 0])"
   ]
  },
  {
   "cell_type": "code",
   "execution_count": null,
   "id": "a5ab4c3f",
   "metadata": {},
   "outputs": [],
   "source": [
    "DX.attrs"
   ]
  },
  {
   "cell_type": "code",
   "execution_count": null,
   "id": "949f2043",
   "metadata": {},
   "outputs": [],
   "source": [
    "ca()"
   ]
  },
  {
   "cell_type": "code",
   "execution_count": null,
   "id": "fdf32e3f",
   "metadata": {},
   "outputs": [],
   "source": [
    "DX.Average_AltimeterDistanceAST"
   ]
  },
  {
   "cell_type": "code",
   "execution_count": null,
   "id": "4dd6f17e",
   "metadata": {},
   "outputs": [],
   "source": [
    "nn = int(np.random.rand()*DX.dims['TIME'])\n",
    "print(nn)\n",
    "fig, ax = plt.subplots()\n",
    "ax.plot(DX.Average_AltimeterDistanceAST[nn, :])"
   ]
  },
  {
   "cell_type": "code",
   "execution_count": null,
   "id": "62e38723",
   "metadata": {},
   "outputs": [],
   "source": [
    "fig, ax = plt.subplots()\n",
    "ax.hist(DX.Average_AltimeterQualityAST.to_numpy().flatten(), 100)"
   ]
  },
  {
   "cell_type": "code",
   "execution_count": null,
   "id": "cfdffe30",
   "metadata": {},
   "outputs": [],
   "source": [
    "DX"
   ]
  },
  {
   "cell_type": "markdown",
   "id": "5133f51c",
   "metadata": {},
   "source": [
    "### Check that the time looks reasonable"
   ]
  },
  {
   "cell_type": "code",
   "execution_count": null,
   "id": "8450bb05",
   "metadata": {},
   "outputs": [],
   "source": [
    "DX.dims['TIME']"
   ]
  },
  {
   "cell_type": "code",
   "execution_count": null,
   "id": "2c79806b",
   "metadata": {},
   "outputs": [],
   "source": [
    "fig, ax = plt.subplots()\n",
    "ax.plot(DX['TIME'])"
   ]
  },
  {
   "cell_type": "code",
   "execution_count": null,
   "id": "00355190",
   "metadata": {},
   "outputs": [],
   "source": [
    "from matplotlib.dates import num2date "
   ]
  },
  {
   "cell_type": "code",
   "execution_count": null,
   "id": "b9f4dfab",
   "metadata": {},
   "outputs": [],
   "source": [
    "def overview(DX):\n",
    "    '''\n",
    "    Prints some basic information about the dataset.\n",
    "    '''\n",
    "\n",
    "    # Time range\n",
    "    datefmt = '%d %b %Y %H:%M'\n",
    "    starttime = num2date(DX.TIME[0]).strftime(datefmt)\n",
    "    endtime = num2date(DX.TIME[-1]).strftime(datefmt)\n",
    "    ndays = DX.TIME[-1]-DX.TIME[0]\n",
    "\n",
    "    print('\\nTIME RANGE:\\n%s  -->  %s  (%.1f days)'%(\n",
    "        starttime, endtime, ndays))\n",
    "\n",
    "    # Size\n",
    "    print('\\nSIZE:\\nTotal %i time points.'%(DX.dims['TIME']*DX.dims['SAMPLE']))\n",
    "    print('Split into %i ensembles with %i sample per ensemble.'%(\n",
    "          DX.dims['TIME'], DX.dims['SAMPLE']))\n",
    "    print('Ocean velocity bins: %i.'%(DX.dims['bins']))"
   ]
  },
  {
   "cell_type": "code",
   "execution_count": null,
   "id": "0a64ef7d",
   "metadata": {},
   "outputs": [],
   "source": [
    "#### Have a look at the altimeter record"
   ]
  },
  {
   "cell_type": "code",
   "execution_count": null,
   "id": "32f673b4",
   "metadata": {},
   "outputs": [],
   "source": [
    "DX.caonf"
   ]
  },
  {
   "cell_type": "code",
   "execution_count": null,
   "id": "5a84ca37",
   "metadata": {},
   "outputs": [],
   "source": [
    "overview(DX)"
   ]
  },
  {
   "cell_type": "code",
   "execution_count": null,
   "id": "bd6b7387",
   "metadata": {},
   "outputs": [],
   "source": [
    "num2date(DX.TIME[0])"
   ]
  },
  {
   "cell_type": "code",
   "execution_count": null,
   "id": "4dc82ff2",
   "metadata": {},
   "outputs": [],
   "source": [
    "DX = sig_funcs.matfiles_to_dataset(flist, reshape = False)"
   ]
  },
  {
   "cell_type": "code",
   "execution_count": null,
   "id": "5144f135",
   "metadata": {},
   "outputs": [],
   "source": [
    "DXX = sig_funcs.reshape_ensembles(DX)"
   ]
  },
  {
   "cell_type": "code",
   "execution_count": null,
   "id": "4db0f1e0",
   "metadata": {},
   "outputs": [],
   "source": [
    "os.chdir('../testing/basic_test/')"
   ]
  },
  {
   "cell_type": "code",
   "execution_count": null,
   "id": "5dc552c6",
   "metadata": {},
   "outputs": [],
   "source": [
    "ls"
   ]
  },
  {
   "cell_type": "code",
   "execution_count": null,
   "id": "c7ac377c",
   "metadata": {},
   "outputs": [],
   "source": [
    "DX"
   ]
  },
  {
   "cell_type": "code",
   "execution_count": null,
   "id": "a4f26292",
   "metadata": {},
   "outputs": [],
   "source": [
    "mean_FOM = DX[nm].mean(axis = 1)\n"
   ]
  },
  {
   "cell_type": "code",
   "execution_count": null,
   "id": "68c454df",
   "metadata": {},
   "outputs": [],
   "source": [
    "sl = slice(None, None, 100)\n",
    "fig, ax = plt.subplots(4, 1, sharex = True, sharey = True)\n",
    "for nn in np.arange(1, 5):\n",
    "    nm = 'AverageIce_FOMBeam%i'%nn\n",
    "    mean_FOM = DX[nm].mean(axis = 1)\n",
    "    ax[nn-1].hist(mean_FOM/ mean_FOM.max(), 25, alpha = 0.8, )"
   ]
  },
  {
   "cell_type": "code",
   "execution_count": null,
   "id": "bbb83ca4",
   "metadata": {},
   "outputs": [],
   "source": [
    "sl = slice(None, None, 100)\n",
    "fig, ax = plt.subplots()\n",
    "for nn in np.arange(1, 5):\n",
    "    nm = 'AverageIce_FOMBeam%i'%nn\n",
    "    ax.plot(DX[nm].to_numpy().flatten()[sl]/ DX[nm].to_numpy().flatten()[sl].max()+(nn-1)*1.1, 'o', alpha = 0.1)"
   ]
  },
  {
   "cell_type": "code",
   "execution_count": null,
   "id": "c9ff9e42",
   "metadata": {},
   "outputs": [],
   "source": [
    "sl = slice(10000, 10100)\n",
    "fig, ax = plt.subplots()\n",
    "ax.hist(DX.AverageIce_FOMBeam1.to_numpy().flatten(), 1000)"
   ]
  },
  {
   "cell_type": "code",
   "execution_count": null,
   "id": "0f898dae",
   "metadata": {},
   "outputs": [],
   "source": [
    "ice_class_FOM(DX, threshold = 500)"
   ]
  },
  {
   "cell_type": "code",
   "execution_count": null,
   "id": "955c7571",
   "metadata": {},
   "outputs": [],
   "source": [
    "sl = slice(10000, 10100)\n",
    "fig, ax = plt.subplots()\n",
    "ax.plot(DX.to_array())"
   ]
  },
  {
   "cell_type": "code",
   "execution_count": null,
   "id": "777c15e7",
   "metadata": {},
   "outputs": [],
   "source": []
  },
  {
   "cell_type": "code",
   "execution_count": null,
   "id": "f5428b7d",
   "metadata": {},
   "outputs": [],
   "source": []
  },
  {
   "cell_type": "code",
   "execution_count": null,
   "id": "a8108a05",
   "metadata": {},
   "outputs": [],
   "source": [
    "def ice_class_from_FOM(DX, FOM_thr = 300)"
   ]
  }
 ],
 "metadata": {
  "kernelspec": {
   "display_name": "Python [conda env:oyv] *",
   "language": "python",
   "name": "conda-env-oyv-py"
  },
  "language_info": {
   "codemirror_mode": {
    "name": "ipython",
    "version": 3
   },
   "file_extension": ".py",
   "mimetype": "text/x-python",
   "name": "python",
   "nbconvert_exporter": "python",
   "pygments_lexer": "ipython3",
   "version": "3.8.2"
  }
 },
 "nbformat": 4,
 "nbformat_minor": 5
}
